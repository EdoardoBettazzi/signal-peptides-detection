{
  "nbformat": 4,
  "nbformat_minor": 0,
  "metadata": {
    "colab": {
      "provenance": [],
      "collapsed_sections": [
        "trZ3I6DoQ66D",
        "wlSXbsLs2vOG",
        "2TuCVOSKr7jI",
        "Po6YxCBPRru6",
        "XeqA79YeYYHP",
        "EcG9jxMkYaCx",
        "oaDW5zCLhkU6",
        "ffmEtODaOQcx",
        "2s0di9o56pMZ",
        "jA0xPbsoFuJb",
        "IADye7zxG7ye",
        "vdn-j59GLfO9",
        "_vh0OpoyLv3g",
        "BGNifTI8MoD1",
        "KuW3-tldOjc4",
        "lmXxdUhp1Rez",
        "aVVdye0L6IDf",
        "RzryYRJpIkFb",
        "ffrVadvgI0Pp",
        "Afa2I71KTDXB",
        "vdAmTy3QhHuH",
        "w-4ItRzPhJsO",
        "J-iV7eZeDrUv",
        "AQB83ATpy8IT"
      ]
    },
    "kernelspec": {
      "name": "python3",
      "display_name": "Python 3"
    },
    "language_info": {
      "name": "python"
    }
  },
  "cells": [
    {
      "cell_type": "markdown",
      "source": [
        "## Dependencies"
      ],
      "metadata": {
        "id": "trZ3I6DoQ66D"
      }
    },
    {
      "cell_type": "code",
      "execution_count": null,
      "metadata": {
        "id": "8GScgQ4HQ4aF",
        "colab": {
          "base_uri": "https://localhost:8080/"
        },
        "outputId": "8196a85d-68e3-42c0-c9a7-cc0666142885"
      },
      "outputs": [
        {
          "output_type": "stream",
          "name": "stdout",
          "text": [
            "Looking in indexes: https://pypi.org/simple, https://us-python.pkg.dev/colab-wheels/public/simple/\n",
            "Collecting dataframe_image\n",
            "  Downloading dataframe_image-0.1.3-py3-none-any.whl (6.6 MB)\n",
            "\u001b[K     |████████████████████████████████| 6.6 MB 5.1 MB/s \n",
            "\u001b[?25hRequirement already satisfied: matplotlib>=3.1 in /usr/local/lib/python3.8/dist-packages (from dataframe_image) (3.2.2)\n",
            "Requirement already satisfied: packaging in /usr/local/lib/python3.8/dist-packages (from dataframe_image) (21.3)\n",
            "Requirement already satisfied: aiohttp in /usr/local/lib/python3.8/dist-packages (from dataframe_image) (3.8.3)\n",
            "Requirement already satisfied: nbconvert>=5 in /usr/local/lib/python3.8/dist-packages (from dataframe_image) (5.6.1)\n",
            "Requirement already satisfied: beautifulsoup4 in /usr/local/lib/python3.8/dist-packages (from dataframe_image) (4.6.3)\n",
            "Requirement already satisfied: mistune in /usr/local/lib/python3.8/dist-packages (from dataframe_image) (0.8.4)\n",
            "Requirement already satisfied: requests in /usr/local/lib/python3.8/dist-packages (from dataframe_image) (2.23.0)\n",
            "Requirement already satisfied: pandas>=0.24 in /usr/local/lib/python3.8/dist-packages (from dataframe_image) (1.3.5)\n",
            "Requirement already satisfied: cycler>=0.10 in /usr/local/lib/python3.8/dist-packages (from matplotlib>=3.1->dataframe_image) (0.11.0)\n",
            "Requirement already satisfied: kiwisolver>=1.0.1 in /usr/local/lib/python3.8/dist-packages (from matplotlib>=3.1->dataframe_image) (1.4.4)\n",
            "Requirement already satisfied: pyparsing!=2.0.4,!=2.1.2,!=2.1.6,>=2.0.1 in /usr/local/lib/python3.8/dist-packages (from matplotlib>=3.1->dataframe_image) (3.0.9)\n",
            "Requirement already satisfied: numpy>=1.11 in /usr/local/lib/python3.8/dist-packages (from matplotlib>=3.1->dataframe_image) (1.21.6)\n",
            "Requirement already satisfied: python-dateutil>=2.1 in /usr/local/lib/python3.8/dist-packages (from matplotlib>=3.1->dataframe_image) (2.8.2)\n",
            "Requirement already satisfied: nbformat>=4.4 in /usr/local/lib/python3.8/dist-packages (from nbconvert>=5->dataframe_image) (5.7.0)\n",
            "Requirement already satisfied: testpath in /usr/local/lib/python3.8/dist-packages (from nbconvert>=5->dataframe_image) (0.6.0)\n",
            "Requirement already satisfied: pygments in /usr/local/lib/python3.8/dist-packages (from nbconvert>=5->dataframe_image) (2.6.1)\n",
            "Requirement already satisfied: bleach in /usr/local/lib/python3.8/dist-packages (from nbconvert>=5->dataframe_image) (5.0.1)\n",
            "Requirement already satisfied: traitlets>=4.2 in /usr/local/lib/python3.8/dist-packages (from nbconvert>=5->dataframe_image) (5.6.0)\n",
            "Requirement already satisfied: pandocfilters>=1.4.1 in /usr/local/lib/python3.8/dist-packages (from nbconvert>=5->dataframe_image) (1.5.0)\n",
            "Requirement already satisfied: entrypoints>=0.2.2 in /usr/local/lib/python3.8/dist-packages (from nbconvert>=5->dataframe_image) (0.4)\n",
            "Requirement already satisfied: defusedxml in /usr/local/lib/python3.8/dist-packages (from nbconvert>=5->dataframe_image) (0.7.1)\n",
            "Requirement already satisfied: jinja2>=2.4 in /usr/local/lib/python3.8/dist-packages (from nbconvert>=5->dataframe_image) (2.11.3)\n",
            "Requirement already satisfied: jupyter-core in /usr/local/lib/python3.8/dist-packages (from nbconvert>=5->dataframe_image) (5.1.0)\n",
            "Requirement already satisfied: MarkupSafe>=0.23 in /usr/local/lib/python3.8/dist-packages (from jinja2>=2.4->nbconvert>=5->dataframe_image) (2.0.1)\n",
            "Requirement already satisfied: jsonschema>=2.6 in /usr/local/lib/python3.8/dist-packages (from nbformat>=4.4->nbconvert>=5->dataframe_image) (4.3.3)\n",
            "Requirement already satisfied: fastjsonschema in /usr/local/lib/python3.8/dist-packages (from nbformat>=4.4->nbconvert>=5->dataframe_image) (2.16.2)\n",
            "Requirement already satisfied: attrs>=17.4.0 in /usr/local/lib/python3.8/dist-packages (from jsonschema>=2.6->nbformat>=4.4->nbconvert>=5->dataframe_image) (22.1.0)\n",
            "Requirement already satisfied: importlib-resources>=1.4.0 in /usr/local/lib/python3.8/dist-packages (from jsonschema>=2.6->nbformat>=4.4->nbconvert>=5->dataframe_image) (5.10.0)\n",
            "Requirement already satisfied: pyrsistent!=0.17.0,!=0.17.1,!=0.17.2,>=0.14.0 in /usr/local/lib/python3.8/dist-packages (from jsonschema>=2.6->nbformat>=4.4->nbconvert>=5->dataframe_image) (0.19.2)\n",
            "Requirement already satisfied: zipp>=3.1.0 in /usr/local/lib/python3.8/dist-packages (from importlib-resources>=1.4.0->jsonschema>=2.6->nbformat>=4.4->nbconvert>=5->dataframe_image) (3.11.0)\n",
            "Requirement already satisfied: pytz>=2017.3 in /usr/local/lib/python3.8/dist-packages (from pandas>=0.24->dataframe_image) (2022.6)\n",
            "Requirement already satisfied: six>=1.5 in /usr/local/lib/python3.8/dist-packages (from python-dateutil>=2.1->matplotlib>=3.1->dataframe_image) (1.15.0)\n",
            "Requirement already satisfied: yarl<2.0,>=1.0 in /usr/local/lib/python3.8/dist-packages (from aiohttp->dataframe_image) (1.8.2)\n",
            "Requirement already satisfied: charset-normalizer<3.0,>=2.0 in /usr/local/lib/python3.8/dist-packages (from aiohttp->dataframe_image) (2.1.1)\n",
            "Requirement already satisfied: frozenlist>=1.1.1 in /usr/local/lib/python3.8/dist-packages (from aiohttp->dataframe_image) (1.3.3)\n",
            "Requirement already satisfied: multidict<7.0,>=4.5 in /usr/local/lib/python3.8/dist-packages (from aiohttp->dataframe_image) (6.0.3)\n",
            "Requirement already satisfied: aiosignal>=1.1.2 in /usr/local/lib/python3.8/dist-packages (from aiohttp->dataframe_image) (1.3.1)\n",
            "Requirement already satisfied: async-timeout<5.0,>=4.0.0a3 in /usr/local/lib/python3.8/dist-packages (from aiohttp->dataframe_image) (4.0.2)\n",
            "Requirement already satisfied: idna>=2.0 in /usr/local/lib/python3.8/dist-packages (from yarl<2.0,>=1.0->aiohttp->dataframe_image) (2.10)\n",
            "Requirement already satisfied: webencodings in /usr/local/lib/python3.8/dist-packages (from bleach->nbconvert>=5->dataframe_image) (0.5.1)\n",
            "Requirement already satisfied: platformdirs>=2.5 in /usr/local/lib/python3.8/dist-packages (from jupyter-core->nbconvert>=5->dataframe_image) (2.5.4)\n",
            "Requirement already satisfied: urllib3!=1.25.0,!=1.25.1,<1.26,>=1.21.1 in /usr/local/lib/python3.8/dist-packages (from requests->dataframe_image) (1.24.3)\n",
            "Requirement already satisfied: certifi>=2017.4.17 in /usr/local/lib/python3.8/dist-packages (from requests->dataframe_image) (2022.9.24)\n",
            "Requirement already satisfied: chardet<4,>=3.0.2 in /usr/local/lib/python3.8/dist-packages (from requests->dataframe_image) (3.0.4)\n",
            "Installing collected packages: dataframe-image\n",
            "Successfully installed dataframe-image-0.1.3\n",
            "Reading package lists... Done\n",
            "Building dependency tree       \n",
            "Reading state information... Done\n",
            "The following package was automatically installed and is no longer required:\n",
            "  libnvidia-common-460\n",
            "Use 'apt autoremove' to remove it.\n",
            "The following additional packages will be installed:\n",
            "  chromium-browser chromium-browser-l10n chromium-codecs-ffmpeg-extra\n",
            "Suggested packages:\n",
            "  webaccounts-chromium-extension unity-chromium-extension\n",
            "The following NEW packages will be installed:\n",
            "  chromium-browser chromium-browser-l10n chromium-chromedriver\n",
            "  chromium-codecs-ffmpeg-extra\n",
            "0 upgraded, 4 newly installed, 0 to remove and 20 not upgraded.\n",
            "Need to get 95.6 MB of archives.\n",
            "After this operation, 321 MB of additional disk space will be used.\n",
            "Get:1 http://archive.ubuntu.com/ubuntu bionic-updates/universe amd64 chromium-codecs-ffmpeg-extra amd64 108.0.5359.71-0ubuntu0.18.04.5 [1,159 kB]\n",
            "Get:2 http://archive.ubuntu.com/ubuntu bionic-updates/universe amd64 chromium-browser amd64 108.0.5359.71-0ubuntu0.18.04.5 [83.6 MB]\n",
            "Get:3 http://archive.ubuntu.com/ubuntu bionic-updates/universe amd64 chromium-browser-l10n all 108.0.5359.71-0ubuntu0.18.04.5 [5,230 kB]\n",
            "Get:4 http://archive.ubuntu.com/ubuntu bionic-updates/universe amd64 chromium-chromedriver amd64 108.0.5359.71-0ubuntu0.18.04.5 [5,594 kB]\n",
            "Fetched 95.6 MB in 2s (46.8 MB/s)\n",
            "Selecting previously unselected package chromium-codecs-ffmpeg-extra.\n",
            "(Reading database ... 124013 files and directories currently installed.)\n",
            "Preparing to unpack .../chromium-codecs-ffmpeg-extra_108.0.5359.71-0ubuntu0.18.04.5_amd64.deb ...\n",
            "Unpacking chromium-codecs-ffmpeg-extra (108.0.5359.71-0ubuntu0.18.04.5) ...\n",
            "Selecting previously unselected package chromium-browser.\n",
            "Preparing to unpack .../chromium-browser_108.0.5359.71-0ubuntu0.18.04.5_amd64.deb ...\n",
            "Unpacking chromium-browser (108.0.5359.71-0ubuntu0.18.04.5) ...\n",
            "Selecting previously unselected package chromium-browser-l10n.\n",
            "Preparing to unpack .../chromium-browser-l10n_108.0.5359.71-0ubuntu0.18.04.5_all.deb ...\n",
            "Unpacking chromium-browser-l10n (108.0.5359.71-0ubuntu0.18.04.5) ...\n",
            "Selecting previously unselected package chromium-chromedriver.\n",
            "Preparing to unpack .../chromium-chromedriver_108.0.5359.71-0ubuntu0.18.04.5_amd64.deb ...\n",
            "Unpacking chromium-chromedriver (108.0.5359.71-0ubuntu0.18.04.5) ...\n",
            "Setting up chromium-codecs-ffmpeg-extra (108.0.5359.71-0ubuntu0.18.04.5) ...\n",
            "Setting up chromium-browser (108.0.5359.71-0ubuntu0.18.04.5) ...\n",
            "update-alternatives: using /usr/bin/chromium-browser to provide /usr/bin/x-www-browser (x-www-browser) in auto mode\n",
            "update-alternatives: using /usr/bin/chromium-browser to provide /usr/bin/gnome-www-browser (gnome-www-browser) in auto mode\n",
            "Setting up chromium-chromedriver (108.0.5359.71-0ubuntu0.18.04.5) ...\n",
            "Setting up chromium-browser-l10n (108.0.5359.71-0ubuntu0.18.04.5) ...\n",
            "Processing triggers for man-db (2.8.3-2ubuntu0.1) ...\n",
            "Processing triggers for hicolor-icon-theme (0.17-2) ...\n",
            "Processing triggers for mime-support (3.60ubuntu1) ...\n",
            "Processing triggers for libc-bin (2.27-3ubuntu1.6) ...\n"
          ]
        }
      ],
      "source": [
        "# To save pandas DataFrame as image\n",
        "! pip install dataframe_image\n",
        "# For Ubuntu compatibility with the dataframe_image library\n",
        "! apt install chromium-chromedriver\n",
        "\n",
        "import dataframe_image as dfi\n",
        "from google.colab import files\n",
        "import matplotlib as mpl\n",
        "import matplotlib.pyplot as plt\n",
        "mpl.rc('axes', labelsize=14)\n",
        "mpl.rc('xtick', labelsize=12)\n",
        "mpl.rc('ytick', labelsize=12)\n",
        "%matplotlib inline\n",
        "import numpy as np\n",
        "import os, sys, math\n",
        "import pandas as pd\n",
        "import seaborn as sns\n",
        "\n",
        "# Von Heijne\n",
        "from sklearn.metrics import precision_recall_curve\n",
        "from sklearn.preprocessing import OneHotEncoder\n",
        "\n",
        "# SVM\n",
        "from sklearn.metrics import classification_report\n",
        "from sklearn.metrics import confusion_matrix\n",
        "from sklearn.metrics import make_scorer\n",
        "from sklearn.model_selection import GridSearchCV\n",
        "from sklearn.model_selection import PredefinedSplit\n",
        "from sklearn.svm import SVC"
      ]
    },
    {
      "cell_type": "markdown",
      "source": [
        "## Helper functions"
      ],
      "metadata": {
        "id": "wlSXbsLs2vOG"
      }
    },
    {
      "cell_type": "markdown",
      "source": [
        "### Parsing JSON files to retrieve sequences"
      ],
      "metadata": {
        "id": "2TuCVOSKr7jI"
      }
    },
    {
      "cell_type": "code",
      "source": [
        "import re\n",
        "import time\n",
        "import json\n",
        "import zlib\n",
        "from xml.etree import ElementTree\n",
        "from urllib.parse import urlparse, parse_qs, urlencode\n",
        "import requests\n",
        "from requests.adapters import HTTPAdapter, Retry\n",
        "\n",
        "\n",
        "POLLING_INTERVAL = 3\n",
        "API_URL = \"https://rest.uniprot.org\"\n",
        "\n",
        "\n",
        "retries = Retry(total=5, backoff_factor=0.25, status_forcelist=[500, 502, 503, 504])\n",
        "session = requests.Session()\n",
        "session.mount(\"https://\", HTTPAdapter(max_retries=retries))"
      ],
      "metadata": {
        "id": "GJu0ydcvspaI"
      },
      "execution_count": null,
      "outputs": []
    },
    {
      "cell_type": "code",
      "source": [
        "def check_response(response):\n",
        "    try:\n",
        "        response.raise_for_status()\n",
        "    except requests.HTTPError:\n",
        "        print(response.json())\n",
        "        raise\n",
        "\n",
        "\n",
        "def submit_id_mapping(from_db, to_db, ids):\n",
        "    request = requests.post(\n",
        "        f\"{API_URL}/idmapping/run\",\n",
        "        data={\"from\": from_db, \"to\": to_db, \"ids\": \",\".join(ids)},\n",
        "    )\n",
        "    check_response(request)\n",
        "    return request.json()[\"jobId\"]\n",
        "\n",
        "\n",
        "def get_next_link(headers):\n",
        "    re_next_link = re.compile(r'<(.+)>; rel=\"next\"')\n",
        "    if \"Link\" in headers:\n",
        "        match = re_next_link.match(headers[\"Link\"])\n",
        "        if match:\n",
        "            return match.group(1)\n",
        "\n",
        "\n",
        "def check_id_mapping_results_ready(job_id):\n",
        "    while True:\n",
        "        request = session.get(f\"{API_URL}/idmapping/status/{job_id}\")\n",
        "        check_response(request)\n",
        "        j = request.json()\n",
        "        if \"jobStatus\" in j:\n",
        "            if j[\"jobStatus\"] == \"RUNNING\":\n",
        "                print(f\"Retrying in {POLLING_INTERVAL}s\")\n",
        "                time.sleep(POLLING_INTERVAL)\n",
        "            else:\n",
        "                raise Exception(j[\"jobStatus\"])\n",
        "        else:\n",
        "            return bool(j[\"results\"] or j[\"failedIds\"])\n",
        "\n",
        "\n",
        "def get_batch(batch_response, file_format, compressed):\n",
        "    batch_url = get_next_link(batch_response.headers)\n",
        "    while batch_url:\n",
        "        batch_response = session.get(batch_url)\n",
        "        batch_response.raise_for_status()\n",
        "        yield decode_results(batch_response, file_format, compressed)\n",
        "        batch_url = get_next_link(batch_response.headers)\n",
        "\n",
        "\n",
        "def combine_batches(all_results, batch_results, file_format):\n",
        "    if file_format == \"json\":\n",
        "        for key in (\"results\", \"failedIds\"):\n",
        "            if key in batch_results and batch_results[key]:\n",
        "                all_results[key] += batch_results[key]\n",
        "    elif file_format == \"tsv\":\n",
        "        return all_results + batch_results[1:]\n",
        "    else:\n",
        "        return all_results + batch_results\n",
        "    return all_results\n",
        "\n",
        "\n",
        "def get_id_mapping_results_link(job_id):\n",
        "    url = f\"{API_URL}/idmapping/details/{job_id}\"\n",
        "    request = session.get(url)\n",
        "    check_response(request)\n",
        "    return request.json()[\"redirectURL\"]\n",
        "\n",
        "\n",
        "def decode_results(response, file_format, compressed):\n",
        "    if compressed:\n",
        "        decompressed = zlib.decompress(response.content, 16 + zlib.MAX_WBITS)\n",
        "        if file_format == \"json\":\n",
        "            j = json.loads(decompressed.decode(\"utf-8\"))\n",
        "            return j\n",
        "        elif file_format == \"tsv\":\n",
        "            return [line for line in decompressed.decode(\"utf-8\").split(\"\\n\") if line]\n",
        "        elif file_format == \"xlsx\":\n",
        "            return [decompressed]\n",
        "        elif file_format == \"xml\":\n",
        "            return [decompressed.decode(\"utf-8\")]\n",
        "        else:\n",
        "            return decompressed.decode(\"utf-8\")\n",
        "    elif file_format == \"json\":\n",
        "        return response.json()\n",
        "    elif file_format == \"tsv\":\n",
        "        return [line for line in response.text.split(\"\\n\") if line]\n",
        "    elif file_format == \"xlsx\":\n",
        "        return [response.content]\n",
        "    elif file_format == \"xml\":\n",
        "        return [response.text]\n",
        "    return response.text\n",
        "\n",
        "\n",
        "def get_xml_namespace(element):\n",
        "    m = re.match(r\"\\{(.*)\\}\", element.tag)\n",
        "    return m.groups()[0] if m else \"\"\n",
        "\n",
        "\n",
        "def merge_xml_results(xml_results):\n",
        "    merged_root = ElementTree.fromstring(xml_results[0])\n",
        "    for result in xml_results[1:]:\n",
        "        root = ElementTree.fromstring(result)\n",
        "        for child in root.findall(\"{http://uniprot.org/uniprot}entry\"):\n",
        "            merged_root.insert(-1, child)\n",
        "    ElementTree.register_namespace(\"\", get_xml_namespace(merged_root[0]))\n",
        "    return ElementTree.tostring(merged_root, encoding=\"utf-8\", xml_declaration=True)\n",
        "\n",
        "\n",
        "def print_progress_batches(batch_index, size, total):\n",
        "    n_fetched = min((batch_index + 1) * size, total)\n",
        "    print(f\"Fetched: {n_fetched} / {total}\")\n",
        "\n",
        "\n",
        "def get_id_mapping_results_search(url):\n",
        "    parsed = urlparse(url)\n",
        "    query = parse_qs(parsed.query)\n",
        "    file_format = query[\"format\"][0] if \"format\" in query else \"json\"\n",
        "    if \"size\" in query:\n",
        "        size = int(query[\"size\"][0])\n",
        "    else:\n",
        "        size = 500\n",
        "        query[\"size\"] = size\n",
        "    compressed = (\n",
        "        query[\"compressed\"][0].lower() == \"true\" if \"compressed\" in query else False\n",
        "    )\n",
        "    parsed = parsed._replace(query=urlencode(query, doseq=True))\n",
        "    url = parsed.geturl()\n",
        "    request = session.get(url)\n",
        "    check_response(request)\n",
        "    results = decode_results(request, file_format, compressed)\n",
        "    total = int(request.headers[\"x-total-results\"])\n",
        "    print_progress_batches(0, size, total)\n",
        "    for i, batch in enumerate(get_batch(request, file_format, compressed), 1):\n",
        "        results = combine_batches(results, batch, file_format)\n",
        "        print_progress_batches(i, size, total)\n",
        "    if file_format == \"xml\":\n",
        "        return merge_xml_results(results)\n",
        "    return results\n",
        "\n",
        "\n",
        "def get_id_mapping_results_stream(url):\n",
        "    if \"/stream/\" not in url:\n",
        "        url = url.replace(\"/results/\", \"/results/stream/\")\n",
        "    request = session.get(url)\n",
        "    check_response(request)\n",
        "    parsed = urlparse(url)\n",
        "    query = parse_qs(parsed.query)\n",
        "    file_format = query[\"format\"][0] if \"format\" in query else \"json\"\n",
        "    compressed = (\n",
        "        query[\"compressed\"][0].lower() == \"true\" if \"compressed\" in query else False\n",
        "    )\n",
        "    return decode_results(request, file_format, compressed)"
      ],
      "metadata": {
        "id": "R9RADvUutBCT"
      },
      "execution_count": null,
      "outputs": []
    },
    {
      "cell_type": "code",
      "source": [
        "def json_parser(IDs):\n",
        "\n",
        "    alphaH = 0      #alpha helix\n",
        "    TPT = 0         #Transit peptides (total)\n",
        "    transits_loc = [0,0,0]   #0 for mithocondrion, 1 for Chloroplast, 2 for Peroxosome\n",
        "\n",
        "    #Download the json dictionary for each protein ID\n",
        "    job_id = submit_id_mapping(\n",
        "    from_db=\"UniProtKB_AC-ID\", to_db=\"UniProtKB\", ids=IDs\n",
        "    )\n",
        "    if check_id_mapping_results_ready(job_id):\n",
        "        link = get_id_mapping_results_link(job_id)\n",
        "        results = get_id_mapping_results_search(link)\n",
        "        # Equivalently using the stream endpoint which is more demanding\n",
        "        # on the API and so is less stable:\n",
        "        # results = get_id_mapping_results_stream(link)\n",
        "\n",
        "    eco_codes = [\"ECO:0000269\",\" ECO:0000303\",\"ECO:0000305\",\" ECO:0000250\",\"ECO:0000255\",\"ECO:0000312\",\"ECO:0007744\"]\n",
        "    res = results['results']\n",
        "    for protein in res:\n",
        "          #Check for transit peptides\n",
        "          if protein[\"to\"].get(\"features\") is None: continue\n",
        "          for feat in protein[\"to\"][\"features\"]:\n",
        "              if feat[\"type\"] == \"Transit peptide\":\n",
        "                  if feat.get(\"evidences\") is not None: \n",
        "                      for eco in feat[\"evidences\"]:\n",
        "                          if eco.get(\"evidenceCode\") is not None:\n",
        "                              if eco[\"evidenceCode\"] in eco_codes:\n",
        "                                  TPT += 1\n",
        "                                  skip = \"add\"\n",
        "                              else:\n",
        "                                  skip = \"pass\"\n",
        "\n",
        "\n",
        "                  #Check for tp to specific locations\n",
        "                  for i,loc in enumerate([\"Mitochondrion\",\"Chloroplast\",\"Peroxisome\"]):\n",
        "                      if loc in feat[\"description\"]  and skip == \"add\":\n",
        "                          transits_loc[i] += 1\n",
        "                          break\n",
        "                      elif feat[\"description\"] == \"Chloroplast and mitochondrion\" and skip == \"add\":\n",
        "                          transits_loc[0] += 1\n",
        "                          transits_loc[1] += 1\n",
        "                          break\n",
        "\n",
        "              #Check for Transmembrane domains within the first 50 residues\n",
        "              if feat.get(\"location\") is None: continue            \n",
        "              if feat[\"type\"] == \"Transmembrane\":\n",
        "                  if int(feat['location'][\"end\"][\"value\"]) <= 50:\n",
        "                      if feat.get(\"evidences\") is not None: \n",
        "                          for eco in feat[\"evidences\"]:\n",
        "                              if eco.get(\"evidenceCode\") is not None:\n",
        "                                  if eco[\"evidenceCode\"] in eco_codes:\n",
        "                                      alphaH += 1\n",
        "        \n",
        "    return [alphaH,TPT,transits_loc[0],transits_loc[1],transits_loc[2]]"
      ],
      "metadata": {
        "id": "msdqKuk0MYLB"
      },
      "execution_count": null,
      "outputs": []
    },
    {
      "cell_type": "markdown",
      "source": [
        "## Import datasets"
      ],
      "metadata": {
        "id": "gIZhToUjRbLY"
      }
    },
    {
      "cell_type": "code",
      "source": [
        "!wget -O benchmark_set.tsv https://www.dropbox.com/s/c6ul6y8ti7vul61/benchmark_set.tsv?dl=0\n",
        "!wget -O training_set.tsv https://www.dropbox.com/s/7y0ua5fkjfby8xg/training_set.tsv?dl=0\n",
        "!gdown --id 1vtwDf1VUcv7vPhch8kN3j5DnzQ7hnk2M"
      ],
      "metadata": {
        "colab": {
          "base_uri": "https://localhost:8080/"
        },
        "id": "VjKvN5o2RZz0",
        "outputId": "f42a6172-6bac-4175-a085-672372801dad"
      },
      "execution_count": null,
      "outputs": [
        {
          "output_type": "stream",
          "name": "stdout",
          "text": [
            "--2022-12-10 16:09:46--  https://www.dropbox.com/s/c6ul6y8ti7vul61/benchmark_set.tsv?dl=0\n",
            "Resolving www.dropbox.com (www.dropbox.com)... 162.125.8.18, 2620:100:6018:18::a27d:312\n",
            "Connecting to www.dropbox.com (www.dropbox.com)|162.125.8.18|:443... connected.\n",
            "HTTP request sent, awaiting response... 302 Found\n",
            "Location: /s/raw/c6ul6y8ti7vul61/benchmark_set.tsv [following]\n",
            "--2022-12-10 16:09:47--  https://www.dropbox.com/s/raw/c6ul6y8ti7vul61/benchmark_set.tsv\n",
            "Reusing existing connection to www.dropbox.com:443.\n",
            "HTTP request sent, awaiting response... 302 Found\n",
            "Location: https://ucd93d57ceb4318b76dd0b17181e.dl.dropboxusercontent.com/cd/0/inline/ByXXQk769lV3OFHzhvec_Y61T0m99_ZSJ-52w9S1fg2MMgjHNip6BTNfmBRJ4iBrh_KksFf-esunR_3rwSIq7vNWCtNUtOsUANec-ta3zCqXxXtsLFyqEQNeYmRov39deL2LeSKWbkpiu1JCLcjVfAkStjfiwP52HEKSbVRMJ7cmEw/file# [following]\n",
            "--2022-12-10 16:09:47--  https://ucd93d57ceb4318b76dd0b17181e.dl.dropboxusercontent.com/cd/0/inline/ByXXQk769lV3OFHzhvec_Y61T0m99_ZSJ-52w9S1fg2MMgjHNip6BTNfmBRJ4iBrh_KksFf-esunR_3rwSIq7vNWCtNUtOsUANec-ta3zCqXxXtsLFyqEQNeYmRov39deL2LeSKWbkpiu1JCLcjVfAkStjfiwP52HEKSbVRMJ7cmEw/file\n",
            "Resolving ucd93d57ceb4318b76dd0b17181e.dl.dropboxusercontent.com (ucd93d57ceb4318b76dd0b17181e.dl.dropboxusercontent.com)... 162.125.4.15, 2620:100:601b:15::a27d:80f\n",
            "Connecting to ucd93d57ceb4318b76dd0b17181e.dl.dropboxusercontent.com (ucd93d57ceb4318b76dd0b17181e.dl.dropboxusercontent.com)|162.125.4.15|:443... connected.\n",
            "HTTP request sent, awaiting response... 200 OK\n",
            "Length: 1204292 (1.1M) [text/plain]\n",
            "Saving to: ‘benchmark_set.tsv’\n",
            "\n",
            "benchmark_set.tsv   100%[===================>]   1.15M  4.69MB/s    in 0.2s    \n",
            "\n",
            "2022-12-10 16:09:48 (4.69 MB/s) - ‘benchmark_set.tsv’ saved [1204292/1204292]\n",
            "\n",
            "--2022-12-10 16:09:48--  https://www.dropbox.com/s/7y0ua5fkjfby8xg/training_set.tsv?dl=0\n",
            "Resolving www.dropbox.com (www.dropbox.com)... 162.125.8.18, 2620:100:6018:18::a27d:312\n",
            "Connecting to www.dropbox.com (www.dropbox.com)|162.125.8.18|:443... connected.\n",
            "HTTP request sent, awaiting response... 302 Found\n",
            "Location: /s/raw/7y0ua5fkjfby8xg/training_set.tsv [following]\n",
            "--2022-12-10 16:09:48--  https://www.dropbox.com/s/raw/7y0ua5fkjfby8xg/training_set.tsv\n",
            "Reusing existing connection to www.dropbox.com:443.\n",
            "HTTP request sent, awaiting response... 302 Found\n",
            "Location: https://uc3c95bf138fb338d6272e3c84b5.dl.dropboxusercontent.com/cd/0/inline/ByUhCqAMOGWVUDpv0WUqN5ux0YCoNe2Kx308PPnZC1Ox_TOpCW9le4HDOnEKILa5GCH0q7tB_Cd-z3sA9gLTKp5TDlz8w9XFhNxK_EaqjZOYnjF0GoTyOlxBc5vD6CM_UTw4pJHanH6LBzrWEceJiIAfjt8mJ0TYhFChQKTl1tUdSg/file# [following]\n",
            "--2022-12-10 16:09:48--  https://uc3c95bf138fb338d6272e3c84b5.dl.dropboxusercontent.com/cd/0/inline/ByUhCqAMOGWVUDpv0WUqN5ux0YCoNe2Kx308PPnZC1Ox_TOpCW9le4HDOnEKILa5GCH0q7tB_Cd-z3sA9gLTKp5TDlz8w9XFhNxK_EaqjZOYnjF0GoTyOlxBc5vD6CM_UTw4pJHanH6LBzrWEceJiIAfjt8mJ0TYhFChQKTl1tUdSg/file\n",
            "Resolving uc3c95bf138fb338d6272e3c84b5.dl.dropboxusercontent.com (uc3c95bf138fb338d6272e3c84b5.dl.dropboxusercontent.com)... 162.125.4.15, 2620:100:601b:15::a27d:80f\n",
            "Connecting to uc3c95bf138fb338d6272e3c84b5.dl.dropboxusercontent.com (uc3c95bf138fb338d6272e3c84b5.dl.dropboxusercontent.com)|162.125.4.15|:443... connected.\n",
            "HTTP request sent, awaiting response... 200 OK\n",
            "Length: 282050 (275K) [text/plain]\n",
            "Saving to: ‘training_set.tsv’\n",
            "\n",
            "training_set.tsv    100%[===================>] 275.44K  1.67MB/s    in 0.2s    \n",
            "\n",
            "2022-12-10 16:09:49 (1.67 MB/s) - ‘training_set.tsv’ saved [282050/282050]\n",
            "\n",
            "/usr/local/lib/python3.8/dist-packages/gdown/cli.py:127: FutureWarning: Option `--id` was deprecated in version 4.3.1 and will be removed in 5.0. You don't need to pass it anymore to use a file ID.\n",
            "  warnings.warn(\n",
            "Downloading...\n",
            "From: https://drive.google.com/uc?id=1vtwDf1VUcv7vPhch8kN3j5DnzQ7hnk2M\n",
            "To: /content/aa.txt\n",
            "100% 238/238 [00:00<00:00, 452kB/s]\n"
          ]
        }
      ]
    },
    {
      "cell_type": "markdown",
      "source": [
        "### Choose training set as input for the pipeline"
      ],
      "metadata": {
        "id": "Po6YxCBPRru6"
      }
    },
    {
      "cell_type": "code",
      "source": [
        "dataset = str(input('dataset: '))"
      ],
      "metadata": {
        "colab": {
          "base_uri": "https://localhost:8080/"
        },
        "id": "leQbjhi3Run5",
        "outputId": "e63321e9-88fd-4521-cfcd-37d94e27ced9"
      },
      "execution_count": null,
      "outputs": [
        {
          "name": "stdout",
          "output_type": "stream",
          "text": [
            "dataset: training_set.tsv\n"
          ]
        }
      ]
    },
    {
      "cell_type": "code",
      "source": [
        "df = pd.read_table(dataset)\n",
        "df.tail()"
      ],
      "metadata": {
        "colab": {
          "base_uri": "https://localhost:8080/",
          "height": 426
        },
        "id": "khQFfqmFdMO1",
        "outputId": "368fbf19-6fcf-4611-b90d-a57e4227767c"
      },
      "execution_count": null,
      "outputs": [
        {
          "output_type": "execute_result",
          "data": {
            "text/plain": [
              "     UniProtKB accession                                               Taxa  \\\n",
              "1718              P62597                            Gallus gallus (Chicken)   \n",
              "1719              Q7K4M4                Drosophila melanogaster (Fruit fly)   \n",
              "1720              Q14146                               Homo sapiens (Human)   \n",
              "1721              B2RWS6                               Mus musculus (Mouse)   \n",
              "1722              Q9P6R0  Schizosaccharomyces pombe (strain 972 / ATCC 2...   \n",
              "\n",
              "      Kingdom  Class  Cross-validation fold  \\\n",
              "1718  Metazoa  NO_SP                      4   \n",
              "1719  Metazoa  NO_SP                      4   \n",
              "1720  Metazoa  NO_SP                      4   \n",
              "1721  Metazoa  NO_SP                      4   \n",
              "1722    Fungi  NO_SP                      4   \n",
              "\n",
              "                Sequence (first 50 N-terminal residues)  \\\n",
              "1718  MPVQVLKIIKGKPETQLPSHLQREDLKHLQTGLDHTNKYFQGIVIL...   \n",
              "1719  MSKFLDMLSGSQCVSLEKCGDVVVSTNDCMIALYCHFCRDLFTQLP...   \n",
              "1720  MAAVYSGISLKLKSKTTSWEDKLKLAHFAWISHQCFLPNKEQVLLD...   \n",
              "1721  MAENVVEPGPPSAKRPKLSSPALSASASDGTDFGSLFDLEHDLPDE...   \n",
              "1722  MGCPNCGSTTFESDTASGNTYCTQCGVVVEQDAIVSEVTFGEASTG...   \n",
              "\n",
              "                            SP cleavage-site annotation  \n",
              "1718  NNNNNNNNNNNNNNNNNNNNNNNNNNNNNNNNNNNNNNNNNNNNNN...  \n",
              "1719  NNNNNNNNNNNNNNNNNNNNNNNNNNNNNNNNNNNNNNNNNNNNNN...  \n",
              "1720  NNNNNNNNNNNNNNNNNNNNNNNNNNNNNNNNNNNNNNNNNNNNNN...  \n",
              "1721  NNNNNNNNNNNNNNNNNNNNNNNNNNNNNNNNNNNNNNNNNNNNNN...  \n",
              "1722  NNNNNNNNNNNNNNNNNNNNNNNNNNNNNNNNNNNNNNNNNNNNNN...  "
            ],
            "text/html": [
              "\n",
              "  <div id=\"df-b15357be-6f47-48c5-8f82-c9b181ae0f4c\">\n",
              "    <div class=\"colab-df-container\">\n",
              "      <div>\n",
              "<style scoped>\n",
              "    .dataframe tbody tr th:only-of-type {\n",
              "        vertical-align: middle;\n",
              "    }\n",
              "\n",
              "    .dataframe tbody tr th {\n",
              "        vertical-align: top;\n",
              "    }\n",
              "\n",
              "    .dataframe thead th {\n",
              "        text-align: right;\n",
              "    }\n",
              "</style>\n",
              "<table border=\"1\" class=\"dataframe\">\n",
              "  <thead>\n",
              "    <tr style=\"text-align: right;\">\n",
              "      <th></th>\n",
              "      <th>UniProtKB accession</th>\n",
              "      <th>Taxa</th>\n",
              "      <th>Kingdom</th>\n",
              "      <th>Class</th>\n",
              "      <th>Cross-validation fold</th>\n",
              "      <th>Sequence (first 50 N-terminal residues)</th>\n",
              "      <th>SP cleavage-site annotation</th>\n",
              "    </tr>\n",
              "  </thead>\n",
              "  <tbody>\n",
              "    <tr>\n",
              "      <th>1718</th>\n",
              "      <td>P62597</td>\n",
              "      <td>Gallus gallus (Chicken)</td>\n",
              "      <td>Metazoa</td>\n",
              "      <td>NO_SP</td>\n",
              "      <td>4</td>\n",
              "      <td>MPVQVLKIIKGKPETQLPSHLQREDLKHLQTGLDHTNKYFQGIVIL...</td>\n",
              "      <td>NNNNNNNNNNNNNNNNNNNNNNNNNNNNNNNNNNNNNNNNNNNNNN...</td>\n",
              "    </tr>\n",
              "    <tr>\n",
              "      <th>1719</th>\n",
              "      <td>Q7K4M4</td>\n",
              "      <td>Drosophila melanogaster (Fruit fly)</td>\n",
              "      <td>Metazoa</td>\n",
              "      <td>NO_SP</td>\n",
              "      <td>4</td>\n",
              "      <td>MSKFLDMLSGSQCVSLEKCGDVVVSTNDCMIALYCHFCRDLFTQLP...</td>\n",
              "      <td>NNNNNNNNNNNNNNNNNNNNNNNNNNNNNNNNNNNNNNNNNNNNNN...</td>\n",
              "    </tr>\n",
              "    <tr>\n",
              "      <th>1720</th>\n",
              "      <td>Q14146</td>\n",
              "      <td>Homo sapiens (Human)</td>\n",
              "      <td>Metazoa</td>\n",
              "      <td>NO_SP</td>\n",
              "      <td>4</td>\n",
              "      <td>MAAVYSGISLKLKSKTTSWEDKLKLAHFAWISHQCFLPNKEQVLLD...</td>\n",
              "      <td>NNNNNNNNNNNNNNNNNNNNNNNNNNNNNNNNNNNNNNNNNNNNNN...</td>\n",
              "    </tr>\n",
              "    <tr>\n",
              "      <th>1721</th>\n",
              "      <td>B2RWS6</td>\n",
              "      <td>Mus musculus (Mouse)</td>\n",
              "      <td>Metazoa</td>\n",
              "      <td>NO_SP</td>\n",
              "      <td>4</td>\n",
              "      <td>MAENVVEPGPPSAKRPKLSSPALSASASDGTDFGSLFDLEHDLPDE...</td>\n",
              "      <td>NNNNNNNNNNNNNNNNNNNNNNNNNNNNNNNNNNNNNNNNNNNNNN...</td>\n",
              "    </tr>\n",
              "    <tr>\n",
              "      <th>1722</th>\n",
              "      <td>Q9P6R0</td>\n",
              "      <td>Schizosaccharomyces pombe (strain 972 / ATCC 2...</td>\n",
              "      <td>Fungi</td>\n",
              "      <td>NO_SP</td>\n",
              "      <td>4</td>\n",
              "      <td>MGCPNCGSTTFESDTASGNTYCTQCGVVVEQDAIVSEVTFGEASTG...</td>\n",
              "      <td>NNNNNNNNNNNNNNNNNNNNNNNNNNNNNNNNNNNNNNNNNNNNNN...</td>\n",
              "    </tr>\n",
              "  </tbody>\n",
              "</table>\n",
              "</div>\n",
              "      <button class=\"colab-df-convert\" onclick=\"convertToInteractive('df-b15357be-6f47-48c5-8f82-c9b181ae0f4c')\"\n",
              "              title=\"Convert this dataframe to an interactive table.\"\n",
              "              style=\"display:none;\">\n",
              "        \n",
              "  <svg xmlns=\"http://www.w3.org/2000/svg\" height=\"24px\"viewBox=\"0 0 24 24\"\n",
              "       width=\"24px\">\n",
              "    <path d=\"M0 0h24v24H0V0z\" fill=\"none\"/>\n",
              "    <path d=\"M18.56 5.44l.94 2.06.94-2.06 2.06-.94-2.06-.94-.94-2.06-.94 2.06-2.06.94zm-11 1L8.5 8.5l.94-2.06 2.06-.94-2.06-.94L8.5 2.5l-.94 2.06-2.06.94zm10 10l.94 2.06.94-2.06 2.06-.94-2.06-.94-.94-2.06-.94 2.06-2.06.94z\"/><path d=\"M17.41 7.96l-1.37-1.37c-.4-.4-.92-.59-1.43-.59-.52 0-1.04.2-1.43.59L10.3 9.45l-7.72 7.72c-.78.78-.78 2.05 0 2.83L4 21.41c.39.39.9.59 1.41.59.51 0 1.02-.2 1.41-.59l7.78-7.78 2.81-2.81c.8-.78.8-2.07 0-2.86zM5.41 20L4 18.59l7.72-7.72 1.47 1.35L5.41 20z\"/>\n",
              "  </svg>\n",
              "      </button>\n",
              "      \n",
              "  <style>\n",
              "    .colab-df-container {\n",
              "      display:flex;\n",
              "      flex-wrap:wrap;\n",
              "      gap: 12px;\n",
              "    }\n",
              "\n",
              "    .colab-df-convert {\n",
              "      background-color: #E8F0FE;\n",
              "      border: none;\n",
              "      border-radius: 50%;\n",
              "      cursor: pointer;\n",
              "      display: none;\n",
              "      fill: #1967D2;\n",
              "      height: 32px;\n",
              "      padding: 0 0 0 0;\n",
              "      width: 32px;\n",
              "    }\n",
              "\n",
              "    .colab-df-convert:hover {\n",
              "      background-color: #E2EBFA;\n",
              "      box-shadow: 0px 1px 2px rgba(60, 64, 67, 0.3), 0px 1px 3px 1px rgba(60, 64, 67, 0.15);\n",
              "      fill: #174EA6;\n",
              "    }\n",
              "\n",
              "    [theme=dark] .colab-df-convert {\n",
              "      background-color: #3B4455;\n",
              "      fill: #D2E3FC;\n",
              "    }\n",
              "\n",
              "    [theme=dark] .colab-df-convert:hover {\n",
              "      background-color: #434B5C;\n",
              "      box-shadow: 0px 1px 3px 1px rgba(0, 0, 0, 0.15);\n",
              "      filter: drop-shadow(0px 1px 2px rgba(0, 0, 0, 0.3));\n",
              "      fill: #FFFFFF;\n",
              "    }\n",
              "  </style>\n",
              "\n",
              "      <script>\n",
              "        const buttonEl =\n",
              "          document.querySelector('#df-b15357be-6f47-48c5-8f82-c9b181ae0f4c button.colab-df-convert');\n",
              "        buttonEl.style.display =\n",
              "          google.colab.kernel.accessAllowed ? 'block' : 'none';\n",
              "\n",
              "        async function convertToInteractive(key) {\n",
              "          const element = document.querySelector('#df-b15357be-6f47-48c5-8f82-c9b181ae0f4c');\n",
              "          const dataTable =\n",
              "            await google.colab.kernel.invokeFunction('convertToInteractive',\n",
              "                                                     [key], {});\n",
              "          if (!dataTable) return;\n",
              "\n",
              "          const docLinkHtml = 'Like what you see? Visit the ' +\n",
              "            '<a target=\"_blank\" href=https://colab.research.google.com/notebooks/data_table.ipynb>data table notebook</a>'\n",
              "            + ' to learn more about interactive tables.';\n",
              "          element.innerHTML = '';\n",
              "          dataTable['output_type'] = 'display_data';\n",
              "          await google.colab.output.renderOutput(dataTable, element);\n",
              "          const docLink = document.createElement('div');\n",
              "          docLink.innerHTML = docLinkHtml;\n",
              "          element.appendChild(docLink);\n",
              "        }\n",
              "      </script>\n",
              "    </div>\n",
              "  </div>\n",
              "  "
            ]
          },
          "metadata": {},
          "execution_count": 18
        }
      ]
    },
    {
      "cell_type": "markdown",
      "source": [
        "Filter dataset"
      ],
      "metadata": {
        "id": "AQCY8HniXzU2"
      }
    },
    {
      "cell_type": "code",
      "source": [
        "# Only SP\n",
        "\n",
        "df_sp = df[df.Class == 'SP']\n",
        "df_sp.tail()"
      ],
      "metadata": {
        "colab": {
          "base_uri": "https://localhost:8080/",
          "height": 531
        },
        "id": "ftzALWbVSy9G",
        "outputId": "3e8118b6-38c0-4620-b8f4-8e45d279caaf"
      },
      "execution_count": null,
      "outputs": [
        {
          "output_type": "execute_result",
          "data": {
            "text/plain": [
              "     UniProtKB accession                                          Taxa  \\\n",
              "1425              Q9Z0L3                          Mus musculus (Mouse)   \n",
              "1426              P20029                          Mus musculus (Mouse)   \n",
              "1427              P10645                          Homo sapiens (Human)   \n",
              "1428              Q6T6S5  Bitis gabonica (Gaboon adder) (Gaboon viper)   \n",
              "1429              Q3Y5Z3                           Bos taurus (Bovine)   \n",
              "\n",
              "      Kingdom Class  Cross-validation fold  \\\n",
              "1425  Metazoa    SP                      4   \n",
              "1426  Metazoa    SP                      4   \n",
              "1427  Metazoa    SP                      4   \n",
              "1428  Metazoa    SP                      4   \n",
              "1429  Metazoa    SP                      4   \n",
              "\n",
              "                Sequence (first 50 N-terminal residues)  \\\n",
              "1425  MIMLLMVGMLMAPCVGAHALDTPNPQELPPGLSKNINITFFNGVFK...   \n",
              "1426  MMKFTVVAAALLLLGAVRAEEEDKKEDVGTVVGIDLGTTYSCVGVF...   \n",
              "1427  MRSAAVLALLLCAGQVTALPVNSPMNKGDTEVMKCIVEVISDTLSK...   \n",
              "1428  MSSGGLLLLLGLLTLWAELTPVSGKKRPDFCYLPADTGPCMANFPR...   \n",
              "1429  MLLQGALLLLLALPSHGEDNMEDPPLPKGACAGWMAGIPGHPGHNG...   \n",
              "\n",
              "                            SP cleavage-site annotation  \n",
              "1425  SSSSSSSSSSSSSSSSSNNNNNNNNNNNNNNNNNNNNNNNNNNNNN...  \n",
              "1426  SSSSSSSSSSSSSSSSSSSNNNNNNNNNNNNNNNNNNNNNNNNNNN...  \n",
              "1427  SSSSSSSSSSSSSSSSSSNNNNNNNNNNNNNNNNNNNNNNNNNNNN...  \n",
              "1428  SSSSSSSSSSSSSSSSSSSSSSSSNNNNNNNNNNNNNNNNNNNNNN...  \n",
              "1429  SSSSSSSSSSSSSSSSSNNNNNNNNNNNNNNNNNNNNNNNNNNNNN...  "
            ],
            "text/html": [
              "\n",
              "  <div id=\"df-de1e3b7e-c384-4f19-91ac-fa63daf33d62\">\n",
              "    <div class=\"colab-df-container\">\n",
              "      <div>\n",
              "<style scoped>\n",
              "    .dataframe tbody tr th:only-of-type {\n",
              "        vertical-align: middle;\n",
              "    }\n",
              "\n",
              "    .dataframe tbody tr th {\n",
              "        vertical-align: top;\n",
              "    }\n",
              "\n",
              "    .dataframe thead th {\n",
              "        text-align: right;\n",
              "    }\n",
              "</style>\n",
              "<table border=\"1\" class=\"dataframe\">\n",
              "  <thead>\n",
              "    <tr style=\"text-align: right;\">\n",
              "      <th></th>\n",
              "      <th>UniProtKB accession</th>\n",
              "      <th>Taxa</th>\n",
              "      <th>Kingdom</th>\n",
              "      <th>Class</th>\n",
              "      <th>Cross-validation fold</th>\n",
              "      <th>Sequence (first 50 N-terminal residues)</th>\n",
              "      <th>SP cleavage-site annotation</th>\n",
              "    </tr>\n",
              "  </thead>\n",
              "  <tbody>\n",
              "    <tr>\n",
              "      <th>1425</th>\n",
              "      <td>Q9Z0L3</td>\n",
              "      <td>Mus musculus (Mouse)</td>\n",
              "      <td>Metazoa</td>\n",
              "      <td>SP</td>\n",
              "      <td>4</td>\n",
              "      <td>MIMLLMVGMLMAPCVGAHALDTPNPQELPPGLSKNINITFFNGVFK...</td>\n",
              "      <td>SSSSSSSSSSSSSSSSSNNNNNNNNNNNNNNNNNNNNNNNNNNNNN...</td>\n",
              "    </tr>\n",
              "    <tr>\n",
              "      <th>1426</th>\n",
              "      <td>P20029</td>\n",
              "      <td>Mus musculus (Mouse)</td>\n",
              "      <td>Metazoa</td>\n",
              "      <td>SP</td>\n",
              "      <td>4</td>\n",
              "      <td>MMKFTVVAAALLLLGAVRAEEEDKKEDVGTVVGIDLGTTYSCVGVF...</td>\n",
              "      <td>SSSSSSSSSSSSSSSSSSSNNNNNNNNNNNNNNNNNNNNNNNNNNN...</td>\n",
              "    </tr>\n",
              "    <tr>\n",
              "      <th>1427</th>\n",
              "      <td>P10645</td>\n",
              "      <td>Homo sapiens (Human)</td>\n",
              "      <td>Metazoa</td>\n",
              "      <td>SP</td>\n",
              "      <td>4</td>\n",
              "      <td>MRSAAVLALLLCAGQVTALPVNSPMNKGDTEVMKCIVEVISDTLSK...</td>\n",
              "      <td>SSSSSSSSSSSSSSSSSSNNNNNNNNNNNNNNNNNNNNNNNNNNNN...</td>\n",
              "    </tr>\n",
              "    <tr>\n",
              "      <th>1428</th>\n",
              "      <td>Q6T6S5</td>\n",
              "      <td>Bitis gabonica (Gaboon adder) (Gaboon viper)</td>\n",
              "      <td>Metazoa</td>\n",
              "      <td>SP</td>\n",
              "      <td>4</td>\n",
              "      <td>MSSGGLLLLLGLLTLWAELTPVSGKKRPDFCYLPADTGPCMANFPR...</td>\n",
              "      <td>SSSSSSSSSSSSSSSSSSSSSSSSNNNNNNNNNNNNNNNNNNNNNN...</td>\n",
              "    </tr>\n",
              "    <tr>\n",
              "      <th>1429</th>\n",
              "      <td>Q3Y5Z3</td>\n",
              "      <td>Bos taurus (Bovine)</td>\n",
              "      <td>Metazoa</td>\n",
              "      <td>SP</td>\n",
              "      <td>4</td>\n",
              "      <td>MLLQGALLLLLALPSHGEDNMEDPPLPKGACAGWMAGIPGHPGHNG...</td>\n",
              "      <td>SSSSSSSSSSSSSSSSSNNNNNNNNNNNNNNNNNNNNNNNNNNNNN...</td>\n",
              "    </tr>\n",
              "  </tbody>\n",
              "</table>\n",
              "</div>\n",
              "      <button class=\"colab-df-convert\" onclick=\"convertToInteractive('df-de1e3b7e-c384-4f19-91ac-fa63daf33d62')\"\n",
              "              title=\"Convert this dataframe to an interactive table.\"\n",
              "              style=\"display:none;\">\n",
              "        \n",
              "  <svg xmlns=\"http://www.w3.org/2000/svg\" height=\"24px\"viewBox=\"0 0 24 24\"\n",
              "       width=\"24px\">\n",
              "    <path d=\"M0 0h24v24H0V0z\" fill=\"none\"/>\n",
              "    <path d=\"M18.56 5.44l.94 2.06.94-2.06 2.06-.94-2.06-.94-.94-2.06-.94 2.06-2.06.94zm-11 1L8.5 8.5l.94-2.06 2.06-.94-2.06-.94L8.5 2.5l-.94 2.06-2.06.94zm10 10l.94 2.06.94-2.06 2.06-.94-2.06-.94-.94-2.06-.94 2.06-2.06.94z\"/><path d=\"M17.41 7.96l-1.37-1.37c-.4-.4-.92-.59-1.43-.59-.52 0-1.04.2-1.43.59L10.3 9.45l-7.72 7.72c-.78.78-.78 2.05 0 2.83L4 21.41c.39.39.9.59 1.41.59.51 0 1.02-.2 1.41-.59l7.78-7.78 2.81-2.81c.8-.78.8-2.07 0-2.86zM5.41 20L4 18.59l7.72-7.72 1.47 1.35L5.41 20z\"/>\n",
              "  </svg>\n",
              "      </button>\n",
              "      \n",
              "  <style>\n",
              "    .colab-df-container {\n",
              "      display:flex;\n",
              "      flex-wrap:wrap;\n",
              "      gap: 12px;\n",
              "    }\n",
              "\n",
              "    .colab-df-convert {\n",
              "      background-color: #E8F0FE;\n",
              "      border: none;\n",
              "      border-radius: 50%;\n",
              "      cursor: pointer;\n",
              "      display: none;\n",
              "      fill: #1967D2;\n",
              "      height: 32px;\n",
              "      padding: 0 0 0 0;\n",
              "      width: 32px;\n",
              "    }\n",
              "\n",
              "    .colab-df-convert:hover {\n",
              "      background-color: #E2EBFA;\n",
              "      box-shadow: 0px 1px 2px rgba(60, 64, 67, 0.3), 0px 1px 3px 1px rgba(60, 64, 67, 0.15);\n",
              "      fill: #174EA6;\n",
              "    }\n",
              "\n",
              "    [theme=dark] .colab-df-convert {\n",
              "      background-color: #3B4455;\n",
              "      fill: #D2E3FC;\n",
              "    }\n",
              "\n",
              "    [theme=dark] .colab-df-convert:hover {\n",
              "      background-color: #434B5C;\n",
              "      box-shadow: 0px 1px 3px 1px rgba(0, 0, 0, 0.15);\n",
              "      filter: drop-shadow(0px 1px 2px rgba(0, 0, 0, 0.3));\n",
              "      fill: #FFFFFF;\n",
              "    }\n",
              "  </style>\n",
              "\n",
              "      <script>\n",
              "        const buttonEl =\n",
              "          document.querySelector('#df-de1e3b7e-c384-4f19-91ac-fa63daf33d62 button.colab-df-convert');\n",
              "        buttonEl.style.display =\n",
              "          google.colab.kernel.accessAllowed ? 'block' : 'none';\n",
              "\n",
              "        async function convertToInteractive(key) {\n",
              "          const element = document.querySelector('#df-de1e3b7e-c384-4f19-91ac-fa63daf33d62');\n",
              "          const dataTable =\n",
              "            await google.colab.kernel.invokeFunction('convertToInteractive',\n",
              "                                                     [key], {});\n",
              "          if (!dataTable) return;\n",
              "\n",
              "          const docLinkHtml = 'Like what you see? Visit the ' +\n",
              "            '<a target=\"_blank\" href=https://colab.research.google.com/notebooks/data_table.ipynb>data table notebook</a>'\n",
              "            + ' to learn more about interactive tables.';\n",
              "          element.innerHTML = '';\n",
              "          dataTable['output_type'] = 'display_data';\n",
              "          await google.colab.output.renderOutput(dataTable, element);\n",
              "          const docLink = document.createElement('div');\n",
              "          docLink.innerHTML = docLinkHtml;\n",
              "          element.appendChild(docLink);\n",
              "        }\n",
              "      </script>\n",
              "    </div>\n",
              "  </div>\n",
              "  "
            ]
          },
          "metadata": {},
          "execution_count": 19
        }
      ]
    },
    {
      "cell_type": "markdown",
      "source": [
        "Process dataset"
      ],
      "metadata": {
        "id": "OJOgN69DgQOS"
      }
    },
    {
      "cell_type": "code",
      "source": [
        "# Binarize classes\n",
        "df.loc[df['Class'] == 'SP', 'Real Class'] = 1\n",
        "df.loc[df['Class'] == 'NO_SP', 'Real Class'] = 0"
      ],
      "metadata": {
        "id": "jonwOd3IgUIE"
      },
      "execution_count": null,
      "outputs": []
    },
    {
      "cell_type": "markdown",
      "source": [
        "# Data statistics and visualization"
      ],
      "metadata": {
        "id": "0J2F6r0GX8r3"
      }
    },
    {
      "cell_type": "markdown",
      "source": [
        "## Lengths distribution"
      ],
      "metadata": {
        "id": "32yhrKv-YNoR"
      }
    },
    {
      "cell_type": "code",
      "source": [
        "# Count number of S from the SP annotation column\n",
        "\n",
        "lengths = []\n",
        "for sp in df_sp[\"SP cleavage-site annotation\"]:\n",
        "  count = 0\n",
        "  for char in sp:\n",
        "    if char == 'S':\n",
        "      count += 1\n",
        "  lengths.append(count)\n",
        "print(lengths)"
      ],
      "metadata": {
        "colab": {
          "base_uri": "https://localhost:8080/"
        },
        "id": "Q5zegkeQYBDw",
        "outputId": "5f033d08-88ee-48f7-9de4-dbe821be884c"
      },
      "execution_count": null,
      "outputs": [
        {
          "output_type": "stream",
          "name": "stdout",
          "text": [
            "[19, 20, 16, 24, 19, 26, 24, 24, 18, 28, 22, 17, 19, 24, 17, 20, 24, 20, 19, 32, 16, 21, 19, 18, 22, 22, 22, 19, 16, 16, 33, 19, 18, 22, 28, 21, 27, 24, 24, 21, 20, 22, 21, 20, 19, 18, 22, 21, 21, 15, 21, 19, 33, 20, 23, 28, 20, 22, 22, 23, 22, 18, 19, 20, 24, 25, 16, 24, 20, 20, 25, 24, 16, 18, 24, 18, 18, 24, 24, 20, 29, 31, 16, 20, 27, 23, 23, 16, 46, 29, 22, 25, 23, 22, 22, 23, 31, 16, 22, 19, 16, 24, 15, 17, 21, 18, 19, 21, 15, 24, 19, 25, 27, 24, 16, 22, 26, 35, 24, 25, 18, 23, 22, 18, 20, 32, 15, 16, 18, 19, 21, 19, 26, 21, 29, 25, 21, 26, 16, 25, 24, 22, 22, 30, 32, 23, 26, 19, 24, 17, 24, 33, 27, 22, 19, 21, 18, 20, 20, 19, 28, 29, 24, 24, 15, 32, 22, 18, 28, 19, 19, 19, 24, 21, 26, 30, 18, 24, 22, 16, 22, 23, 42, 30, 16, 17, 24, 21, 15, 35, 24, 21, 20, 18, 23, 22, 19, 20, 16, 30, 22, 22, 19, 17, 26, 23, 20, 21, 28, 18, 19, 17, 26, 22, 34, 22, 18, 18, 18, 23, 23, 26, 18, 22, 18, 23, 21, 18, 17, 28, 15, 24, 19, 21, 18, 26, 25, 22, 21, 24, 16, 19, 20, 33, 18, 19, 18, 24, 23, 30, 20, 21, 30, 17, 19, 18, 24, 17]\n"
          ]
        }
      ]
    },
    {
      "cell_type": "code",
      "source": [
        "# Seaborn histogram\n",
        "ax = sns.histplot(data=lengths, binwidth=3)\n",
        "ax.set(xlabel='Length', ylabel='Count', title='Benchmark set length distribution')\n",
        "img = ax.get_figure()\n",
        "plt.show()\n",
        "img.savefig('BS_length_histplot.png')"
      ],
      "metadata": {
        "colab": {
          "base_uri": "https://localhost:8080/",
          "height": 302
        },
        "id": "j8dm-gizYqf8",
        "outputId": "0384301f-c079-488f-e515-8f868f20f587"
      },
      "execution_count": null,
      "outputs": [
        {
          "output_type": "display_data",
          "data": {
            "text/plain": [
              "<Figure size 432x288 with 1 Axes>"
            ],
            "image/png": "[encoded data removed]"
          },
          "metadata": {
            "needs_background": "light"
          }
        }
      ]
    },
    {
      "cell_type": "code",
      "source": [
        "# density plot\n",
        "sns.distplot(lengths)"
      ],
      "metadata": {
        "colab": {
          "base_uri": "https://localhost:8080/",
          "height": 340
        },
        "id": "Y1q2h10EZEOp",
        "outputId": "a32310aa-2a8a-45c9-a979-d5b31a2ec916"
      },
      "execution_count": null,
      "outputs": [
        {
          "output_type": "stream",
          "name": "stderr",
          "text": [
            "/usr/local/lib/python3.8/dist-packages/seaborn/distributions.py:2619: FutureWarning: `distplot` is a deprecated function and will be removed in a future version. Please adapt your code to use either `displot` (a figure-level function with similar flexibility) or `histplot` (an axes-level function for histograms).\n",
            "  warnings.warn(msg, FutureWarning)\n"
          ]
        },
        {
          "output_type": "execute_result",
          "data": {
            "text/plain": [
              "<matplotlib.axes._subplots.AxesSubplot at 0x7f6c34bf6160>"
            ]
          },
          "metadata": {},
          "execution_count": 100
        },
        {
          "output_type": "display_data",
          "data": {
            "text/plain": [
              "<Figure size 432x288 with 1 Axes>"
            ],
            "image/png": "[encoded data removed]"
          },
          "metadata": {
            "needs_background": "light"
          }
        }
      ]
    },
    {
      "cell_type": "code",
      "source": [
        "# boxplot\n",
        "sns.boxplot(lengths)"
      ],
      "metadata": {
        "colab": {
          "base_uri": "https://localhost:8080/",
          "height": 340
        },
        "id": "6qROQIncZltX",
        "outputId": "e16bf651-479d-48e2-87f3-3c841bb24d0b"
      },
      "execution_count": null,
      "outputs": [
        {
          "output_type": "stream",
          "name": "stderr",
          "text": [
            "/usr/local/lib/python3.8/dist-packages/seaborn/_decorators.py:36: FutureWarning: Pass the following variable as a keyword arg: x. From version 0.12, the only valid positional argument will be `data`, and passing other arguments without an explicit keyword will result in an error or misinterpretation.\n",
            "  warnings.warn(\n"
          ]
        },
        {
          "output_type": "execute_result",
          "data": {
            "text/plain": [
              "<matplotlib.axes._subplots.AxesSubplot at 0x7f6c34acb5e0>"
            ]
          },
          "metadata": {},
          "execution_count": 101
        },
        {
          "output_type": "display_data",
          "data": {
            "text/plain": [
              "<Figure size 432x288 with 1 Axes>"
            ],
            "image/png": "[encoded data removed]"
          },
          "metadata": {
            "needs_background": "light"
          }
        }
      ]
    },
    {
      "cell_type": "markdown",
      "source": [
        "## Residues comparative distribution"
      ],
      "metadata": {
        "id": "GftGva-0YRui"
      }
    },
    {
      "cell_type": "code",
      "source": [
        "# SP composition\n",
        "num_seq = df_sp.shape[0]\n",
        "sp_freq = {}\n",
        "for n_term in df_sp[\"Sequence (first 50 N-terminal residues)\"]:\n",
        "  for aa in n_term:\n",
        "    if aa in sp_freq:\n",
        "      sp_freq[aa] += 100/(num_seq*50)\n",
        "    else: \n",
        "      sp_freq[aa] = 0\n",
        "      \n",
        "print(sp_freq)\n",
        "\n",
        "# Convert dict to df\n",
        "sp_freq_df = pd.DataFrame.from_dict(sp_freq, orient='index')\n",
        "sp_freq_df.columns = ['freq']\n",
        "sp_freq_df.reset_index(level=0, inplace=True)\n",
        "\n",
        "# Sort by polarity\n",
        "sp_freq_df['index'] = pd.Categorical(sp_freq_df['index'], [\"G\",\"A\",\"V\",\"P\",\"L\",\"I\",\"M\",\"F\",\"W\",\"Y\",\"S\",\"T\",\"C\",\"N\",\"Q\",\"H\",\"D\",\"E\",\"K\",\"R\"])\n",
        "sp_freq_df.sort_values(\"index\",inplace=True)\n",
        "sp_freq_df.rename(columns={'index':'id'}, inplace=True)\n",
        "sp_freq_df.tail()\n",
        "\n",
        "# Plot\n",
        "sns.barplot(sp_freq_df['id'], y=sp_freq_df['freq'])"
      ],
      "metadata": {
        "colab": {
          "base_uri": "https://localhost:8080/",
          "height": 375
        },
        "id": "uY9nN2OGYXh8",
        "outputId": "a6b7fad5-3b19-4d4d-d923-4058f51ee0b4"
      },
      "execution_count": null,
      "outputs": [
        {
          "output_type": "stream",
          "name": "stdout",
          "text": [
            "{'M': 3.7054263565891534, 'R': 3.8294573643410916, 'F': 4.372093023255821, 'L': 13.930232558139558, 'A': 9.558139534883736, 'T': 5.465116279069776, 'S': 7.612403100775206, 'Q': 3.240310077519385, 'E': 4.000000000000006, 'P': 5.333333333333342, 'V': 7.56589147286823, 'K': 4.007751937984502, 'D': 3.3875968992248118, 'C': 3.8682170542635723, 'G': 7.255813953488384, 'I': 4.178294573643417, 'N': 3.0232558139534933, 'Y': 2.263565891472872, 'W': 1.5658914728682196, 'H': 1.6821705426356617}\n"
          ]
        },
        {
          "output_type": "stream",
          "name": "stderr",
          "text": [
            "/usr/local/lib/python3.8/dist-packages/seaborn/_decorators.py:36: FutureWarning: Pass the following variable as a keyword arg: x. From version 0.12, the only valid positional argument will be `data`, and passing other arguments without an explicit keyword will result in an error or misinterpretation.\n",
            "  warnings.warn(\n"
          ]
        },
        {
          "output_type": "execute_result",
          "data": {
            "text/plain": [
              "<matplotlib.axes._subplots.AxesSubplot at 0x7fdfa5b99700>"
            ]
          },
          "metadata": {},
          "execution_count": 23
        },
        {
          "output_type": "display_data",
          "data": {
            "text/plain": [
              "<Figure size 432x288 with 1 Axes>"
            ],
            "image/png": "[encoded data removed]"
          },
          "metadata": {
            "needs_background": "light"
          }
        }
      ]
    },
    {
      "cell_type": "code",
      "source": [
        "# Background composition\n",
        "\n",
        "bg_aa = pd.read_table(\"aa.txt\", sep = \" \",header = None)\n",
        "bg_aa.columns = [\"Res\",\"id\",\"freq\"]\n",
        "bg_aa['id'] = pd.Categorical(bg_aa['id'], [\"G\",\"A\",\"V\",\"P\",\"L\",\"I\",\"M\",\"F\",\"W\",\"Y\",\"S\",\"T\",\"C\",\"N\",\"Q\",\"H\",\"D\",\"E\",\"K\",\"R\"])\n",
        "bg_aa.sort_values(\"id\",inplace=True)\n",
        "\n",
        "# Converts bg freqs to floats\n",
        "pd.to_numeric(bg_aa['freq'])\n",
        "\n",
        "# Plot\n",
        "sns.barplot(bg_aa['id'], y=bg_aa['freq'])"
      ],
      "metadata": {
        "colab": {
          "base_uri": "https://localhost:8080/",
          "height": 360
        },
        "id": "RTQd9K8BZ08z",
        "outputId": "299794d9-a5c4-488b-92e9-ef3c36f5cf7f"
      },
      "execution_count": null,
      "outputs": [
        {
          "output_type": "stream",
          "name": "stderr",
          "text": [
            "/usr/local/lib/python3.8/dist-packages/seaborn/_decorators.py:36: FutureWarning: Pass the following variable as a keyword arg: x. From version 0.12, the only valid positional argument will be `data`, and passing other arguments without an explicit keyword will result in an error or misinterpretation.\n",
            "  warnings.warn(\n"
          ]
        },
        {
          "output_type": "execute_result",
          "data": {
            "text/plain": [
              "<matplotlib.axes._subplots.AxesSubplot at 0x7f222c10ee20>"
            ]
          },
          "metadata": {},
          "execution_count": 25
        },
        {
          "output_type": "display_data",
          "data": {
            "text/plain": [
              "<Figure size 432x288 with 1 Axes>"
            ],
            "image/png": "[encoded data removed]"
          },
          "metadata": {
            "needs_background": "light"
          }
        }
      ]
    },
    {
      "cell_type": "code",
      "source": [
        "# Compare compositions - SEABORN\n",
        "\n",
        "plt.figure(figsize=(16,6))\n",
        "merged = pd.merge(bg_aa, sp_freq_df, on='id')\n",
        "merged.rename(columns={'freq_x':'BG', 'freq_y':'SP'}, inplace=True)\n",
        "merged = merged[['id', 'SP', 'BG']]\n",
        "merged = merged.melt(id_vars=['id'], var_name='dataset', value_name='frequencies')\n",
        "merged.tail()\n",
        "\n",
        "ax = sns.barplot(merged['id'], y=merged['frequencies'], hue=merged['dataset'])\n",
        "ax.set(xlabel='Length', ylabel='Count', title='Residues comparative distribution')\n",
        "plt.show()\n",
        "\n",
        "# Save Image\n",
        "# img = ax.get_figure()\n",
        "# img.savefig('TS_comparative_dist.png')\n",
        "\n"
      ],
      "metadata": {
        "colab": {
          "base_uri": "https://localhost:8080/",
          "height": 466
        },
        "id": "JKF0Hl8_Z64f",
        "outputId": "434f65ed-7490-4c27-9ec2-3aa68d17d844"
      },
      "execution_count": null,
      "outputs": [
        {
          "output_type": "stream",
          "name": "stderr",
          "text": [
            "/usr/local/lib/python3.8/dist-packages/seaborn/_decorators.py:36: FutureWarning: Pass the following variable as a keyword arg: x. From version 0.12, the only valid positional argument will be `data`, and passing other arguments without an explicit keyword will result in an error or misinterpretation.\n",
            "  warnings.warn(\n"
          ]
        },
        {
          "output_type": "display_data",
          "data": {
            "text/plain": [
              "<Figure size 1152x432 with 1 Axes>"
            ],
            "image/png": "[encoded data removed]"
          },
          "metadata": {
            "needs_background": "light"
          }
        }
      ]
    },
    {
      "cell_type": "code",
      "source": [
        "# Compare compositions - MATPLOTLIB\n",
        "\n",
        "plt.figure(figsize=(16, 6))\n",
        "width = 0.25\n",
        "plt.bar(np.arange(bg_aa.shape[0])-width, bg_aa[\"freq\"], width, label=\"Background distribution\")\n",
        "plt.bar(np.arange(bg_aa.shape[0]), sp_freq_df[\"freq\"], width, label=\"Signal Peptides\")\n",
        "\n",
        "plt.xticks(np.arange(bg_aa.shape[0]), bg_aa[\"id\"])\n",
        "\n",
        "plt.title(\"Comparative residue composition\")\n",
        "plt.legend(title=\"Data\")\n",
        "plt.xlabel('Residue')\n",
        "plt.ylabel('Frequency')\n",
        "plt.savefig('TS_comparative_dist.png')\n",
        "plt.show()\n"
      ],
      "metadata": {
        "colab": {
          "base_uri": "https://localhost:8080/",
          "height": 411
        },
        "id": "J2-XOUfWaAjJ",
        "outputId": "27b41bde-16c8-46fb-d186-97acf3f79325"
      },
      "execution_count": null,
      "outputs": [
        {
          "output_type": "display_data",
          "data": {
            "text/plain": [
              "<Figure size 1152x432 with 1 Axes>"
            ],
            "image/png": "[encoded data removed]"
          },
          "metadata": {
            "needs_background": "light"
          }
        }
      ]
    },
    {
      "cell_type": "markdown",
      "source": [
        "## Taxonomy"
      ],
      "metadata": {
        "id": "XeqA79YeYYHP"
      }
    },
    {
      "cell_type": "code",
      "source": [
        "# Kingdom\n",
        "kingdoms = df['Kingdom'].value_counts()\n",
        "plot = kingdoms.plot.pie(figsize=(8,8), autopct='%.2f')\n",
        "plt.ylabel('')\n",
        "plt.savefig('BS_taxonomy_kingdom.png')"
      ],
      "metadata": {
        "colab": {
          "base_uri": "https://localhost:8080/"
        },
        "id": "HeJAqUSMYZPX",
        "outputId": "3753eb3f-692c-46b5-95be-bc5c06c807de"
      },
      "execution_count": null,
      "outputs": [
        {
          "output_type": "display_data",
          "data": {
            "text/plain": [
              "<Figure size 576x576 with 1 Axes>"
            ],
            "image/png": "[encoded data removed]"
          },
          "metadata": {}
        }
      ]
    },
    {
      "cell_type": "code",
      "source": [
        "# Taxa\n",
        "\n",
        "# from df to series of counts\n",
        "taxa = df['Taxa'].value_counts()\n",
        "# from series to df \n",
        "taxa = taxa.to_frame(name='count')\n",
        "# convert index into col  \n",
        "taxa = taxa.reset_index()\n",
        "# change to Other if <= 15\n",
        "taxa['index'].mask(taxa['count'] <= 70, 'Other', inplace=True)\n",
        "# Aggregate entries labelled as Other\n",
        "taxa = taxa.groupby(taxa['index']).aggregate({'count': 'sum'})\n",
        "\n",
        "\n",
        "# Plot\n",
        "plot = taxa.plot.pie(y='count', figsize=(10,10), legend=False, autopct='%.2f')\n",
        "plt.ylabel('')\n",
        "plt.savefig('BS_taxonomy_taxa.png')"
      ],
      "metadata": {
        "colab": {
          "base_uri": "https://localhost:8080/"
        },
        "id": "NowJDI2JaUTX",
        "outputId": "c536db9c-6de6-4ee4-b0d9-e4d4179aea93"
      },
      "execution_count": null,
      "outputs": [
        {
          "output_type": "display_data",
          "data": {
            "text/plain": [
              "<Figure size 720x720 with 1 Axes>"
            ],
            "image/png": "[encoded data removed]"
          },
          "metadata": {}
        }
      ]
    },
    {
      "cell_type": "markdown",
      "source": [
        "## Sequence logo"
      ],
      "metadata": {
        "id": "EcG9jxMkYaCx"
      }
    },
    {
      "cell_type": "code",
      "source": [
        "df_logo = df_sp[['Sequence (first 50 N-terminal residues)','SP cleavage-site annotation']]\n",
        "df_logo.tail()"
      ],
      "metadata": {
        "colab": {
          "base_uri": "https://localhost:8080/"
        },
        "id": "-M2vENvv1uqf",
        "outputId": "ed99cdae-3bef-4304-a497-b614065f29d7"
      },
      "execution_count": null,
      "outputs": [
        {
          "output_type": "execute_result",
          "data": {
            "text/plain": [
              "                Sequence (first 50 N-terminal residues)  \\\n",
              "1425  MIMLLMVGMLMAPCVGAHALDTPNPQELPPGLSKNINITFFNGVFK...   \n",
              "1426  MMKFTVVAAALLLLGAVRAEEEDKKEDVGTVVGIDLGTTYSCVGVF...   \n",
              "1427  MRSAAVLALLLCAGQVTALPVNSPMNKGDTEVMKCIVEVISDTLSK...   \n",
              "1428  MSSGGLLLLLGLLTLWAELTPVSGKKRPDFCYLPADTGPCMANFPR...   \n",
              "1429  MLLQGALLLLLALPSHGEDNMEDPPLPKGACAGWMAGIPGHPGHNG...   \n",
              "\n",
              "                            SP cleavage-site annotation  \n",
              "1425  SSSSSSSSSSSSSSSSSNNNNNNNNNNNNNNNNNNNNNNNNNNNNN...  \n",
              "1426  SSSSSSSSSSSSSSSSSSSNNNNNNNNNNNNNNNNNNNNNNNNNNN...  \n",
              "1427  SSSSSSSSSSSSSSSSSSNNNNNNNNNNNNNNNNNNNNNNNNNNNN...  \n",
              "1428  SSSSSSSSSSSSSSSSSSSSSSSSNNNNNNNNNNNNNNNNNNNNNN...  \n",
              "1429  SSSSSSSSSSSSSSSSSNNNNNNNNNNNNNNNNNNNNNNNNNNNNN...  "
            ],
            "text/html": [
              "\n",
              "  <div id=\"df-2e9464bf-126b-422f-8dc6-3921a523a84b\">\n",
              "    <div class=\"colab-df-container\">\n",
              "      <div>\n",
              "<style scoped>\n",
              "    .dataframe tbody tr th:only-of-type {\n",
              "        vertical-align: middle;\n",
              "    }\n",
              "\n",
              "    .dataframe tbody tr th {\n",
              "        vertical-align: top;\n",
              "    }\n",
              "\n",
              "    .dataframe thead th {\n",
              "        text-align: right;\n",
              "    }\n",
              "</style>\n",
              "<table border=\"1\" class=\"dataframe\">\n",
              "  <thead>\n",
              "    <tr style=\"text-align: right;\">\n",
              "      <th></th>\n",
              "      <th>Sequence (first 50 N-terminal residues)</th>\n",
              "      <th>SP cleavage-site annotation</th>\n",
              "    </tr>\n",
              "  </thead>\n",
              "  <tbody>\n",
              "    <tr>\n",
              "      <th>1425</th>\n",
              "      <td>MIMLLMVGMLMAPCVGAHALDTPNPQELPPGLSKNINITFFNGVFK...</td>\n",
              "      <td>SSSSSSSSSSSSSSSSSNNNNNNNNNNNNNNNNNNNNNNNNNNNNN...</td>\n",
              "    </tr>\n",
              "    <tr>\n",
              "      <th>1426</th>\n",
              "      <td>MMKFTVVAAALLLLGAVRAEEEDKKEDVGTVVGIDLGTTYSCVGVF...</td>\n",
              "      <td>SSSSSSSSSSSSSSSSSSSNNNNNNNNNNNNNNNNNNNNNNNNNNN...</td>\n",
              "    </tr>\n",
              "    <tr>\n",
              "      <th>1427</th>\n",
              "      <td>MRSAAVLALLLCAGQVTALPVNSPMNKGDTEVMKCIVEVISDTLSK...</td>\n",
              "      <td>SSSSSSSSSSSSSSSSSSNNNNNNNNNNNNNNNNNNNNNNNNNNNN...</td>\n",
              "    </tr>\n",
              "    <tr>\n",
              "      <th>1428</th>\n",
              "      <td>MSSGGLLLLLGLLTLWAELTPVSGKKRPDFCYLPADTGPCMANFPR...</td>\n",
              "      <td>SSSSSSSSSSSSSSSSSSSSSSSSNNNNNNNNNNNNNNNNNNNNNN...</td>\n",
              "    </tr>\n",
              "    <tr>\n",
              "      <th>1429</th>\n",
              "      <td>MLLQGALLLLLALPSHGEDNMEDPPLPKGACAGWMAGIPGHPGHNG...</td>\n",
              "      <td>SSSSSSSSSSSSSSSSSNNNNNNNNNNNNNNNNNNNNNNNNNNNNN...</td>\n",
              "    </tr>\n",
              "  </tbody>\n",
              "</table>\n",
              "</div>\n",
              "      <button class=\"colab-df-convert\" onclick=\"convertToInteractive('df-2e9464bf-126b-422f-8dc6-3921a523a84b')\"\n",
              "              title=\"Convert this dataframe to an interactive table.\"\n",
              "              style=\"display:none;\">\n",
              "        \n",
              "  <svg xmlns=\"http://www.w3.org/2000/svg\" height=\"24px\"viewBox=\"0 0 24 24\"\n",
              "       width=\"24px\">\n",
              "    <path d=\"M0 0h24v24H0V0z\" fill=\"none\"/>\n",
              "    <path d=\"M18.56 5.44l.94 2.06.94-2.06 2.06-.94-2.06-.94-.94-2.06-.94 2.06-2.06.94zm-11 1L8.5 8.5l.94-2.06 2.06-.94-2.06-.94L8.5 2.5l-.94 2.06-2.06.94zm10 10l.94 2.06.94-2.06 2.06-.94-2.06-.94-.94-2.06-.94 2.06-2.06.94z\"/><path d=\"M17.41 7.96l-1.37-1.37c-.4-.4-.92-.59-1.43-.59-.52 0-1.04.2-1.43.59L10.3 9.45l-7.72 7.72c-.78.78-.78 2.05 0 2.83L4 21.41c.39.39.9.59 1.41.59.51 0 1.02-.2 1.41-.59l7.78-7.78 2.81-2.81c.8-.78.8-2.07 0-2.86zM5.41 20L4 18.59l7.72-7.72 1.47 1.35L5.41 20z\"/>\n",
              "  </svg>\n",
              "      </button>\n",
              "      \n",
              "  <style>\n",
              "    .colab-df-container {\n",
              "      display:flex;\n",
              "      flex-wrap:wrap;\n",
              "      gap: 12px;\n",
              "    }\n",
              "\n",
              "    .colab-df-convert {\n",
              "      background-color: #E8F0FE;\n",
              "      border: none;\n",
              "      border-radius: 50%;\n",
              "      cursor: pointer;\n",
              "      display: none;\n",
              "      fill: #1967D2;\n",
              "      height: 32px;\n",
              "      padding: 0 0 0 0;\n",
              "      width: 32px;\n",
              "    }\n",
              "\n",
              "    .colab-df-convert:hover {\n",
              "      background-color: #E2EBFA;\n",
              "      box-shadow: 0px 1px 2px rgba(60, 64, 67, 0.3), 0px 1px 3px 1px rgba(60, 64, 67, 0.15);\n",
              "      fill: #174EA6;\n",
              "    }\n",
              "\n",
              "    [theme=dark] .colab-df-convert {\n",
              "      background-color: #3B4455;\n",
              "      fill: #D2E3FC;\n",
              "    }\n",
              "\n",
              "    [theme=dark] .colab-df-convert:hover {\n",
              "      background-color: #434B5C;\n",
              "      box-shadow: 0px 1px 3px 1px rgba(0, 0, 0, 0.15);\n",
              "      filter: drop-shadow(0px 1px 2px rgba(0, 0, 0, 0.3));\n",
              "      fill: #FFFFFF;\n",
              "    }\n",
              "  </style>\n",
              "\n",
              "      <script>\n",
              "        const buttonEl =\n",
              "          document.querySelector('#df-2e9464bf-126b-422f-8dc6-3921a523a84b button.colab-df-convert');\n",
              "        buttonEl.style.display =\n",
              "          google.colab.kernel.accessAllowed ? 'block' : 'none';\n",
              "\n",
              "        async function convertToInteractive(key) {\n",
              "          const element = document.querySelector('#df-2e9464bf-126b-422f-8dc6-3921a523a84b');\n",
              "          const dataTable =\n",
              "            await google.colab.kernel.invokeFunction('convertToInteractive',\n",
              "                                                     [key], {});\n",
              "          if (!dataTable) return;\n",
              "\n",
              "          const docLinkHtml = 'Like what you see? Visit the ' +\n",
              "            '<a target=\"_blank\" href=https://colab.research.google.com/notebooks/data_table.ipynb>data table notebook</a>'\n",
              "            + ' to learn more about interactive tables.';\n",
              "          element.innerHTML = '';\n",
              "          dataTable['output_type'] = 'display_data';\n",
              "          await google.colab.output.renderOutput(dataTable, element);\n",
              "          const docLink = document.createElement('div');\n",
              "          docLink.innerHTML = docLinkHtml;\n",
              "          element.appendChild(docLink);\n",
              "        }\n",
              "      </script>\n",
              "    </div>\n",
              "  </div>\n",
              "  "
            ]
          },
          "metadata": {},
          "execution_count": 72
        }
      ]
    },
    {
      "cell_type": "code",
      "source": [
        "# Select (-13,+2) as region to depict, wrt annotation\n",
        "motifs = []\n",
        "for index in df_logo['SP cleavage-site annotation'].index.values:\n",
        "\n",
        "  seq = df_logo['Sequence (first 50 N-terminal residues)'][index]\n",
        "  annot = df_logo['SP cleavage-site annotation'][index]\n",
        "  cl_site = annot.find('N')\n",
        "  start = cl_site - 13\n",
        "  motifs.append(seq[start:cl_site+2])\n",
        "\n",
        "\n",
        "file = open('motifs.txt', 'w')\n",
        "\n",
        "for m in motifs:\n",
        "    file.write(m)\n",
        "    file.write('\\n')\n",
        "\n",
        "file.close()"
      ],
      "metadata": {
        "id": "3Mrug8uSYbLz"
      },
      "execution_count": null,
      "outputs": []
    },
    {
      "cell_type": "markdown",
      "source": [
        "# SVM"
      ],
      "metadata": {
        "id": "Us2SU8b-hL5N"
      }
    },
    {
      "cell_type": "markdown",
      "source": [
        "## Training"
      ],
      "metadata": {
        "id": "oaDW5zCLhkU6"
      }
    },
    {
      "cell_type": "code",
      "source": [
        "# Check dataframe\n",
        "df.tail()"
      ],
      "metadata": {
        "id": "_T2Tb0cvhK3E",
        "colab": {
          "base_uri": "https://localhost:8080/",
          "height": 427
        },
        "outputId": "0991f1db-77c5-41a9-9ead-37071c255f4f"
      },
      "execution_count": null,
      "outputs": [
        {
          "output_type": "execute_result",
          "data": {
            "text/plain": [
              "     UniProtKB accession                                               Taxa  \\\n",
              "1718              P62597                            Gallus gallus (Chicken)   \n",
              "1719              Q7K4M4                Drosophila melanogaster (Fruit fly)   \n",
              "1720              Q14146                               Homo sapiens (Human)   \n",
              "1721              B2RWS6                               Mus musculus (Mouse)   \n",
              "1722              Q9P6R0  Schizosaccharomyces pombe (strain 972 / ATCC 2...   \n",
              "\n",
              "      Kingdom  Class  Cross-validation fold  \\\n",
              "1718  Metazoa  NO_SP                      4   \n",
              "1719  Metazoa  NO_SP                      4   \n",
              "1720  Metazoa  NO_SP                      4   \n",
              "1721  Metazoa  NO_SP                      4   \n",
              "1722    Fungi  NO_SP                      4   \n",
              "\n",
              "                Sequence (first 50 N-terminal residues)  \\\n",
              "1718  MPVQVLKIIKGKPETQLPSHLQREDLKHLQTGLDHTNKYFQGIVIL...   \n",
              "1719  MSKFLDMLSGSQCVSLEKCGDVVVSTNDCMIALYCHFCRDLFTQLP...   \n",
              "1720  MAAVYSGISLKLKSKTTSWEDKLKLAHFAWISHQCFLPNKEQVLLD...   \n",
              "1721  MAENVVEPGPPSAKRPKLSSPALSASASDGTDFGSLFDLEHDLPDE...   \n",
              "1722  MGCPNCGSTTFESDTASGNTYCTQCGVVVEQDAIVSEVTFGEASTG...   \n",
              "\n",
              "                            SP cleavage-site annotation  Real Class  \n",
              "1718  NNNNNNNNNNNNNNNNNNNNNNNNNNNNNNNNNNNNNNNNNNNNNN...         0.0  \n",
              "1719  NNNNNNNNNNNNNNNNNNNNNNNNNNNNNNNNNNNNNNNNNNNNNN...         0.0  \n",
              "1720  NNNNNNNNNNNNNNNNNNNNNNNNNNNNNNNNNNNNNNNNNNNNNN...         0.0  \n",
              "1721  NNNNNNNNNNNNNNNNNNNNNNNNNNNNNNNNNNNNNNNNNNNNNN...         0.0  \n",
              "1722  NNNNNNNNNNNNNNNNNNNNNNNNNNNNNNNNNNNNNNNNNNNNNN...         0.0  "
            ],
            "text/html": [
              "\n",
              "  <div id=\"df-778e94ec-b767-4164-abde-a144f1398872\">\n",
              "    <div class=\"colab-df-container\">\n",
              "      <div>\n",
              "<style scoped>\n",
              "    .dataframe tbody tr th:only-of-type {\n",
              "        vertical-align: middle;\n",
              "    }\n",
              "\n",
              "    .dataframe tbody tr th {\n",
              "        vertical-align: top;\n",
              "    }\n",
              "\n",
              "    .dataframe thead th {\n",
              "        text-align: right;\n",
              "    }\n",
              "</style>\n",
              "<table border=\"1\" class=\"dataframe\">\n",
              "  <thead>\n",
              "    <tr style=\"text-align: right;\">\n",
              "      <th></th>\n",
              "      <th>UniProtKB accession</th>\n",
              "      <th>Taxa</th>\n",
              "      <th>Kingdom</th>\n",
              "      <th>Class</th>\n",
              "      <th>Cross-validation fold</th>\n",
              "      <th>Sequence (first 50 N-terminal residues)</th>\n",
              "      <th>SP cleavage-site annotation</th>\n",
              "      <th>Real Class</th>\n",
              "    </tr>\n",
              "  </thead>\n",
              "  <tbody>\n",
              "    <tr>\n",
              "      <th>1718</th>\n",
              "      <td>P62597</td>\n",
              "      <td>Gallus gallus (Chicken)</td>\n",
              "      <td>Metazoa</td>\n",
              "      <td>NO_SP</td>\n",
              "      <td>4</td>\n",
              "      <td>MPVQVLKIIKGKPETQLPSHLQREDLKHLQTGLDHTNKYFQGIVIL...</td>\n",
              "      <td>NNNNNNNNNNNNNNNNNNNNNNNNNNNNNNNNNNNNNNNNNNNNNN...</td>\n",
              "      <td>0.0</td>\n",
              "    </tr>\n",
              "    <tr>\n",
              "      <th>1719</th>\n",
              "      <td>Q7K4M4</td>\n",
              "      <td>Drosophila melanogaster (Fruit fly)</td>\n",
              "      <td>Metazoa</td>\n",
              "      <td>NO_SP</td>\n",
              "      <td>4</td>\n",
              "      <td>MSKFLDMLSGSQCVSLEKCGDVVVSTNDCMIALYCHFCRDLFTQLP...</td>\n",
              "      <td>NNNNNNNNNNNNNNNNNNNNNNNNNNNNNNNNNNNNNNNNNNNNNN...</td>\n",
              "      <td>0.0</td>\n",
              "    </tr>\n",
              "    <tr>\n",
              "      <th>1720</th>\n",
              "      <td>Q14146</td>\n",
              "      <td>Homo sapiens (Human)</td>\n",
              "      <td>Metazoa</td>\n",
              "      <td>NO_SP</td>\n",
              "      <td>4</td>\n",
              "      <td>MAAVYSGISLKLKSKTTSWEDKLKLAHFAWISHQCFLPNKEQVLLD...</td>\n",
              "      <td>NNNNNNNNNNNNNNNNNNNNNNNNNNNNNNNNNNNNNNNNNNNNNN...</td>\n",
              "      <td>0.0</td>\n",
              "    </tr>\n",
              "    <tr>\n",
              "      <th>1721</th>\n",
              "      <td>B2RWS6</td>\n",
              "      <td>Mus musculus (Mouse)</td>\n",
              "      <td>Metazoa</td>\n",
              "      <td>NO_SP</td>\n",
              "      <td>4</td>\n",
              "      <td>MAENVVEPGPPSAKRPKLSSPALSASASDGTDFGSLFDLEHDLPDE...</td>\n",
              "      <td>NNNNNNNNNNNNNNNNNNNNNNNNNNNNNNNNNNNNNNNNNNNNNN...</td>\n",
              "      <td>0.0</td>\n",
              "    </tr>\n",
              "    <tr>\n",
              "      <th>1722</th>\n",
              "      <td>Q9P6R0</td>\n",
              "      <td>Schizosaccharomyces pombe (strain 972 / ATCC 2...</td>\n",
              "      <td>Fungi</td>\n",
              "      <td>NO_SP</td>\n",
              "      <td>4</td>\n",
              "      <td>MGCPNCGSTTFESDTASGNTYCTQCGVVVEQDAIVSEVTFGEASTG...</td>\n",
              "      <td>NNNNNNNNNNNNNNNNNNNNNNNNNNNNNNNNNNNNNNNNNNNNNN...</td>\n",
              "      <td>0.0</td>\n",
              "    </tr>\n",
              "  </tbody>\n",
              "</table>\n",
              "</div>\n",
              "      <button class=\"colab-df-convert\" onclick=\"convertToInteractive('df-778e94ec-b767-4164-abde-a144f1398872')\"\n",
              "              title=\"Convert this dataframe to an interactive table.\"\n",
              "              style=\"display:none;\">\n",
              "        \n",
              "  <svg xmlns=\"http://www.w3.org/2000/svg\" height=\"24px\"viewBox=\"0 0 24 24\"\n",
              "       width=\"24px\">\n",
              "    <path d=\"M0 0h24v24H0V0z\" fill=\"none\"/>\n",
              "    <path d=\"M18.56 5.44l.94 2.06.94-2.06 2.06-.94-2.06-.94-.94-2.06-.94 2.06-2.06.94zm-11 1L8.5 8.5l.94-2.06 2.06-.94-2.06-.94L8.5 2.5l-.94 2.06-2.06.94zm10 10l.94 2.06.94-2.06 2.06-.94-2.06-.94-.94-2.06-.94 2.06-2.06.94z\"/><path d=\"M17.41 7.96l-1.37-1.37c-.4-.4-.92-.59-1.43-.59-.52 0-1.04.2-1.43.59L10.3 9.45l-7.72 7.72c-.78.78-.78 2.05 0 2.83L4 21.41c.39.39.9.59 1.41.59.51 0 1.02-.2 1.41-.59l7.78-7.78 2.81-2.81c.8-.78.8-2.07 0-2.86zM5.41 20L4 18.59l7.72-7.72 1.47 1.35L5.41 20z\"/>\n",
              "  </svg>\n",
              "      </button>\n",
              "      \n",
              "  <style>\n",
              "    .colab-df-container {\n",
              "      display:flex;\n",
              "      flex-wrap:wrap;\n",
              "      gap: 12px;\n",
              "    }\n",
              "\n",
              "    .colab-df-convert {\n",
              "      background-color: #E8F0FE;\n",
              "      border: none;\n",
              "      border-radius: 50%;\n",
              "      cursor: pointer;\n",
              "      display: none;\n",
              "      fill: #1967D2;\n",
              "      height: 32px;\n",
              "      padding: 0 0 0 0;\n",
              "      width: 32px;\n",
              "    }\n",
              "\n",
              "    .colab-df-convert:hover {\n",
              "      background-color: #E2EBFA;\n",
              "      box-shadow: 0px 1px 2px rgba(60, 64, 67, 0.3), 0px 1px 3px 1px rgba(60, 64, 67, 0.15);\n",
              "      fill: #174EA6;\n",
              "    }\n",
              "\n",
              "    [theme=dark] .colab-df-convert {\n",
              "      background-color: #3B4455;\n",
              "      fill: #D2E3FC;\n",
              "    }\n",
              "\n",
              "    [theme=dark] .colab-df-convert:hover {\n",
              "      background-color: #434B5C;\n",
              "      box-shadow: 0px 1px 3px 1px rgba(0, 0, 0, 0.15);\n",
              "      filter: drop-shadow(0px 1px 2px rgba(0, 0, 0, 0.3));\n",
              "      fill: #FFFFFF;\n",
              "    }\n",
              "  </style>\n",
              "\n",
              "      <script>\n",
              "        const buttonEl =\n",
              "          document.querySelector('#df-778e94ec-b767-4164-abde-a144f1398872 button.colab-df-convert');\n",
              "        buttonEl.style.display =\n",
              "          google.colab.kernel.accessAllowed ? 'block' : 'none';\n",
              "\n",
              "        async function convertToInteractive(key) {\n",
              "          const element = document.querySelector('#df-778e94ec-b767-4164-abde-a144f1398872');\n",
              "          const dataTable =\n",
              "            await google.colab.kernel.invokeFunction('convertToInteractive',\n",
              "                                                     [key], {});\n",
              "          if (!dataTable) return;\n",
              "\n",
              "          const docLinkHtml = 'Like what you see? Visit the ' +\n",
              "            '<a target=\"_blank\" href=https://colab.research.google.com/notebooks/data_table.ipynb>data table notebook</a>'\n",
              "            + ' to learn more about interactive tables.';\n",
              "          element.innerHTML = '';\n",
              "          dataTable['output_type'] = 'display_data';\n",
              "          await google.colab.output.renderOutput(dataTable, element);\n",
              "          const docLink = document.createElement('div');\n",
              "          docLink.innerHTML = docLinkHtml;\n",
              "          element.appendChild(docLink);\n",
              "        }\n",
              "      </script>\n",
              "    </div>\n",
              "  </div>\n",
              "  "
            ]
          },
          "metadata": {},
          "execution_count": 11
        }
      ]
    },
    {
      "cell_type": "markdown",
      "source": [
        "### Train and optimize the SVM with GridSearchCV"
      ],
      "metadata": {
        "id": "ffmEtODaOQcx"
      }
    },
    {
      "cell_type": "markdown",
      "source": [
        "#### Predefined split and gridsearchcv"
      ],
      "metadata": {
        "id": "2s0di9o56pMZ"
      }
    },
    {
      "cell_type": "code",
      "source": [
        "# Initialize empty matrix with lenght 20xN(sequences)\n",
        "res_order = [\"G\",\"A\",\"V\",\"P\",\"L\",\"I\",\"M\",\"F\",\"W\",\"Y\",\"S\",\"T\",\"C\",\"N\",\"Q\",\"H\",\"D\",\"E\",\"K\",\"R\"]\n",
        "\n",
        "# Encode residue frequency for each sequence\n",
        "seq_list = df['Sequence (first 50 N-terminal residues)'].tolist()\n",
        "X_list = []\n",
        "K = [19, 20, 21, 22, 23, 24]\n",
        "\n",
        "for k in K:\n",
        "  X = np.zeros((len(seq_list),20))\n",
        "  for i in range(len(seq_list)):\n",
        "    ks = seq_list[i][:k]\n",
        "    for j in range(k):\n",
        "      res = ks[j]\n",
        "      X[i][res_order.index(res)] += 1/k\n",
        "  X_list.append(X)\n",
        "\n",
        "# Extract real classification vector\n",
        "y = df['Real Class'].astype(int).tolist()"
      ],
      "metadata": {
        "id": "EvWHnynV6s7C"
      },
      "execution_count": null,
      "outputs": []
    },
    {
      "cell_type": "code",
      "source": [
        "# PredefinedSplit\n",
        "\n",
        "# Indices for Predefined split\n",
        "cv_indices = []\n",
        "for i in range(len(df)):\n",
        "    cv_indices.append(df['Cross-validation fold'][i])\n",
        "\n",
        "# Create predefined split object\n",
        "ps = PredefinedSplit(cv_indices)\n",
        "\n",
        "# Check splits\n",
        "for train_index, test_index in ps.split():\n",
        "  print(\"TRAIN:\", train_index, \"TEST:\", test_index)"
      ],
      "metadata": {
        "id": "fylngICxtXI-",
        "colab": {
          "base_uri": "https://localhost:8080/"
        },
        "outputId": "02868e1a-e276-4f55-d49e-da08e954c10a"
      },
      "execution_count": null,
      "outputs": [
        {
          "output_type": "stream",
          "name": "stdout",
          "text": [
            "TRAIN: [ 345  346  347 ... 1720 1721 1722] TEST: [  0   1   2   3   4   5   6   7   8   9  10  11  12  13  14  15  16  17\n",
            "  18  19  20  21  22  23  24  25  26  27  28  29  30  31  32  33  34  35\n",
            "  36  37  38  39  40  41  42  43  44  45  46  47  48  49  50  51  52  53\n",
            "  54  55  56  57  58  59  60  61  62  63  64  65  66  67  68  69  70  71\n",
            "  72  73  74  75  76  77  78  79  80  81  82  83  84  85  86  87  88  89\n",
            "  90  91  92  93  94  95  96  97  98  99 100 101 102 103 104 105 106 107\n",
            " 108 109 110 111 112 113 114 115 116 117 118 119 120 121 122 123 124 125\n",
            " 126 127 128 129 130 131 132 133 134 135 136 137 138 139 140 141 142 143\n",
            " 144 145 146 147 148 149 150 151 152 153 154 155 156 157 158 159 160 161\n",
            " 162 163 164 165 166 167 168 169 170 171 172 173 174 175 176 177 178 179\n",
            " 180 181 182 183 184 185 186 187 188 189 190 191 192 193 194 195 196 197\n",
            " 198 199 200 201 202 203 204 205 206 207 208 209 210 211 212 213 214 215\n",
            " 216 217 218 219 220 221 222 223 224 225 226 227 228 229 230 231 232 233\n",
            " 234 235 236 237 238 239 240 241 242 243 244 245 246 247 248 249 250 251\n",
            " 252 253 254 255 256 257 258 259 260 261 262 263 264 265 266 267 268 269\n",
            " 270 271 272 273 274 275 276 277 278 279 280 281 282 283 284 285 286 287\n",
            " 288 289 290 291 292 293 294 295 296 297 298 299 300 301 302 303 304 305\n",
            " 306 307 308 309 310 311 312 313 314 315 316 317 318 319 320 321 322 323\n",
            " 324 325 326 327 328 329 330 331 332 333 334 335 336 337 338 339 340 341\n",
            " 342 343 344]\n",
            "TRAIN: [   0    1    2 ... 1720 1721 1722] TEST: [345 346 347 348 349 350 351 352 353 354 355 356 357 358 359 360 361 362\n",
            " 363 364 365 366 367 368 369 370 371 372 373 374 375 376 377 378 379 380\n",
            " 381 382 383 384 385 386 387 388 389 390 391 392 393 394 395 396 397 398\n",
            " 399 400 401 402 403 404 405 406 407 408 409 410 411 412 413 414 415 416\n",
            " 417 418 419 420 421 422 423 424 425 426 427 428 429 430 431 432 433 434\n",
            " 435 436 437 438 439 440 441 442 443 444 445 446 447 448 449 450 451 452\n",
            " 453 454 455 456 457 458 459 460 461 462 463 464 465 466 467 468 469 470\n",
            " 471 472 473 474 475 476 477 478 479 480 481 482 483 484 485 486 487 488\n",
            " 489 490 491 492 493 494 495 496 497 498 499 500 501 502 503 504 505 506\n",
            " 507 508 509 510 511 512 513 514 515 516 517 518 519 520 521 522 523 524\n",
            " 525 526 527 528 529 530 531 532 533 534 535 536 537 538 539 540 541 542\n",
            " 543 544 545 546 547 548 549 550 551 552 553 554 555 556 557 558 559 560\n",
            " 561 562 563 564 565 566 567 568 569 570 571 572 573 574 575 576 577 578\n",
            " 579 580 581 582 583 584 585 586 587 588 589 590 591 592 593 594 595 596\n",
            " 597 598 599 600 601 602 603 604 605 606 607 608 609 610 611 612 613 614\n",
            " 615 616 617 618 619 620 621 622 623 624 625 626 627 628 629 630 631 632\n",
            " 633 634 635 636 637 638 639 640 641 642 643 644 645 646 647 648 649 650\n",
            " 651 652 653 654 655 656 657 658 659 660 661 662 663 664 665 666 667 668\n",
            " 669 670 671 672 673 674 675 676 677 678 679 680 681 682 683 684 685 686\n",
            " 687 688 689]\n",
            "TRAIN: [   0    1    2 ... 1720 1721 1722] TEST: [ 690  691  692  693  694  695  696  697  698  699  700  701  702  703\n",
            "  704  705  706  707  708  709  710  711  712  713  714  715  716  717\n",
            "  718  719  720  721  722  723  724  725  726  727  728  729  730  731\n",
            "  732  733  734  735  736  737  738  739  740  741  742  743  744  745\n",
            "  746  747  748  749  750  751  752  753  754  755  756  757  758  759\n",
            "  760  761  762  763  764  765  766  767  768  769  770  771  772  773\n",
            "  774  775  776  777  778  779  780  781  782  783  784  785  786  787\n",
            "  788  789  790  791  792  793  794  795  796  797  798  799  800  801\n",
            "  802  803  804  805  806  807  808  809  810  811  812  813  814  815\n",
            "  816  817  818  819  820  821  822  823  824  825  826  827  828  829\n",
            "  830  831  832  833  834  835  836  837  838  839  840  841  842  843\n",
            "  844  845  846  847  848  849  850  851  852  853  854  855  856  857\n",
            "  858  859  860  861  862  863  864  865  866  867  868  869  870  871\n",
            "  872  873  874  875  876  877  878  879  880  881  882  883  884  885\n",
            "  886  887  888  889  890  891  892  893  894  895  896  897  898  899\n",
            "  900  901  902  903  904  905  906  907  908  909  910  911  912  913\n",
            "  914  915  916  917  918  919  920  921  922  923  924  925  926  927\n",
            "  928  929  930  931  932  933  934  935  936  937  938  939  940  941\n",
            "  942  943  944  945  946  947  948  949  950  951  952  953  954  955\n",
            "  956  957  958  959  960  961  962  963  964  965  966  967  968  969\n",
            "  970  971  972  973  974  975  976  977  978  979  980  981  982  983\n",
            "  984  985  986  987  988  989  990  991  992  993  994  995  996  997\n",
            "  998  999 1000 1001 1002 1003 1004 1005 1006 1007 1008 1009 1010 1011\n",
            " 1012 1013 1014 1015 1016 1017 1018 1019 1020 1021 1022 1023 1024 1025\n",
            " 1026 1027 1028 1029 1030 1031 1032 1033 1034]\n",
            "TRAIN: [   0    1    2 ... 1720 1721 1722] TEST: [1035 1036 1037 1038 1039 1040 1041 1042 1043 1044 1045 1046 1047 1048\n",
            " 1049 1050 1051 1052 1053 1054 1055 1056 1057 1058 1059 1060 1061 1062\n",
            " 1063 1064 1065 1066 1067 1068 1069 1070 1071 1072 1073 1074 1075 1076\n",
            " 1077 1078 1079 1080 1081 1082 1083 1084 1085 1086 1087 1088 1089 1090\n",
            " 1091 1092 1093 1094 1095 1096 1097 1098 1099 1100 1101 1102 1103 1104\n",
            " 1105 1106 1107 1108 1109 1110 1111 1112 1113 1114 1115 1116 1117 1118\n",
            " 1119 1120 1121 1122 1123 1124 1125 1126 1127 1128 1129 1130 1131 1132\n",
            " 1133 1134 1135 1136 1137 1138 1139 1140 1141 1142 1143 1144 1145 1146\n",
            " 1147 1148 1149 1150 1151 1152 1153 1154 1155 1156 1157 1158 1159 1160\n",
            " 1161 1162 1163 1164 1165 1166 1167 1168 1169 1170 1171 1172 1173 1174\n",
            " 1175 1176 1177 1178 1179 1180 1181 1182 1183 1184 1185 1186 1187 1188\n",
            " 1189 1190 1191 1192 1193 1194 1195 1196 1197 1198 1199 1200 1201 1202\n",
            " 1203 1204 1205 1206 1207 1208 1209 1210 1211 1212 1213 1214 1215 1216\n",
            " 1217 1218 1219 1220 1221 1222 1223 1224 1225 1226 1227 1228 1229 1230\n",
            " 1231 1232 1233 1234 1235 1236 1237 1238 1239 1240 1241 1242 1243 1244\n",
            " 1245 1246 1247 1248 1249 1250 1251 1252 1253 1254 1255 1256 1257 1258\n",
            " 1259 1260 1261 1262 1263 1264 1265 1266 1267 1268 1269 1270 1271 1272\n",
            " 1273 1274 1275 1276 1277 1278 1279 1280 1281 1282 1283 1284 1285 1286\n",
            " 1287 1288 1289 1290 1291 1292 1293 1294 1295 1296 1297 1298 1299 1300\n",
            " 1301 1302 1303 1304 1305 1306 1307 1308 1309 1310 1311 1312 1313 1314\n",
            " 1315 1316 1317 1318 1319 1320 1321 1322 1323 1324 1325 1326 1327 1328\n",
            " 1329 1330 1331 1332 1333 1334 1335 1336 1337 1338 1339 1340 1341 1342\n",
            " 1343 1344 1345 1346 1347 1348 1349 1350 1351 1352 1353 1354 1355 1356\n",
            " 1357 1358 1359 1360 1361 1362 1363 1364 1365 1366 1367 1368 1369 1370\n",
            " 1371 1372 1373 1374 1375 1376 1377 1378 1379]\n",
            "TRAIN: [   0    1    2 ... 1377 1378 1379] TEST: [1380 1381 1382 1383 1384 1385 1386 1387 1388 1389 1390 1391 1392 1393\n",
            " 1394 1395 1396 1397 1398 1399 1400 1401 1402 1403 1404 1405 1406 1407\n",
            " 1408 1409 1410 1411 1412 1413 1414 1415 1416 1417 1418 1419 1420 1421\n",
            " 1422 1423 1424 1425 1426 1427 1428 1429 1430 1431 1432 1433 1434 1435\n",
            " 1436 1437 1438 1439 1440 1441 1442 1443 1444 1445 1446 1447 1448 1449\n",
            " 1450 1451 1452 1453 1454 1455 1456 1457 1458 1459 1460 1461 1462 1463\n",
            " 1464 1465 1466 1467 1468 1469 1470 1471 1472 1473 1474 1475 1476 1477\n",
            " 1478 1479 1480 1481 1482 1483 1484 1485 1486 1487 1488 1489 1490 1491\n",
            " 1492 1493 1494 1495 1496 1497 1498 1499 1500 1501 1502 1503 1504 1505\n",
            " 1506 1507 1508 1509 1510 1511 1512 1513 1514 1515 1516 1517 1518 1519\n",
            " 1520 1521 1522 1523 1524 1525 1526 1527 1528 1529 1530 1531 1532 1533\n",
            " 1534 1535 1536 1537 1538 1539 1540 1541 1542 1543 1544 1545 1546 1547\n",
            " 1548 1549 1550 1551 1552 1553 1554 1555 1556 1557 1558 1559 1560 1561\n",
            " 1562 1563 1564 1565 1566 1567 1568 1569 1570 1571 1572 1573 1574 1575\n",
            " 1576 1577 1578 1579 1580 1581 1582 1583 1584 1585 1586 1587 1588 1589\n",
            " 1590 1591 1592 1593 1594 1595 1596 1597 1598 1599 1600 1601 1602 1603\n",
            " 1604 1605 1606 1607 1608 1609 1610 1611 1612 1613 1614 1615 1616 1617\n",
            " 1618 1619 1620 1621 1622 1623 1624 1625 1626 1627 1628 1629 1630 1631\n",
            " 1632 1633 1634 1635 1636 1637 1638 1639 1640 1641 1642 1643 1644 1645\n",
            " 1646 1647 1648 1649 1650 1651 1652 1653 1654 1655 1656 1657 1658 1659\n",
            " 1660 1661 1662 1663 1664 1665 1666 1667 1668 1669 1670 1671 1672 1673\n",
            " 1674 1675 1676 1677 1678 1679 1680 1681 1682 1683 1684 1685 1686 1687\n",
            " 1688 1689 1690 1691 1692 1693 1694 1695 1696 1697 1698 1699 1700 1701\n",
            " 1702 1703 1704 1705 1706 1707 1708 1709 1710 1711 1712 1713 1714 1715\n",
            " 1716 1717 1718 1719 1720 1721 1722]\n"
          ]
        }
      ]
    },
    {
      "cell_type": "markdown",
      "source": [
        "#### Custom scoring f with matthew corr"
      ],
      "metadata": {
        "id": "jA0xPbsoFuJb"
      }
    },
    {
      "cell_type": "code",
      "source": [
        "def mcc(y_true, y_pred):\n",
        "\n",
        "  TP, FP, FN, TN = 0, 0, 0, 0\n",
        "\n",
        "  # Confusion matric\n",
        "  for true, pred in zip(y_true, y_pred):\n",
        "\n",
        "      if true == 0 and pred == 0:\n",
        "        TP += 1\n",
        "      if true == 1 and pred == 1:\n",
        "        TN += 1\n",
        "      if true == 0 and pred == 1:\n",
        "        FP += 1\n",
        "      elif true == 1 and pred == 0:\n",
        "        FN += 1\n",
        "\n",
        "  # MCC\n",
        "  num = TP*TN - FP*FN\n",
        "  den = np.sqrt((TP+FP)*(TP+FN)*(TN+FP)*(TN+FN))\n",
        "  mcc = num/den\n",
        "\n",
        "  return mcc\n",
        "\n",
        "\n",
        "# Custom scorer\n",
        "custom_scoring = make_scorer(mcc, greater_is_better=True)"
      ],
      "metadata": {
        "id": "D0qJ3hJ9EEd1"
      },
      "execution_count": null,
      "outputs": []
    },
    {
      "cell_type": "markdown",
      "source": [
        "#### Grid search\n",
        "\n"
      ],
      "metadata": {
        "id": "IADye7zxG7ye"
      }
    },
    {
      "cell_type": "markdown",
      "source": [
        "Notice that C = 1.0 and gamma = 0.1 raised error due to double scalar calculations."
      ],
      "metadata": {
        "id": "oCY3NXlLPgGW"
      }
    },
    {
      "cell_type": "markdown",
      "source": [
        "##### MCC"
      ],
      "metadata": {
        "id": "vdn-j59GLfO9"
      }
    },
    {
      "cell_type": "code",
      "source": [
        "# Initialize a performance summary dataframe\n",
        "\n",
        "cv_SVM_summary = pd.DataFrame(columns=['MCC', 'Q2', 'Precision', 'Recall', 'F1'], index=['SVM'])"
      ],
      "metadata": {
        "id": "aOx0Q8nj53Dp"
      },
      "execution_count": null,
      "outputs": []
    },
    {
      "cell_type": "code",
      "source": [
        "K = [19, 20, 21, 22, 23, 24]\n",
        "\n",
        "best = 0\n",
        "std = 0\n",
        "\n",
        "for k in range(len(K)):  \n",
        "\n",
        "  tuned_parameters = {\"C\": [i for i in range(1,20)], \n",
        "                      \"gamma\": [0.2, 0.3, 0.4, 0.5, 0.6, 0.7, 0.8, 0.9, 1, 1.1, 'scale']}\n",
        "\n",
        "  clf =  GridSearchCV(SVC(kernel='rbf'),\n",
        "          tuned_parameters, scoring=custom_scoring, cv=ps)\n",
        "  clf.fit(X_list[k], y)\n",
        "\n",
        "  print(\"Best parameters set found on training set with k = %s: \" % K[k])\n",
        "  print()\n",
        "  print(clf.best_params_)\n",
        "  print()\n",
        "  print(clf.cv_results_[\"mean_test_score\"].max())\n",
        "  print()\n",
        "\n",
        "  if clf.cv_results_[\"mean_test_score\"].max() > best:\n",
        "    index = clf.cv_results_[\"mean_test_score\"].argmax()\n",
        "    best = clf.cv_results_[\"mean_test_score\"].max()\n",
        "    std = clf.cv_results_[\"std_test_score\"][index] # Find standard dev\n",
        "\n",
        "mean = best\n",
        "std = std\n",
        "cv_SVM_summary['MCC'] = \"{mean:.4f} +/- {se:.4f}\".format(mean=mean, se=std/(5**(.5)))"
      ],
      "metadata": {
        "colab": {
          "base_uri": "https://localhost:8080/"
        },
        "id": "Mk6o8A7TLeiB",
        "outputId": "b405993e-a361-4594-975c-c476820cb330"
      },
      "execution_count": null,
      "outputs": [
        {
          "output_type": "stream",
          "name": "stdout",
          "text": [
            "Best parameters set found on training set with k = 19: \n",
            "\n",
            "{'C': 16, 'gamma': 0.8}\n",
            "\n",
            "0.8578173223013147\n",
            "\n",
            "Best parameters set found on training set with k = 20: \n",
            "\n",
            "{'C': 13, 'gamma': 0.9}\n",
            "\n",
            "0.8441273309583208\n",
            "\n",
            "Best parameters set found on training set with k = 21: \n",
            "\n",
            "{'C': 12, 'gamma': 0.8}\n",
            "\n",
            "0.8185430290999058\n",
            "\n",
            "Best parameters set found on training set with k = 22: \n",
            "\n",
            "{'C': 12, 'gamma': 1}\n",
            "\n",
            "0.8154366070853494\n",
            "\n",
            "Best parameters set found on training set with k = 23: \n",
            "\n",
            "{'C': 3, 'gamma': 'scale'}\n",
            "\n",
            "0.7942412235249341\n",
            "\n",
            "Best parameters set found on training set with k = 24: \n",
            "\n",
            "{'C': 17, 'gamma': 0.8}\n",
            "\n",
            "0.7861645438630388\n",
            "\n"
          ]
        }
      ]
    },
    {
      "cell_type": "code",
      "source": [
        "cv_SVM_summary"
      ],
      "metadata": {
        "colab": {
          "base_uri": "https://localhost:8080/",
          "height": 81
        },
        "id": "U6rXEDf9BMI6",
        "outputId": "2ad22470-6dbe-4677-f99c-82ecad327dc5"
      },
      "execution_count": null,
      "outputs": [
        {
          "output_type": "execute_result",
          "data": {
            "text/plain": [
              "                   MCC   Q2 Precision Recall   F1\n",
              "SVM  0.8578 +/- 0.0131  NaN       NaN    NaN  NaN"
            ],
            "text/html": [
              "\n",
              "  <div id=\"df-9521f65f-fa6c-4789-9433-ab4beff4898b\">\n",
              "    <div class=\"colab-df-container\">\n",
              "      <div>\n",
              "<style scoped>\n",
              "    .dataframe tbody tr th:only-of-type {\n",
              "        vertical-align: middle;\n",
              "    }\n",
              "\n",
              "    .dataframe tbody tr th {\n",
              "        vertical-align: top;\n",
              "    }\n",
              "\n",
              "    .dataframe thead th {\n",
              "        text-align: right;\n",
              "    }\n",
              "</style>\n",
              "<table border=\"1\" class=\"dataframe\">\n",
              "  <thead>\n",
              "    <tr style=\"text-align: right;\">\n",
              "      <th></th>\n",
              "      <th>MCC</th>\n",
              "      <th>Q2</th>\n",
              "      <th>Precision</th>\n",
              "      <th>Recall</th>\n",
              "      <th>F1</th>\n",
              "    </tr>\n",
              "  </thead>\n",
              "  <tbody>\n",
              "    <tr>\n",
              "      <th>SVM</th>\n",
              "      <td>0.8578 +/- 0.0131</td>\n",
              "      <td>NaN</td>\n",
              "      <td>NaN</td>\n",
              "      <td>NaN</td>\n",
              "      <td>NaN</td>\n",
              "    </tr>\n",
              "  </tbody>\n",
              "</table>\n",
              "</div>\n",
              "      <button class=\"colab-df-convert\" onclick=\"convertToInteractive('df-9521f65f-fa6c-4789-9433-ab4beff4898b')\"\n",
              "              title=\"Convert this dataframe to an interactive table.\"\n",
              "              style=\"display:none;\">\n",
              "        \n",
              "  <svg xmlns=\"http://www.w3.org/2000/svg\" height=\"24px\"viewBox=\"0 0 24 24\"\n",
              "       width=\"24px\">\n",
              "    <path d=\"M0 0h24v24H0V0z\" fill=\"none\"/>\n",
              "    <path d=\"M18.56 5.44l.94 2.06.94-2.06 2.06-.94-2.06-.94-.94-2.06-.94 2.06-2.06.94zm-11 1L8.5 8.5l.94-2.06 2.06-.94-2.06-.94L8.5 2.5l-.94 2.06-2.06.94zm10 10l.94 2.06.94-2.06 2.06-.94-2.06-.94-.94-2.06-.94 2.06-2.06.94z\"/><path d=\"M17.41 7.96l-1.37-1.37c-.4-.4-.92-.59-1.43-.59-.52 0-1.04.2-1.43.59L10.3 9.45l-7.72 7.72c-.78.78-.78 2.05 0 2.83L4 21.41c.39.39.9.59 1.41.59.51 0 1.02-.2 1.41-.59l7.78-7.78 2.81-2.81c.8-.78.8-2.07 0-2.86zM5.41 20L4 18.59l7.72-7.72 1.47 1.35L5.41 20z\"/>\n",
              "  </svg>\n",
              "      </button>\n",
              "      \n",
              "  <style>\n",
              "    .colab-df-container {\n",
              "      display:flex;\n",
              "      flex-wrap:wrap;\n",
              "      gap: 12px;\n",
              "    }\n",
              "\n",
              "    .colab-df-convert {\n",
              "      background-color: #E8F0FE;\n",
              "      border: none;\n",
              "      border-radius: 50%;\n",
              "      cursor: pointer;\n",
              "      display: none;\n",
              "      fill: #1967D2;\n",
              "      height: 32px;\n",
              "      padding: 0 0 0 0;\n",
              "      width: 32px;\n",
              "    }\n",
              "\n",
              "    .colab-df-convert:hover {\n",
              "      background-color: #E2EBFA;\n",
              "      box-shadow: 0px 1px 2px rgba(60, 64, 67, 0.3), 0px 1px 3px 1px rgba(60, 64, 67, 0.15);\n",
              "      fill: #174EA6;\n",
              "    }\n",
              "\n",
              "    [theme=dark] .colab-df-convert {\n",
              "      background-color: #3B4455;\n",
              "      fill: #D2E3FC;\n",
              "    }\n",
              "\n",
              "    [theme=dark] .colab-df-convert:hover {\n",
              "      background-color: #434B5C;\n",
              "      box-shadow: 0px 1px 3px 1px rgba(0, 0, 0, 0.15);\n",
              "      filter: drop-shadow(0px 1px 2px rgba(0, 0, 0, 0.3));\n",
              "      fill: #FFFFFF;\n",
              "    }\n",
              "  </style>\n",
              "\n",
              "      <script>\n",
              "        const buttonEl =\n",
              "          document.querySelector('#df-9521f65f-fa6c-4789-9433-ab4beff4898b button.colab-df-convert');\n",
              "        buttonEl.style.display =\n",
              "          google.colab.kernel.accessAllowed ? 'block' : 'none';\n",
              "\n",
              "        async function convertToInteractive(key) {\n",
              "          const element = document.querySelector('#df-9521f65f-fa6c-4789-9433-ab4beff4898b');\n",
              "          const dataTable =\n",
              "            await google.colab.kernel.invokeFunction('convertToInteractive',\n",
              "                                                     [key], {});\n",
              "          if (!dataTable) return;\n",
              "\n",
              "          const docLinkHtml = 'Like what you see? Visit the ' +\n",
              "            '<a target=\"_blank\" href=https://colab.research.google.com/notebooks/data_table.ipynb>data table notebook</a>'\n",
              "            + ' to learn more about interactive tables.';\n",
              "          element.innerHTML = '';\n",
              "          dataTable['output_type'] = 'display_data';\n",
              "          await google.colab.output.renderOutput(dataTable, element);\n",
              "          const docLink = document.createElement('div');\n",
              "          docLink.innerHTML = docLinkHtml;\n",
              "          element.appendChild(docLink);\n",
              "        }\n",
              "      </script>\n",
              "    </div>\n",
              "  </div>\n",
              "  "
            ]
          },
          "metadata": {},
          "execution_count": 17
        }
      ]
    },
    {
      "cell_type": "markdown",
      "source": [
        "##### Accuracy, Precision, recall, F1"
      ],
      "metadata": {
        "id": "_vh0OpoyLv3g"
      }
    },
    {
      "cell_type": "code",
      "source": [
        "tuned_parameters = {\"C\": [16], \n",
        "                    \"gamma\": [.8]}\n",
        "scores = [\"accuracy\", \"precision\", \"recall\", \"f1\"]\n",
        "formatted_scores = ['Q2', 'Precision', 'Recall', 'F1']\n",
        "\n",
        "for score in scores:\n",
        "  print(\"# Tuning hyper-parameters for %s\" % score)\n",
        "  print()\n",
        "\n",
        "  clf =  GridSearchCV(SVC(kernel='rbf'),\n",
        "          tuned_parameters, scoring=\"%s\" % score, cv=ps)\n",
        "  clf.fit(X_list[0], y)\n",
        "\n",
        "  print(\"Best parameters set found on development set:\")\n",
        "  print()\n",
        "  print(clf.best_params_)\n",
        "  print()\n",
        "  print(clf.cv_results_[\"mean_test_score\"][0])\n",
        "  print()\n",
        "  print()\n",
        "\n",
        "  mean = clf.cv_results_[\"mean_test_score\"][0]\n",
        "  std = clf.cv_results_[\"std_test_score\"][0]\n",
        "  cv_SVM_summary[formatted_scores[scores.index(score)]] = \"{mean:.4f} +/- {se:.4f}\".format(mean=mean, se=std/(5**(.5)))\n",
        "  "
      ],
      "metadata": {
        "id": "syOaUhyv11vM",
        "colab": {
          "base_uri": "https://localhost:8080/"
        },
        "outputId": "bf30c662-d2ef-40e3-ebe1-75a9fd379dff"
      },
      "execution_count": null,
      "outputs": [
        {
          "output_type": "stream",
          "name": "stdout",
          "text": [
            "# Tuning hyper-parameters for accuracy\n",
            "\n",
            "Best parameters set found on development set:\n",
            "\n",
            "{'C': 16, 'gamma': 0.8}\n",
            "\n",
            "0.9640174082055182\n",
            "\n",
            "\n",
            "# Tuning hyper-parameters for precision\n",
            "\n",
            "Best parameters set found on development set:\n",
            "\n",
            "{'C': 16, 'gamma': 0.8}\n",
            "\n",
            "0.9065091185410333\n",
            "\n",
            "\n",
            "# Tuning hyper-parameters for recall\n",
            "\n",
            "Best parameters set found on development set:\n",
            "\n",
            "{'C': 16, 'gamma': 0.8}\n",
            "\n",
            "0.852923076923077\n",
            "\n",
            "\n",
            "# Tuning hyper-parameters for f1\n",
            "\n",
            "Best parameters set found on development set:\n",
            "\n",
            "{'C': 16, 'gamma': 0.8}\n",
            "\n",
            "0.8771199716462874\n",
            "\n",
            "\n"
          ]
        }
      ]
    },
    {
      "cell_type": "code",
      "source": [
        "cv_SVM_summary"
      ],
      "metadata": {
        "colab": {
          "base_uri": "https://localhost:8080/",
          "height": 81
        },
        "id": "o6pxVKsjL1kB",
        "outputId": "ab9a1c72-b08b-41e5-dd4a-4c696e5a36f7"
      },
      "execution_count": null,
      "outputs": [
        {
          "output_type": "execute_result",
          "data": {
            "text/plain": [
              "                   MCC                 Q2          Precision  \\\n",
              "SVM  0.8578 +/- 0.0131  0.9640 +/- 0.0035  0.9065 +/- 0.0267   \n",
              "\n",
              "                Recall                 F1  \n",
              "SVM  0.8529 +/- 0.0136  0.8771 +/- 0.0105  "
            ],
            "text/html": [
              "\n",
              "  <div id=\"df-8fac1686-a349-4bb5-a9d0-c4597e172c50\">\n",
              "    <div class=\"colab-df-container\">\n",
              "      <div>\n",
              "<style scoped>\n",
              "    .dataframe tbody tr th:only-of-type {\n",
              "        vertical-align: middle;\n",
              "    }\n",
              "\n",
              "    .dataframe tbody tr th {\n",
              "        vertical-align: top;\n",
              "    }\n",
              "\n",
              "    .dataframe thead th {\n",
              "        text-align: right;\n",
              "    }\n",
              "</style>\n",
              "<table border=\"1\" class=\"dataframe\">\n",
              "  <thead>\n",
              "    <tr style=\"text-align: right;\">\n",
              "      <th></th>\n",
              "      <th>MCC</th>\n",
              "      <th>Q2</th>\n",
              "      <th>Precision</th>\n",
              "      <th>Recall</th>\n",
              "      <th>F1</th>\n",
              "    </tr>\n",
              "  </thead>\n",
              "  <tbody>\n",
              "    <tr>\n",
              "      <th>SVM</th>\n",
              "      <td>0.8578 +/- 0.0131</td>\n",
              "      <td>0.9640 +/- 0.0035</td>\n",
              "      <td>0.9065 +/- 0.0267</td>\n",
              "      <td>0.8529 +/- 0.0136</td>\n",
              "      <td>0.8771 +/- 0.0105</td>\n",
              "    </tr>\n",
              "  </tbody>\n",
              "</table>\n",
              "</div>\n",
              "      <button class=\"colab-df-convert\" onclick=\"convertToInteractive('df-8fac1686-a349-4bb5-a9d0-c4597e172c50')\"\n",
              "              title=\"Convert this dataframe to an interactive table.\"\n",
              "              style=\"display:none;\">\n",
              "        \n",
              "  <svg xmlns=\"http://www.w3.org/2000/svg\" height=\"24px\"viewBox=\"0 0 24 24\"\n",
              "       width=\"24px\">\n",
              "    <path d=\"M0 0h24v24H0V0z\" fill=\"none\"/>\n",
              "    <path d=\"M18.56 5.44l.94 2.06.94-2.06 2.06-.94-2.06-.94-.94-2.06-.94 2.06-2.06.94zm-11 1L8.5 8.5l.94-2.06 2.06-.94-2.06-.94L8.5 2.5l-.94 2.06-2.06.94zm10 10l.94 2.06.94-2.06 2.06-.94-2.06-.94-.94-2.06-.94 2.06-2.06.94z\"/><path d=\"M17.41 7.96l-1.37-1.37c-.4-.4-.92-.59-1.43-.59-.52 0-1.04.2-1.43.59L10.3 9.45l-7.72 7.72c-.78.78-.78 2.05 0 2.83L4 21.41c.39.39.9.59 1.41.59.51 0 1.02-.2 1.41-.59l7.78-7.78 2.81-2.81c.8-.78.8-2.07 0-2.86zM5.41 20L4 18.59l7.72-7.72 1.47 1.35L5.41 20z\"/>\n",
              "  </svg>\n",
              "      </button>\n",
              "      \n",
              "  <style>\n",
              "    .colab-df-container {\n",
              "      display:flex;\n",
              "      flex-wrap:wrap;\n",
              "      gap: 12px;\n",
              "    }\n",
              "\n",
              "    .colab-df-convert {\n",
              "      background-color: #E8F0FE;\n",
              "      border: none;\n",
              "      border-radius: 50%;\n",
              "      cursor: pointer;\n",
              "      display: none;\n",
              "      fill: #1967D2;\n",
              "      height: 32px;\n",
              "      padding: 0 0 0 0;\n",
              "      width: 32px;\n",
              "    }\n",
              "\n",
              "    .colab-df-convert:hover {\n",
              "      background-color: #E2EBFA;\n",
              "      box-shadow: 0px 1px 2px rgba(60, 64, 67, 0.3), 0px 1px 3px 1px rgba(60, 64, 67, 0.15);\n",
              "      fill: #174EA6;\n",
              "    }\n",
              "\n",
              "    [theme=dark] .colab-df-convert {\n",
              "      background-color: #3B4455;\n",
              "      fill: #D2E3FC;\n",
              "    }\n",
              "\n",
              "    [theme=dark] .colab-df-convert:hover {\n",
              "      background-color: #434B5C;\n",
              "      box-shadow: 0px 1px 3px 1px rgba(0, 0, 0, 0.15);\n",
              "      filter: drop-shadow(0px 1px 2px rgba(0, 0, 0, 0.3));\n",
              "      fill: #FFFFFF;\n",
              "    }\n",
              "  </style>\n",
              "\n",
              "      <script>\n",
              "        const buttonEl =\n",
              "          document.querySelector('#df-8fac1686-a349-4bb5-a9d0-c4597e172c50 button.colab-df-convert');\n",
              "        buttonEl.style.display =\n",
              "          google.colab.kernel.accessAllowed ? 'block' : 'none';\n",
              "\n",
              "        async function convertToInteractive(key) {\n",
              "          const element = document.querySelector('#df-8fac1686-a349-4bb5-a9d0-c4597e172c50');\n",
              "          const dataTable =\n",
              "            await google.colab.kernel.invokeFunction('convertToInteractive',\n",
              "                                                     [key], {});\n",
              "          if (!dataTable) return;\n",
              "\n",
              "          const docLinkHtml = 'Like what you see? Visit the ' +\n",
              "            '<a target=\"_blank\" href=https://colab.research.google.com/notebooks/data_table.ipynb>data table notebook</a>'\n",
              "            + ' to learn more about interactive tables.';\n",
              "          element.innerHTML = '';\n",
              "          dataTable['output_type'] = 'display_data';\n",
              "          await google.colab.output.renderOutput(dataTable, element);\n",
              "          const docLink = document.createElement('div');\n",
              "          docLink.innerHTML = docLinkHtml;\n",
              "          element.appendChild(docLink);\n",
              "        }\n",
              "      </script>\n",
              "    </div>\n",
              "  </div>\n",
              "  "
            ]
          },
          "metadata": {},
          "execution_count": 19
        }
      ]
    },
    {
      "cell_type": "code",
      "source": [
        "# Crossvalidation summary\n",
        "\n",
        "mcc_results = pd.DataFrame.from_dict(clf.cv_results_)\n",
        "mcc_results = mcc_results[['params', 'mean_test_score', 'std_test_score']]\n",
        "\n",
        "mcc_results['se_test'] = mcc_results.std_test_score/(5**(.5))"
      ],
      "metadata": {
        "id": "LQg8GMCQTNXK"
      },
      "execution_count": null,
      "outputs": []
    },
    {
      "cell_type": "code",
      "source": [
        "mcc_results"
      ],
      "metadata": {
        "colab": {
          "base_uri": "https://localhost:8080/",
          "height": 81
        },
        "id": "56p7YP9j2ieN",
        "outputId": "b889ad96-d137-4887-c64d-2f704e3bc226"
      },
      "execution_count": null,
      "outputs": [
        {
          "output_type": "execute_result",
          "data": {
            "text/plain": [
              "                    params  mean_test_score  std_test_score   se_test\n",
              "0  {'C': 16, 'gamma': 0.8}          0.87712        0.023589  0.010549"
            ],
            "text/html": [
              "\n",
              "  <div id=\"df-45469e6a-0d6a-4234-899b-d4f164b6bf4e\">\n",
              "    <div class=\"colab-df-container\">\n",
              "      <div>\n",
              "<style scoped>\n",
              "    .dataframe tbody tr th:only-of-type {\n",
              "        vertical-align: middle;\n",
              "    }\n",
              "\n",
              "    .dataframe tbody tr th {\n",
              "        vertical-align: top;\n",
              "    }\n",
              "\n",
              "    .dataframe thead th {\n",
              "        text-align: right;\n",
              "    }\n",
              "</style>\n",
              "<table border=\"1\" class=\"dataframe\">\n",
              "  <thead>\n",
              "    <tr style=\"text-align: right;\">\n",
              "      <th></th>\n",
              "      <th>params</th>\n",
              "      <th>mean_test_score</th>\n",
              "      <th>std_test_score</th>\n",
              "      <th>se_test</th>\n",
              "    </tr>\n",
              "  </thead>\n",
              "  <tbody>\n",
              "    <tr>\n",
              "      <th>0</th>\n",
              "      <td>{'C': 16, 'gamma': 0.8}</td>\n",
              "      <td>0.87712</td>\n",
              "      <td>0.023589</td>\n",
              "      <td>0.010549</td>\n",
              "    </tr>\n",
              "  </tbody>\n",
              "</table>\n",
              "</div>\n",
              "      <button class=\"colab-df-convert\" onclick=\"convertToInteractive('df-45469e6a-0d6a-4234-899b-d4f164b6bf4e')\"\n",
              "              title=\"Convert this dataframe to an interactive table.\"\n",
              "              style=\"display:none;\">\n",
              "        \n",
              "  <svg xmlns=\"http://www.w3.org/2000/svg\" height=\"24px\"viewBox=\"0 0 24 24\"\n",
              "       width=\"24px\">\n",
              "    <path d=\"M0 0h24v24H0V0z\" fill=\"none\"/>\n",
              "    <path d=\"M18.56 5.44l.94 2.06.94-2.06 2.06-.94-2.06-.94-.94-2.06-.94 2.06-2.06.94zm-11 1L8.5 8.5l.94-2.06 2.06-.94-2.06-.94L8.5 2.5l-.94 2.06-2.06.94zm10 10l.94 2.06.94-2.06 2.06-.94-2.06-.94-.94-2.06-.94 2.06-2.06.94z\"/><path d=\"M17.41 7.96l-1.37-1.37c-.4-.4-.92-.59-1.43-.59-.52 0-1.04.2-1.43.59L10.3 9.45l-7.72 7.72c-.78.78-.78 2.05 0 2.83L4 21.41c.39.39.9.59 1.41.59.51 0 1.02-.2 1.41-.59l7.78-7.78 2.81-2.81c.8-.78.8-2.07 0-2.86zM5.41 20L4 18.59l7.72-7.72 1.47 1.35L5.41 20z\"/>\n",
              "  </svg>\n",
              "      </button>\n",
              "      \n",
              "  <style>\n",
              "    .colab-df-container {\n",
              "      display:flex;\n",
              "      flex-wrap:wrap;\n",
              "      gap: 12px;\n",
              "    }\n",
              "\n",
              "    .colab-df-convert {\n",
              "      background-color: #E8F0FE;\n",
              "      border: none;\n",
              "      border-radius: 50%;\n",
              "      cursor: pointer;\n",
              "      display: none;\n",
              "      fill: #1967D2;\n",
              "      height: 32px;\n",
              "      padding: 0 0 0 0;\n",
              "      width: 32px;\n",
              "    }\n",
              "\n",
              "    .colab-df-convert:hover {\n",
              "      background-color: #E2EBFA;\n",
              "      box-shadow: 0px 1px 2px rgba(60, 64, 67, 0.3), 0px 1px 3px 1px rgba(60, 64, 67, 0.15);\n",
              "      fill: #174EA6;\n",
              "    }\n",
              "\n",
              "    [theme=dark] .colab-df-convert {\n",
              "      background-color: #3B4455;\n",
              "      fill: #D2E3FC;\n",
              "    }\n",
              "\n",
              "    [theme=dark] .colab-df-convert:hover {\n",
              "      background-color: #434B5C;\n",
              "      box-shadow: 0px 1px 3px 1px rgba(0, 0, 0, 0.15);\n",
              "      filter: drop-shadow(0px 1px 2px rgba(0, 0, 0, 0.3));\n",
              "      fill: #FFFFFF;\n",
              "    }\n",
              "  </style>\n",
              "\n",
              "      <script>\n",
              "        const buttonEl =\n",
              "          document.querySelector('#df-45469e6a-0d6a-4234-899b-d4f164b6bf4e button.colab-df-convert');\n",
              "        buttonEl.style.display =\n",
              "          google.colab.kernel.accessAllowed ? 'block' : 'none';\n",
              "\n",
              "        async function convertToInteractive(key) {\n",
              "          const element = document.querySelector('#df-45469e6a-0d6a-4234-899b-d4f164b6bf4e');\n",
              "          const dataTable =\n",
              "            await google.colab.kernel.invokeFunction('convertToInteractive',\n",
              "                                                     [key], {});\n",
              "          if (!dataTable) return;\n",
              "\n",
              "          const docLinkHtml = 'Like what you see? Visit the ' +\n",
              "            '<a target=\"_blank\" href=https://colab.research.google.com/notebooks/data_table.ipynb>data table notebook</a>'\n",
              "            + ' to learn more about interactive tables.';\n",
              "          element.innerHTML = '';\n",
              "          dataTable['output_type'] = 'display_data';\n",
              "          await google.colab.output.renderOutput(dataTable, element);\n",
              "          const docLink = document.createElement('div');\n",
              "          docLink.innerHTML = docLinkHtml;\n",
              "          element.appendChild(docLink);\n",
              "        }\n",
              "      </script>\n",
              "    </div>\n",
              "  </div>\n",
              "  "
            ]
          },
          "metadata": {},
          "execution_count": 66
        }
      ]
    },
    {
      "cell_type": "markdown",
      "source": [
        "## Benchmarking"
      ],
      "metadata": {
        "id": "Xc6o5_IenTWB"
      }
    },
    {
      "cell_type": "markdown",
      "source": [
        "### Select dataset for benchmarking"
      ],
      "metadata": {
        "id": "BGNifTI8MoD1"
      }
    },
    {
      "cell_type": "code",
      "source": [
        "bm_df = pd.read_table('benchmark_set.tsv')\n",
        "bm_df.head()"
      ],
      "metadata": {
        "id": "CnAP19iYQLWW",
        "colab": {
          "base_uri": "https://localhost:8080/"
        },
        "outputId": "9885cb1a-7a4b-4ef9-cbc5-79179d2a2d47"
      },
      "execution_count": null,
      "outputs": [
        {
          "output_type": "execute_result",
          "data": {
            "text/plain": [
              "  UniProtKB accession                                    Taxa  Kingdom  Class  \\\n",
              "0              Q8TF40                    Homo sapiens (Human)  Metazoa  NO_SP   \n",
              "1              Q1ENB6  Arabidopsis thaliana (Mouse-ear cress)   Plants  NO_SP   \n",
              "2              Q9BZS1                    Homo sapiens (Human)  Metazoa  NO_SP   \n",
              "3              F4K2A1  Arabidopsis thaliana (Mouse-ear cress)   Plants  NO_SP   \n",
              "4              Q9SZL8  Arabidopsis thaliana (Mouse-ear cress)   Plants  NO_SP   \n",
              "\n",
              "             Sequence (first 50 N-terminal residues)  \\\n",
              "0  MAPTLFQKLFSKRTGLGAPGRDARDPDCGFSWPLPEFDPSQIRLIV...   \n",
              "1  MDFTSLETTTFEEVVIALGSNVGNRMNNFKEALRLMKDYGISVTRH...   \n",
              "2  MPNPRPGKPSAPSLALGPSPGASPSWRAAPKASDLLGARGPGGTFQ...   \n",
              "3  MFAVSIVPRTTSCRLSSAFLCQLSIPLTLRLHHHYQHHQPHLPSPL...   \n",
              "4  MMDNEVLDFDIGVGVSSGGDVDDDAIDIEHHALDDDDMLDSPIMPC...   \n",
              "\n",
              "                         SP cleavage-site annotation  \n",
              "0  NNNNNNNNNNNNNNNNNNNNNNNNNNNNNNNNNNNNNNNNNNNNNN...  \n",
              "1  NNNNNNNNNNNNNNNNNNNNNNNNNNNNNNNNNNNNNNNNNNNNNN...  \n",
              "2  NNNNNNNNNNNNNNNNNNNNNNNNNNNNNNNNNNNNNNNNNNNNNN...  \n",
              "3  NNNNNNNNNNNNNNNNNNNNNNNNNNNNNNNNNNNNNNNNNNNNNN...  \n",
              "4  NNNNNNNNNNNNNNNNNNNNNNNNNNNNNNNNNNNNNNNNNNNNNN...  "
            ],
            "text/html": [
              "\n",
              "  <div id=\"df-b6d03417-9f97-4e60-8ad0-cd17d742fb10\">\n",
              "    <div class=\"colab-df-container\">\n",
              "      <div>\n",
              "<style scoped>\n",
              "    .dataframe tbody tr th:only-of-type {\n",
              "        vertical-align: middle;\n",
              "    }\n",
              "\n",
              "    .dataframe tbody tr th {\n",
              "        vertical-align: top;\n",
              "    }\n",
              "\n",
              "    .dataframe thead th {\n",
              "        text-align: right;\n",
              "    }\n",
              "</style>\n",
              "<table border=\"1\" class=\"dataframe\">\n",
              "  <thead>\n",
              "    <tr style=\"text-align: right;\">\n",
              "      <th></th>\n",
              "      <th>UniProtKB accession</th>\n",
              "      <th>Taxa</th>\n",
              "      <th>Kingdom</th>\n",
              "      <th>Class</th>\n",
              "      <th>Sequence (first 50 N-terminal residues)</th>\n",
              "      <th>SP cleavage-site annotation</th>\n",
              "    </tr>\n",
              "  </thead>\n",
              "  <tbody>\n",
              "    <tr>\n",
              "      <th>0</th>\n",
              "      <td>Q8TF40</td>\n",
              "      <td>Homo sapiens (Human)</td>\n",
              "      <td>Metazoa</td>\n",
              "      <td>NO_SP</td>\n",
              "      <td>MAPTLFQKLFSKRTGLGAPGRDARDPDCGFSWPLPEFDPSQIRLIV...</td>\n",
              "      <td>NNNNNNNNNNNNNNNNNNNNNNNNNNNNNNNNNNNNNNNNNNNNNN...</td>\n",
              "    </tr>\n",
              "    <tr>\n",
              "      <th>1</th>\n",
              "      <td>Q1ENB6</td>\n",
              "      <td>Arabidopsis thaliana (Mouse-ear cress)</td>\n",
              "      <td>Plants</td>\n",
              "      <td>NO_SP</td>\n",
              "      <td>MDFTSLETTTFEEVVIALGSNVGNRMNNFKEALRLMKDYGISVTRH...</td>\n",
              "      <td>NNNNNNNNNNNNNNNNNNNNNNNNNNNNNNNNNNNNNNNNNNNNNN...</td>\n",
              "    </tr>\n",
              "    <tr>\n",
              "      <th>2</th>\n",
              "      <td>Q9BZS1</td>\n",
              "      <td>Homo sapiens (Human)</td>\n",
              "      <td>Metazoa</td>\n",
              "      <td>NO_SP</td>\n",
              "      <td>MPNPRPGKPSAPSLALGPSPGASPSWRAAPKASDLLGARGPGGTFQ...</td>\n",
              "      <td>NNNNNNNNNNNNNNNNNNNNNNNNNNNNNNNNNNNNNNNNNNNNNN...</td>\n",
              "    </tr>\n",
              "    <tr>\n",
              "      <th>3</th>\n",
              "      <td>F4K2A1</td>\n",
              "      <td>Arabidopsis thaliana (Mouse-ear cress)</td>\n",
              "      <td>Plants</td>\n",
              "      <td>NO_SP</td>\n",
              "      <td>MFAVSIVPRTTSCRLSSAFLCQLSIPLTLRLHHHYQHHQPHLPSPL...</td>\n",
              "      <td>NNNNNNNNNNNNNNNNNNNNNNNNNNNNNNNNNNNNNNNNNNNNNN...</td>\n",
              "    </tr>\n",
              "    <tr>\n",
              "      <th>4</th>\n",
              "      <td>Q9SZL8</td>\n",
              "      <td>Arabidopsis thaliana (Mouse-ear cress)</td>\n",
              "      <td>Plants</td>\n",
              "      <td>NO_SP</td>\n",
              "      <td>MMDNEVLDFDIGVGVSSGGDVDDDAIDIEHHALDDDDMLDSPIMPC...</td>\n",
              "      <td>NNNNNNNNNNNNNNNNNNNNNNNNNNNNNNNNNNNNNNNNNNNNNN...</td>\n",
              "    </tr>\n",
              "  </tbody>\n",
              "</table>\n",
              "</div>\n",
              "      <button class=\"colab-df-convert\" onclick=\"convertToInteractive('df-b6d03417-9f97-4e60-8ad0-cd17d742fb10')\"\n",
              "              title=\"Convert this dataframe to an interactive table.\"\n",
              "              style=\"display:none;\">\n",
              "        \n",
              "  <svg xmlns=\"http://www.w3.org/2000/svg\" height=\"24px\"viewBox=\"0 0 24 24\"\n",
              "       width=\"24px\">\n",
              "    <path d=\"M0 0h24v24H0V0z\" fill=\"none\"/>\n",
              "    <path d=\"M18.56 5.44l.94 2.06.94-2.06 2.06-.94-2.06-.94-.94-2.06-.94 2.06-2.06.94zm-11 1L8.5 8.5l.94-2.06 2.06-.94-2.06-.94L8.5 2.5l-.94 2.06-2.06.94zm10 10l.94 2.06.94-2.06 2.06-.94-2.06-.94-.94-2.06-.94 2.06-2.06.94z\"/><path d=\"M17.41 7.96l-1.37-1.37c-.4-.4-.92-.59-1.43-.59-.52 0-1.04.2-1.43.59L10.3 9.45l-7.72 7.72c-.78.78-.78 2.05 0 2.83L4 21.41c.39.39.9.59 1.41.59.51 0 1.02-.2 1.41-.59l7.78-7.78 2.81-2.81c.8-.78.8-2.07 0-2.86zM5.41 20L4 18.59l7.72-7.72 1.47 1.35L5.41 20z\"/>\n",
              "  </svg>\n",
              "      </button>\n",
              "      \n",
              "  <style>\n",
              "    .colab-df-container {\n",
              "      display:flex;\n",
              "      flex-wrap:wrap;\n",
              "      gap: 12px;\n",
              "    }\n",
              "\n",
              "    .colab-df-convert {\n",
              "      background-color: #E8F0FE;\n",
              "      border: none;\n",
              "      border-radius: 50%;\n",
              "      cursor: pointer;\n",
              "      display: none;\n",
              "      fill: #1967D2;\n",
              "      height: 32px;\n",
              "      padding: 0 0 0 0;\n",
              "      width: 32px;\n",
              "    }\n",
              "\n",
              "    .colab-df-convert:hover {\n",
              "      background-color: #E2EBFA;\n",
              "      box-shadow: 0px 1px 2px rgba(60, 64, 67, 0.3), 0px 1px 3px 1px rgba(60, 64, 67, 0.15);\n",
              "      fill: #174EA6;\n",
              "    }\n",
              "\n",
              "    [theme=dark] .colab-df-convert {\n",
              "      background-color: #3B4455;\n",
              "      fill: #D2E3FC;\n",
              "    }\n",
              "\n",
              "    [theme=dark] .colab-df-convert:hover {\n",
              "      background-color: #434B5C;\n",
              "      box-shadow: 0px 1px 3px 1px rgba(0, 0, 0, 0.15);\n",
              "      filter: drop-shadow(0px 1px 2px rgba(0, 0, 0, 0.3));\n",
              "      fill: #FFFFFF;\n",
              "    }\n",
              "  </style>\n",
              "\n",
              "      <script>\n",
              "        const buttonEl =\n",
              "          document.querySelector('#df-b6d03417-9f97-4e60-8ad0-cd17d742fb10 button.colab-df-convert');\n",
              "        buttonEl.style.display =\n",
              "          google.colab.kernel.accessAllowed ? 'block' : 'none';\n",
              "\n",
              "        async function convertToInteractive(key) {\n",
              "          const element = document.querySelector('#df-b6d03417-9f97-4e60-8ad0-cd17d742fb10');\n",
              "          const dataTable =\n",
              "            await google.colab.kernel.invokeFunction('convertToInteractive',\n",
              "                                                     [key], {});\n",
              "          if (!dataTable) return;\n",
              "\n",
              "          const docLinkHtml = 'Like what you see? Visit the ' +\n",
              "            '<a target=\"_blank\" href=https://colab.research.google.com/notebooks/data_table.ipynb>data table notebook</a>'\n",
              "            + ' to learn more about interactive tables.';\n",
              "          element.innerHTML = '';\n",
              "          dataTable['output_type'] = 'display_data';\n",
              "          await google.colab.output.renderOutput(dataTable, element);\n",
              "          const docLink = document.createElement('div');\n",
              "          docLink.innerHTML = docLinkHtml;\n",
              "          element.appendChild(docLink);\n",
              "        }\n",
              "      </script>\n",
              "    </div>\n",
              "  </div>\n",
              "  "
            ]
          },
          "metadata": {},
          "execution_count": 6
        }
      ]
    },
    {
      "cell_type": "code",
      "source": [
        "# Binarize classes\n",
        "bm_df.loc[bm_df['Class'] == 'SP', 'Real Class'] = 1\n",
        "bm_df.loc[bm_df['Class'] == 'NO_SP', 'Real Class'] = 0"
      ],
      "metadata": {
        "id": "IdGAKM9lQOJE"
      },
      "execution_count": null,
      "outputs": []
    },
    {
      "cell_type": "markdown",
      "source": [
        "### Features encoding and real class vectors"
      ],
      "metadata": {
        "id": "8mL77vUsMq9e"
      }
    },
    {
      "cell_type": "code",
      "source": [
        "# Encode residue frequency for each sequence\n",
        "res_order = [\"G\",\"A\",\"V\",\"P\",\"L\",\"I\",\"M\",\"F\",\"W\",\"Y\",\"S\",\"T\",\"C\",\"N\",\"Q\",\"H\",\"D\",\"E\",\"K\",\"R\"]\n",
        "seq_list = bm_df['Sequence (first 50 N-terminal residues)'].tolist()\n",
        "\n",
        "X = np.zeros((len(seq_list),20))\n",
        "for i in range(len(seq_list)):\n",
        "  ks = seq_list[i][:19]\n",
        "  for j in range(19):\n",
        "    res = ks[j]\n",
        "    X[i][res_order.index(res)] += 1/19\n",
        "\n",
        "\n",
        "# Extract real classification vector\n",
        "y = bm_df['Real Class'].astype(int).tolist()"
      ],
      "metadata": {
        "id": "-KDo-UkyOi07"
      },
      "execution_count": null,
      "outputs": []
    },
    {
      "cell_type": "markdown",
      "source": [
        "## Performance metrics summary"
      ],
      "metadata": {
        "id": "KuW3-tldOjc4"
      }
    },
    {
      "cell_type": "code",
      "source": [
        "def perf_metrics(TP, FP, FN, TN):\n",
        "  '''\n",
        "  from real classes and predicted classes, function estimates matthew correlation\n",
        "  coefficient, accuracy, precision, recall and F1 score.\n",
        "  '''\n",
        "  \n",
        "  # MCC\n",
        "  num = TP*TN - FP*FN\n",
        "  den = np.sqrt((TP+FP)*(TP+FN)*(TN+FP)*(TN+FN))\n",
        "  mcc = num/den\n",
        "\n",
        "  # Accuracy\n",
        "  acc = (TP+TN)/(TP+TN+FP+FN)\n",
        "\n",
        "  # Precision\n",
        "  pres = TP/(TP+FP)\n",
        "\n",
        "  # Recall\n",
        "  recall = TP/(TP+FN)\n",
        "\n",
        "  # F1 score\n",
        "  F1 = (2*pres*recall)/(pres+recall)\n",
        "\n",
        "  # False Positives Rate\n",
        "  fpr = FP/(FP+TN)\n",
        "\n",
        "  return mcc,acc,pres,recall,F1,fpr"
      ],
      "metadata": {
        "id": "OnWsEVy0k4PI"
      },
      "execution_count": null,
      "outputs": []
    },
    {
      "cell_type": "code",
      "source": [
        "clf = SVC(C = 16, gamma = 0.8, kernel='rbf')\n",
        "\n",
        "clf.fit(X, y)\n",
        "\n",
        "y_true, y_pred = y, clf.predict(X)\n",
        "TN, FP, FN, TP = confusion_matrix(y_true, y_pred).ravel()\n",
        "\n",
        "mcc,acc,pres,recall,F1, FPR = perf_metrics(TP, FP, FN, TN)\n",
        "bm_SVM_summary = pd.DataFrame(data=[[mcc,acc,pres,recall, FPR, F1]], \n",
        "                              columns=('MCC', 'Q2', 'Precision', 'Recall', 'FPR', 'F1'),\n",
        "                               index=['SVM'])\n",
        "\n",
        "# Results\n",
        "bm_SVM_summary[['MCC', 'Q2', 'Precision', 'Recall', 'FPR', 'F1']]\n",
        "\n",
        "bm_SVM_summary"
      ],
      "metadata": {
        "id": "cIF0UtTGnVT-",
        "colab": {
          "base_uri": "https://localhost:8080/"
        },
        "outputId": "9dea7e62-0014-45a0-9fa0-4e806533e136"
      },
      "execution_count": null,
      "outputs": [
        {
          "output_type": "execute_result",
          "data": {
            "text/plain": [
              "          MCC        Q2  Precision    Recall       FPR        F1\n",
              "SVM  0.612169  0.982162   0.811475  0.473684  0.003174  0.598187"
            ],
            "text/html": [
              "\n",
              "  <div id=\"df-4216da11-0926-45d7-a175-efc311cdd439\">\n",
              "    <div class=\"colab-df-container\">\n",
              "      <div>\n",
              "<style scoped>\n",
              "    .dataframe tbody tr th:only-of-type {\n",
              "        vertical-align: middle;\n",
              "    }\n",
              "\n",
              "    .dataframe tbody tr th {\n",
              "        vertical-align: top;\n",
              "    }\n",
              "\n",
              "    .dataframe thead th {\n",
              "        text-align: right;\n",
              "    }\n",
              "</style>\n",
              "<table border=\"1\" class=\"dataframe\">\n",
              "  <thead>\n",
              "    <tr style=\"text-align: right;\">\n",
              "      <th></th>\n",
              "      <th>MCC</th>\n",
              "      <th>Q2</th>\n",
              "      <th>Precision</th>\n",
              "      <th>Recall</th>\n",
              "      <th>FPR</th>\n",
              "      <th>F1</th>\n",
              "    </tr>\n",
              "  </thead>\n",
              "  <tbody>\n",
              "    <tr>\n",
              "      <th>SVM</th>\n",
              "      <td>0.612169</td>\n",
              "      <td>0.982162</td>\n",
              "      <td>0.811475</td>\n",
              "      <td>0.473684</td>\n",
              "      <td>0.003174</td>\n",
              "      <td>0.598187</td>\n",
              "    </tr>\n",
              "  </tbody>\n",
              "</table>\n",
              "</div>\n",
              "      <button class=\"colab-df-convert\" onclick=\"convertToInteractive('df-4216da11-0926-45d7-a175-efc311cdd439')\"\n",
              "              title=\"Convert this dataframe to an interactive table.\"\n",
              "              style=\"display:none;\">\n",
              "        \n",
              "  <svg xmlns=\"http://www.w3.org/2000/svg\" height=\"24px\"viewBox=\"0 0 24 24\"\n",
              "       width=\"24px\">\n",
              "    <path d=\"M0 0h24v24H0V0z\" fill=\"none\"/>\n",
              "    <path d=\"M18.56 5.44l.94 2.06.94-2.06 2.06-.94-2.06-.94-.94-2.06-.94 2.06-2.06.94zm-11 1L8.5 8.5l.94-2.06 2.06-.94-2.06-.94L8.5 2.5l-.94 2.06-2.06.94zm10 10l.94 2.06.94-2.06 2.06-.94-2.06-.94-.94-2.06-.94 2.06-2.06.94z\"/><path d=\"M17.41 7.96l-1.37-1.37c-.4-.4-.92-.59-1.43-.59-.52 0-1.04.2-1.43.59L10.3 9.45l-7.72 7.72c-.78.78-.78 2.05 0 2.83L4 21.41c.39.39.9.59 1.41.59.51 0 1.02-.2 1.41-.59l7.78-7.78 2.81-2.81c.8-.78.8-2.07 0-2.86zM5.41 20L4 18.59l7.72-7.72 1.47 1.35L5.41 20z\"/>\n",
              "  </svg>\n",
              "      </button>\n",
              "      \n",
              "  <style>\n",
              "    .colab-df-container {\n",
              "      display:flex;\n",
              "      flex-wrap:wrap;\n",
              "      gap: 12px;\n",
              "    }\n",
              "\n",
              "    .colab-df-convert {\n",
              "      background-color: #E8F0FE;\n",
              "      border: none;\n",
              "      border-radius: 50%;\n",
              "      cursor: pointer;\n",
              "      display: none;\n",
              "      fill: #1967D2;\n",
              "      height: 32px;\n",
              "      padding: 0 0 0 0;\n",
              "      width: 32px;\n",
              "    }\n",
              "\n",
              "    .colab-df-convert:hover {\n",
              "      background-color: #E2EBFA;\n",
              "      box-shadow: 0px 1px 2px rgba(60, 64, 67, 0.3), 0px 1px 3px 1px rgba(60, 64, 67, 0.15);\n",
              "      fill: #174EA6;\n",
              "    }\n",
              "\n",
              "    [theme=dark] .colab-df-convert {\n",
              "      background-color: #3B4455;\n",
              "      fill: #D2E3FC;\n",
              "    }\n",
              "\n",
              "    [theme=dark] .colab-df-convert:hover {\n",
              "      background-color: #434B5C;\n",
              "      box-shadow: 0px 1px 3px 1px rgba(0, 0, 0, 0.15);\n",
              "      filter: drop-shadow(0px 1px 2px rgba(0, 0, 0, 0.3));\n",
              "      fill: #FFFFFF;\n",
              "    }\n",
              "  </style>\n",
              "\n",
              "      <script>\n",
              "        const buttonEl =\n",
              "          document.querySelector('#df-4216da11-0926-45d7-a175-efc311cdd439 button.colab-df-convert');\n",
              "        buttonEl.style.display =\n",
              "          google.colab.kernel.accessAllowed ? 'block' : 'none';\n",
              "\n",
              "        async function convertToInteractive(key) {\n",
              "          const element = document.querySelector('#df-4216da11-0926-45d7-a175-efc311cdd439');\n",
              "          const dataTable =\n",
              "            await google.colab.kernel.invokeFunction('convertToInteractive',\n",
              "                                                     [key], {});\n",
              "          if (!dataTable) return;\n",
              "\n",
              "          const docLinkHtml = 'Like what you see? Visit the ' +\n",
              "            '<a target=\"_blank\" href=https://colab.research.google.com/notebooks/data_table.ipynb>data table notebook</a>'\n",
              "            + ' to learn more about interactive tables.';\n",
              "          element.innerHTML = '';\n",
              "          dataTable['output_type'] = 'display_data';\n",
              "          await google.colab.output.renderOutput(dataTable, element);\n",
              "          const docLink = document.createElement('div');\n",
              "          docLink.innerHTML = docLinkHtml;\n",
              "          element.appendChild(docLink);\n",
              "        }\n",
              "      </script>\n",
              "    </div>\n",
              "  </div>\n",
              "  "
            ]
          },
          "metadata": {},
          "execution_count": 10
        }
      ]
    },
    {
      "cell_type": "markdown",
      "source": [
        "## False results"
      ],
      "metadata": {
        "id": "lmXxdUhp1Rez"
      }
    },
    {
      "cell_type": "code",
      "source": [
        "# Extract false results\n",
        "\n",
        "results = []\n",
        "\n",
        "for i in range(len(y_pred)):\n",
        "  if bm_df['Real Class'][i] == 1.0 and y_pred[i] == 0:\n",
        "    results.append('FN')\n",
        "  elif bm_df['Real Class'][i] == 0.0 and y_pred[i] == 1:\n",
        "    results.append('FP')\n",
        "  else:\n",
        "    results.append('True')\n",
        "\n",
        "bm_df['Results'] = results"
      ],
      "metadata": {
        "id": "KJL_YSUnTCaQ"
      },
      "execution_count": null,
      "outputs": []
    },
    {
      "cell_type": "markdown",
      "source": [
        "### False positives"
      ],
      "metadata": {
        "id": "afuk-Xn838Xs"
      }
    },
    {
      "cell_type": "code",
      "source": [
        "# Extract accession codes\n",
        "svm_fpos_df = bm_df[bm_df['Results'] == 'FP'][['UniProtKB accession', 'Kingdom', 'Sequence (first 50 N-terminal residues)', 'SP cleavage-site annotation']]\n",
        "svm_fpos = svm_fpos_df['UniProtKB accession'].values"
      ],
      "metadata": {
        "id": "Ff2i2_Vs9r_m"
      },
      "execution_count": null,
      "outputs": []
    },
    {
      "cell_type": "code",
      "source": [
        "len(svm_fpos)"
      ],
      "metadata": {
        "colab": {
          "base_uri": "https://localhost:8080/"
        },
        "id": "XUa2jkGM-5_W",
        "outputId": "d1193ec4-5cc2-4642-8122-93d6fc5d8d67"
      },
      "execution_count": null,
      "outputs": [
        {
          "output_type": "execute_result",
          "data": {
            "text/plain": [
              "23"
            ]
          },
          "metadata": {},
          "execution_count": 13
        }
      ]
    },
    {
      "cell_type": "markdown",
      "source": [
        "### False negatives"
      ],
      "metadata": {
        "id": "bYSdJbP8FRsh"
      }
    },
    {
      "cell_type": "code",
      "source": [
        "# Extract false negatives\n",
        "svm_fneg_df = bm_df[bm_df['Results'] == 'FN'][['UniProtKB accession', 'Kingdom', 'Sequence (first 50 N-terminal residues)', 'SP cleavage-site annotation']]"
      ],
      "metadata": {
        "id": "A88BKWWpFUBd"
      },
      "execution_count": null,
      "outputs": []
    },
    {
      "cell_type": "code",
      "source": [
        "len(svm_fneg_df)"
      ],
      "metadata": {
        "colab": {
          "base_uri": "https://localhost:8080/"
        },
        "id": "W7C81Nb6F02B",
        "outputId": "1b873cdc-6e3b-4514-f2f4-ae007048b734"
      },
      "execution_count": null,
      "outputs": [
        {
          "output_type": "execute_result",
          "data": {
            "text/plain": [
              "110"
            ]
          },
          "metadata": {},
          "execution_count": 15
        }
      ]
    },
    {
      "cell_type": "markdown",
      "source": [
        "# Von Heijne Method"
      ],
      "metadata": {
        "id": "aVVdye0L6IDf"
      }
    },
    {
      "cell_type": "markdown",
      "source": [
        "## Training"
      ],
      "metadata": {
        "id": "mBRbRiQdPgo5"
      }
    },
    {
      "cell_type": "code",
      "source": [
        "# Extraction of (-13; +2) segment around cleavage site\n",
        "\n",
        "sp = []\n",
        "\n",
        "for i in range(len(df['SP cleavage-site annotation'])):\n",
        "  \n",
        "  seq = df['Sequence (first 50 N-terminal residues)'][i]\n",
        "  annot = df['SP cleavage-site annotation'][i]\n",
        "  cl_site = annot.find('N')\n",
        "  start = cl_site - 13\n",
        "  if start < 0:\n",
        "    sp.append(seq[0:15])\n",
        "  else: \n",
        "    sp.append(seq[start:cl_site+2])\n",
        "\n",
        "# Add motifs to dataframe\n",
        "df['Signal Peptide'] = sp\n",
        "df"
      ],
      "metadata": {
        "colab": {
          "base_uri": "https://localhost:8080/",
          "height": 800
        },
        "id": "73T4UgRQPgEa",
        "outputId": "eeb0999d-346e-4385-c5f4-4df67cb95298"
      },
      "execution_count": null,
      "outputs": [
        {
          "output_type": "execute_result",
          "data": {
            "text/plain": [
              "     UniProtKB accession                                               Taxa  \\\n",
              "0                 P61916                               Homo sapiens (Human)   \n",
              "1                 Q7M3V1   Chelonus sp. nr. curvimaculatus (Parasitic wasp)   \n",
              "2                 Q08738                            Bombyx mori (Silk moth)   \n",
              "3                 Q41350  Solanum lycopersicum (Tomato) (Lycopersicon es...   \n",
              "4                 Q86SE1  Androctonus amoreuxi (African fattail scorpion...   \n",
              "...                  ...                                                ...   \n",
              "1718              P62597                            Gallus gallus (Chicken)   \n",
              "1719              Q7K4M4                Drosophila melanogaster (Fruit fly)   \n",
              "1720              Q14146                               Homo sapiens (Human)   \n",
              "1721              B2RWS6                               Mus musculus (Mouse)   \n",
              "1722              Q9P6R0  Schizosaccharomyces pombe (strain 972 / ATCC 2...   \n",
              "\n",
              "      Kingdom  Class  Cross-validation fold  \\\n",
              "0     Metazoa     SP                      0   \n",
              "1     Metazoa     SP                      0   \n",
              "2     Metazoa     SP                      0   \n",
              "3      Plants     SP                      0   \n",
              "4     Metazoa     SP                      0   \n",
              "...       ...    ...                    ...   \n",
              "1718  Metazoa  NO_SP                      4   \n",
              "1719  Metazoa  NO_SP                      4   \n",
              "1720  Metazoa  NO_SP                      4   \n",
              "1721  Metazoa  NO_SP                      4   \n",
              "1722    Fungi  NO_SP                      4   \n",
              "\n",
              "                Sequence (first 50 N-terminal residues)  \\\n",
              "0     MRFLAATFLLLALSTAAQAEPVQFKDCGSVDGVIKEVNVSPCPTQP...   \n",
              "1     MAGKEVIFIMALFIAVESSPIFSFDDLVCPSVTSLRVNVEKNECST...   \n",
              "2     MRVFLAICLSLTVALAAETGKYTPFQYNRVYSTVSPFVYKPGRYVA...   \n",
              "3     MASSSAKILLPLSLLFTLLSLSQSTNPNFILTLVNNCPYTIWPAIQ...   \n",
              "4     MNYLVMISLALLLMIGVESVRDGYIVYPHNCVYHCIPSCDGLCKEN...   \n",
              "...                                                 ...   \n",
              "1718  MPVQVLKIIKGKPETQLPSHLQREDLKHLQTGLDHTNKYFQGIVIL...   \n",
              "1719  MSKFLDMLSGSQCVSLEKCGDVVVSTNDCMIALYCHFCRDLFTQLP...   \n",
              "1720  MAAVYSGISLKLKSKTTSWEDKLKLAHFAWISHQCFLPNKEQVLLD...   \n",
              "1721  MAENVVEPGPPSAKRPKLSSPALSASASDGTDFGSLFDLEHDLPDE...   \n",
              "1722  MGCPNCGSTTFESDTASGNTYCTQCGVVVEQDAIVSEVTFGEASTG...   \n",
              "\n",
              "                            SP cleavage-site annotation  Real Class  \\\n",
              "0     SSSSSSSSSSSSSSSSSSSNNNNNNNNNNNNNNNNNNNNNNNNNNN...         1.0   \n",
              "1     SSSSSSSSSSSSSSSSSSSSNNNNNNNNNNNNNNNNNNNNNNNNNN...         1.0   \n",
              "2     SSSSSSSSSSSSSSSSNNNNNNNNNNNNNNNNNNNNNNNNNNNNNN...         1.0   \n",
              "3     SSSSSSSSSSSSSSSSSSSSSSSSNNNNNNNNNNNNNNNNNNNNNN...         1.0   \n",
              "4     SSSSSSSSSSSSSSSSSSSNNNNNNNNNNNNNNNNNNNNNNNNNNN...         1.0   \n",
              "...                                                 ...         ...   \n",
              "1718  NNNNNNNNNNNNNNNNNNNNNNNNNNNNNNNNNNNNNNNNNNNNNN...         0.0   \n",
              "1719  NNNNNNNNNNNNNNNNNNNNNNNNNNNNNNNNNNNNNNNNNNNNNN...         0.0   \n",
              "1720  NNNNNNNNNNNNNNNNNNNNNNNNNNNNNNNNNNNNNNNNNNNNNN...         0.0   \n",
              "1721  NNNNNNNNNNNNNNNNNNNNNNNNNNNNNNNNNNNNNNNNNNNNNN...         0.0   \n",
              "1722  NNNNNNNNNNNNNNNNNNNNNNNNNNNNNNNNNNNNNNNNNNNNNN...         0.0   \n",
              "\n",
              "       Signal Peptide  \n",
              "0     TFLLLALSTAAQAEP  \n",
              "1     FIMALFIAVESSPIF  \n",
              "2     FLAICLSLTVALAAE  \n",
              "3     LSLLFTLLSLSQSTN  \n",
              "4     ISLALLLMIGVESVR  \n",
              "...               ...  \n",
              "1718  MPVQVLKIIKGKPET  \n",
              "1719  MSKFLDMLSGSQCVS  \n",
              "1720  MAAVYSGISLKLKSK  \n",
              "1721  MAENVVEPGPPSAKR  \n",
              "1722  MGCPNCGSTTFESDT  \n",
              "\n",
              "[1723 rows x 9 columns]"
            ],
            "text/html": [
              "\n",
              "  <div id=\"df-b000a82f-03a6-47d4-8902-cec4f683e6d8\">\n",
              "    <div class=\"colab-df-container\">\n",
              "      <div>\n",
              "<style scoped>\n",
              "    .dataframe tbody tr th:only-of-type {\n",
              "        vertical-align: middle;\n",
              "    }\n",
              "\n",
              "    .dataframe tbody tr th {\n",
              "        vertical-align: top;\n",
              "    }\n",
              "\n",
              "    .dataframe thead th {\n",
              "        text-align: right;\n",
              "    }\n",
              "</style>\n",
              "<table border=\"1\" class=\"dataframe\">\n",
              "  <thead>\n",
              "    <tr style=\"text-align: right;\">\n",
              "      <th></th>\n",
              "      <th>UniProtKB accession</th>\n",
              "      <th>Taxa</th>\n",
              "      <th>Kingdom</th>\n",
              "      <th>Class</th>\n",
              "      <th>Cross-validation fold</th>\n",
              "      <th>Sequence (first 50 N-terminal residues)</th>\n",
              "      <th>SP cleavage-site annotation</th>\n",
              "      <th>Real Class</th>\n",
              "      <th>Signal Peptide</th>\n",
              "    </tr>\n",
              "  </thead>\n",
              "  <tbody>\n",
              "    <tr>\n",
              "      <th>0</th>\n",
              "      <td>P61916</td>\n",
              "      <td>Homo sapiens (Human)</td>\n",
              "      <td>Metazoa</td>\n",
              "      <td>SP</td>\n",
              "      <td>0</td>\n",
              "      <td>MRFLAATFLLLALSTAAQAEPVQFKDCGSVDGVIKEVNVSPCPTQP...</td>\n",
              "      <td>SSSSSSSSSSSSSSSSSSSNNNNNNNNNNNNNNNNNNNNNNNNNNN...</td>\n",
              "      <td>1.0</td>\n",
              "      <td>TFLLLALSTAAQAEP</td>\n",
              "    </tr>\n",
              "    <tr>\n",
              "      <th>1</th>\n",
              "      <td>Q7M3V1</td>\n",
              "      <td>Chelonus sp. nr. curvimaculatus (Parasitic wasp)</td>\n",
              "      <td>Metazoa</td>\n",
              "      <td>SP</td>\n",
              "      <td>0</td>\n",
              "      <td>MAGKEVIFIMALFIAVESSPIFSFDDLVCPSVTSLRVNVEKNECST...</td>\n",
              "      <td>SSSSSSSSSSSSSSSSSSSSNNNNNNNNNNNNNNNNNNNNNNNNNN...</td>\n",
              "      <td>1.0</td>\n",
              "      <td>FIMALFIAVESSPIF</td>\n",
              "    </tr>\n",
              "    <tr>\n",
              "      <th>2</th>\n",
              "      <td>Q08738</td>\n",
              "      <td>Bombyx mori (Silk moth)</td>\n",
              "      <td>Metazoa</td>\n",
              "      <td>SP</td>\n",
              "      <td>0</td>\n",
              "      <td>MRVFLAICLSLTVALAAETGKYTPFQYNRVYSTVSPFVYKPGRYVA...</td>\n",
              "      <td>SSSSSSSSSSSSSSSSNNNNNNNNNNNNNNNNNNNNNNNNNNNNNN...</td>\n",
              "      <td>1.0</td>\n",
              "      <td>FLAICLSLTVALAAE</td>\n",
              "    </tr>\n",
              "    <tr>\n",
              "      <th>3</th>\n",
              "      <td>Q41350</td>\n",
              "      <td>Solanum lycopersicum (Tomato) (Lycopersicon es...</td>\n",
              "      <td>Plants</td>\n",
              "      <td>SP</td>\n",
              "      <td>0</td>\n",
              "      <td>MASSSAKILLPLSLLFTLLSLSQSTNPNFILTLVNNCPYTIWPAIQ...</td>\n",
              "      <td>SSSSSSSSSSSSSSSSSSSSSSSSNNNNNNNNNNNNNNNNNNNNNN...</td>\n",
              "      <td>1.0</td>\n",
              "      <td>LSLLFTLLSLSQSTN</td>\n",
              "    </tr>\n",
              "    <tr>\n",
              "      <th>4</th>\n",
              "      <td>Q86SE1</td>\n",
              "      <td>Androctonus amoreuxi (African fattail scorpion...</td>\n",
              "      <td>Metazoa</td>\n",
              "      <td>SP</td>\n",
              "      <td>0</td>\n",
              "      <td>MNYLVMISLALLLMIGVESVRDGYIVYPHNCVYHCIPSCDGLCKEN...</td>\n",
              "      <td>SSSSSSSSSSSSSSSSSSSNNNNNNNNNNNNNNNNNNNNNNNNNNN...</td>\n",
              "      <td>1.0</td>\n",
              "      <td>ISLALLLMIGVESVR</td>\n",
              "    </tr>\n",
              "    <tr>\n",
              "      <th>...</th>\n",
              "      <td>...</td>\n",
              "      <td>...</td>\n",
              "      <td>...</td>\n",
              "      <td>...</td>\n",
              "      <td>...</td>\n",
              "      <td>...</td>\n",
              "      <td>...</td>\n",
              "      <td>...</td>\n",
              "      <td>...</td>\n",
              "    </tr>\n",
              "    <tr>\n",
              "      <th>1718</th>\n",
              "      <td>P62597</td>\n",
              "      <td>Gallus gallus (Chicken)</td>\n",
              "      <td>Metazoa</td>\n",
              "      <td>NO_SP</td>\n",
              "      <td>4</td>\n",
              "      <td>MPVQVLKIIKGKPETQLPSHLQREDLKHLQTGLDHTNKYFQGIVIL...</td>\n",
              "      <td>NNNNNNNNNNNNNNNNNNNNNNNNNNNNNNNNNNNNNNNNNNNNNN...</td>\n",
              "      <td>0.0</td>\n",
              "      <td>MPVQVLKIIKGKPET</td>\n",
              "    </tr>\n",
              "    <tr>\n",
              "      <th>1719</th>\n",
              "      <td>Q7K4M4</td>\n",
              "      <td>Drosophila melanogaster (Fruit fly)</td>\n",
              "      <td>Metazoa</td>\n",
              "      <td>NO_SP</td>\n",
              "      <td>4</td>\n",
              "      <td>MSKFLDMLSGSQCVSLEKCGDVVVSTNDCMIALYCHFCRDLFTQLP...</td>\n",
              "      <td>NNNNNNNNNNNNNNNNNNNNNNNNNNNNNNNNNNNNNNNNNNNNNN...</td>\n",
              "      <td>0.0</td>\n",
              "      <td>MSKFLDMLSGSQCVS</td>\n",
              "    </tr>\n",
              "    <tr>\n",
              "      <th>1720</th>\n",
              "      <td>Q14146</td>\n",
              "      <td>Homo sapiens (Human)</td>\n",
              "      <td>Metazoa</td>\n",
              "      <td>NO_SP</td>\n",
              "      <td>4</td>\n",
              "      <td>MAAVYSGISLKLKSKTTSWEDKLKLAHFAWISHQCFLPNKEQVLLD...</td>\n",
              "      <td>NNNNNNNNNNNNNNNNNNNNNNNNNNNNNNNNNNNNNNNNNNNNNN...</td>\n",
              "      <td>0.0</td>\n",
              "      <td>MAAVYSGISLKLKSK</td>\n",
              "    </tr>\n",
              "    <tr>\n",
              "      <th>1721</th>\n",
              "      <td>B2RWS6</td>\n",
              "      <td>Mus musculus (Mouse)</td>\n",
              "      <td>Metazoa</td>\n",
              "      <td>NO_SP</td>\n",
              "      <td>4</td>\n",
              "      <td>MAENVVEPGPPSAKRPKLSSPALSASASDGTDFGSLFDLEHDLPDE...</td>\n",
              "      <td>NNNNNNNNNNNNNNNNNNNNNNNNNNNNNNNNNNNNNNNNNNNNNN...</td>\n",
              "      <td>0.0</td>\n",
              "      <td>MAENVVEPGPPSAKR</td>\n",
              "    </tr>\n",
              "    <tr>\n",
              "      <th>1722</th>\n",
              "      <td>Q9P6R0</td>\n",
              "      <td>Schizosaccharomyces pombe (strain 972 / ATCC 2...</td>\n",
              "      <td>Fungi</td>\n",
              "      <td>NO_SP</td>\n",
              "      <td>4</td>\n",
              "      <td>MGCPNCGSTTFESDTASGNTYCTQCGVVVEQDAIVSEVTFGEASTG...</td>\n",
              "      <td>NNNNNNNNNNNNNNNNNNNNNNNNNNNNNNNNNNNNNNNNNNNNNN...</td>\n",
              "      <td>0.0</td>\n",
              "      <td>MGCPNCGSTTFESDT</td>\n",
              "    </tr>\n",
              "  </tbody>\n",
              "</table>\n",
              "<p>1723 rows × 9 columns</p>\n",
              "</div>\n",
              "      <button class=\"colab-df-convert\" onclick=\"convertToInteractive('df-b000a82f-03a6-47d4-8902-cec4f683e6d8')\"\n",
              "              title=\"Convert this dataframe to an interactive table.\"\n",
              "              style=\"display:none;\">\n",
              "        \n",
              "  <svg xmlns=\"http://www.w3.org/2000/svg\" height=\"24px\"viewBox=\"0 0 24 24\"\n",
              "       width=\"24px\">\n",
              "    <path d=\"M0 0h24v24H0V0z\" fill=\"none\"/>\n",
              "    <path d=\"M18.56 5.44l.94 2.06.94-2.06 2.06-.94-2.06-.94-.94-2.06-.94 2.06-2.06.94zm-11 1L8.5 8.5l.94-2.06 2.06-.94-2.06-.94L8.5 2.5l-.94 2.06-2.06.94zm10 10l.94 2.06.94-2.06 2.06-.94-2.06-.94-.94-2.06-.94 2.06-2.06.94z\"/><path d=\"M17.41 7.96l-1.37-1.37c-.4-.4-.92-.59-1.43-.59-.52 0-1.04.2-1.43.59L10.3 9.45l-7.72 7.72c-.78.78-.78 2.05 0 2.83L4 21.41c.39.39.9.59 1.41.59.51 0 1.02-.2 1.41-.59l7.78-7.78 2.81-2.81c.8-.78.8-2.07 0-2.86zM5.41 20L4 18.59l7.72-7.72 1.47 1.35L5.41 20z\"/>\n",
              "  </svg>\n",
              "      </button>\n",
              "      \n",
              "  <style>\n",
              "    .colab-df-container {\n",
              "      display:flex;\n",
              "      flex-wrap:wrap;\n",
              "      gap: 12px;\n",
              "    }\n",
              "\n",
              "    .colab-df-convert {\n",
              "      background-color: #E8F0FE;\n",
              "      border: none;\n",
              "      border-radius: 50%;\n",
              "      cursor: pointer;\n",
              "      display: none;\n",
              "      fill: #1967D2;\n",
              "      height: 32px;\n",
              "      padding: 0 0 0 0;\n",
              "      width: 32px;\n",
              "    }\n",
              "\n",
              "    .colab-df-convert:hover {\n",
              "      background-color: #E2EBFA;\n",
              "      box-shadow: 0px 1px 2px rgba(60, 64, 67, 0.3), 0px 1px 3px 1px rgba(60, 64, 67, 0.15);\n",
              "      fill: #174EA6;\n",
              "    }\n",
              "\n",
              "    [theme=dark] .colab-df-convert {\n",
              "      background-color: #3B4455;\n",
              "      fill: #D2E3FC;\n",
              "    }\n",
              "\n",
              "    [theme=dark] .colab-df-convert:hover {\n",
              "      background-color: #434B5C;\n",
              "      box-shadow: 0px 1px 3px 1px rgba(0, 0, 0, 0.15);\n",
              "      filter: drop-shadow(0px 1px 2px rgba(0, 0, 0, 0.3));\n",
              "      fill: #FFFFFF;\n",
              "    }\n",
              "  </style>\n",
              "\n",
              "      <script>\n",
              "        const buttonEl =\n",
              "          document.querySelector('#df-b000a82f-03a6-47d4-8902-cec4f683e6d8 button.colab-df-convert');\n",
              "        buttonEl.style.display =\n",
              "          google.colab.kernel.accessAllowed ? 'block' : 'none';\n",
              "\n",
              "        async function convertToInteractive(key) {\n",
              "          const element = document.querySelector('#df-b000a82f-03a6-47d4-8902-cec4f683e6d8');\n",
              "          const dataTable =\n",
              "            await google.colab.kernel.invokeFunction('convertToInteractive',\n",
              "                                                     [key], {});\n",
              "          if (!dataTable) return;\n",
              "\n",
              "          const docLinkHtml = 'Like what you see? Visit the ' +\n",
              "            '<a target=\"_blank\" href=https://colab.research.google.com/notebooks/data_table.ipynb>data table notebook</a>'\n",
              "            + ' to learn more about interactive tables.';\n",
              "          element.innerHTML = '';\n",
              "          dataTable['output_type'] = 'display_data';\n",
              "          await google.colab.output.renderOutput(dataTable, element);\n",
              "          const docLink = document.createElement('div');\n",
              "          docLink.innerHTML = docLinkHtml;\n",
              "          element.appendChild(docLink);\n",
              "        }\n",
              "      </script>\n",
              "    </div>\n",
              "  </div>\n",
              "  "
            ]
          },
          "metadata": {},
          "execution_count": 76
        }
      ]
    },
    {
      "cell_type": "code",
      "source": [
        "# Process background frequencies to weight the pswm\n",
        "bg_aa = pd.read_table(\"aa.txt\", sep = \" \",header = None)\n",
        "bg_aa.columns = [\"Res\",\"id\",\"freq\"]\n",
        "bg_aa['id'] = pd.Categorical(bg_aa['id'], [\"G\",\"A\",\"V\",\"P\",\"L\",\"I\",\"M\",\"F\",\"W\",\"Y\",\"S\",\"T\",\"C\",\"N\",\"Q\",\"H\",\"D\",\"E\",\"K\",\"R\"])\n",
        "bg_aa.sort_values(\"id\",inplace=True)\n",
        "bg_aa['freq'] = bg_aa['freq']/100\n"
      ],
      "metadata": {
        "id": "CStZKakYwSMO"
      },
      "execution_count": null,
      "outputs": []
    },
    {
      "cell_type": "markdown",
      "source": [
        "### Helper functions"
      ],
      "metadata": {
        "id": "RzryYRJpIkFb"
      }
    },
    {
      "cell_type": "code",
      "source": [
        "# One hot encoding\n",
        "def one_hot_encode(seq):\n",
        "\n",
        "  code = [\"G\",\"A\",\"V\",\"P\",\"L\",\"I\",\"M\",\"F\",\"W\",\"Y\",\"S\",\"T\",\"C\",\"N\",\"Q\",\"H\",\"D\",\"E\",\"K\",\"R\"]\n",
        "\n",
        "  # res that are not in seq\n",
        "  o = list(set(code) - set(seq))\n",
        "  x = pd.DataFrame(np.zeros((len(seq),len(o)), dtype=int), columns=o) \n",
        "  # save 1 for each res in seq\n",
        "  s = pd.DataFrame(list(seq))\n",
        "  matrix = s[0].str.get_dummies(sep=',')\n",
        "  # join counted res and nonpresent res\n",
        "  matrix = matrix.join(x)\n",
        "  # gives desired order\n",
        "  matrix = matrix[code]\n",
        "  # extract count of sequence res\n",
        "  count = matrix.values \n",
        "\n",
        "  return count\n",
        "\n",
        "\n",
        "# Compute position-specific weight matrix\n",
        "def compute_pswm(motifs_df, background_freqs):\n",
        "\n",
        "  # Initialize matrix with ones\n",
        "  freq_matrix = np.ones((15,20))\n",
        "\n",
        "  # Position specific probability (frequency) matrix\n",
        "  for seq in motifs_df:\n",
        "    freq_matrix = freq_matrix + one_hot_encode(seq)\n",
        "  freq_matrix = freq_matrix/ (20+len(motifs_df))\n",
        "\n",
        "  # Weight the frequency matrix with background frequencies\n",
        "  for freq,j in zip(bg_aa['freq'], range(0,20)):\n",
        "    for i in range(0,15):\n",
        "      freq_matrix[i][j] = freq_matrix[i][j] / freq\n",
        "\n",
        "  # Compute log to obtain the Position-Specific Weight Matrix\n",
        "  PSWM = np.log2(freq_matrix)\n",
        "\n",
        "  return PSWM\n",
        "\n",
        "\n",
        "# Define a scoring function\n",
        "def scoring(pswm, sequence_set, res_order = \"GAVPLIMFWYSTCNQHDEKR\"):\n",
        "\n",
        "  scores = []\n",
        "\n",
        "  for seq in sequence_set:\n",
        "    best_s = -999\n",
        "    # sliding windows\n",
        "    a=0\n",
        "    while a <= 35:\n",
        "      seq1 = seq[a:a+15]\n",
        "      # sum over the window\n",
        "      s = 0\n",
        "      for i,res in enumerate(seq1):\n",
        "        col_index = res_order.find(res)\n",
        "        s += pswm[i, col_index]\n",
        "      # save best window score\n",
        "      if s > best_s:\n",
        "        best_s = s\n",
        "      # slide the window\n",
        "      a += 1\n",
        "    \n",
        "    # save sequence best score  \n",
        "    scores.append(best_s)\n",
        "\n",
        "  return scores"
      ],
      "metadata": {
        "id": "4OnunJsTzgQn"
      },
      "execution_count": null,
      "outputs": []
    },
    {
      "cell_type": "code",
      "source": [
        "def cv_run(df, fold, background_freqs):\n",
        "\n",
        "  '''\n",
        "  Compute pswm on leave-one-out, score the leave-one-out, test on the one-left-out.\n",
        "  Compute optimal threshold and based on that, compute the number of true and false results\n",
        "  returns the threshold, and the related confusion matrix.\n",
        "  '''\n",
        "\n",
        "  # Select training set on basis of the fold\n",
        "  df_train = df[df['Cross-validation fold'] != fold]\n",
        "  df_train_sp = df_train[df_train['Class'] == 'SP']\n",
        "  train_sp_set = df_train_sp['Signal Peptide']\n",
        "  train_seqs_set = df_train['Sequence (first 50 N-terminal residues)']\n",
        "\n",
        "  # Train pswm on training set\n",
        "  PSWM = compute_pswm(train_sp_set, background_freqs)\n",
        "\n",
        "  # Score and evaluate best threshold\n",
        "  y_train_scores = scoring(PSWM, train_seqs_set)\n",
        "  y_train = df_train['Real Class'].tolist()\n",
        "  precision, recall, thresholds = precision_recall_curve(y_train, y_train_scores)\n",
        "  fscore = (2 * precision * recall) / (precision + recall)\n",
        "  index = np.argmax(fscore)\n",
        "  opt_thr = thresholds[index]\n",
        "\n",
        "  # Select testing set\n",
        "  df_test = df[df['Cross-validation fold'] == fold]\n",
        "  test_seqs_set = df_test['Sequence (first 50 N-terminal residues)']\n",
        "\n",
        "  # test the threshold on the left-out set\n",
        "  y_test_scores = scoring(PSWM, test_seqs_set)\n",
        "  y_pred = [int(t_s >= opt_thr) for t_s in y_test_scores]\n",
        "  y_true = df_test['Real Class']\n",
        "\n",
        "  # compute confusion matrix\n",
        "  TN, FP, FN, TP = confusion_matrix(y_true, y_pred).ravel()\n",
        "\n",
        "  return opt_thr, TP, FP, FN, TN"
      ],
      "metadata": {
        "id": "FgR-g4k07OaT"
      },
      "execution_count": null,
      "outputs": []
    },
    {
      "cell_type": "markdown",
      "source": [
        "### Display confusion matrix of a given cv subset"
      ],
      "metadata": {
        "id": "ffrVadvgI0Pp"
      }
    },
    {
      "cell_type": "code",
      "source": [
        "# Display Confusion Matrix of a given subset\n",
        "fold = 0\n",
        "opt_thr, TP, FP, FN, TN = cv_run(df, fold, bg_aa)\n",
        "cm = np.array([[TP, FP],[FN, TN]])\n",
        "\n",
        "ax = sns.heatmap(cm, annot=True, cmap=\"Reds\", vmin=0, vmax=300)\n",
        "\n",
        "ax.set_title('Seaborn Confusion Matrix\\n\\n');\n",
        "ax.set_xlabel('\\nActual Values')\n",
        "ax.set_ylabel('Predicted Values ');\n",
        "\n",
        "## Ticket labels - List must be in alphabetical order\n",
        "ax.xaxis.set_ticklabels(['Positive','Negative'])\n",
        "ax.yaxis.set_ticklabels(['Positive','Negative',])\n",
        "\n",
        "## Display the visualization of the Confusion Matrix.\n",
        "plt.show()"
      ],
      "metadata": {
        "colab": {
          "base_uri": "https://localhost:8080/"
        },
        "id": "UPGX8OOlBLuk",
        "outputId": "13ced8bd-668a-4c0f-8e3f-12764447b0f8"
      },
      "execution_count": null,
      "outputs": [
        {
          "output_type": "display_data",
          "data": {
            "text/plain": [
              "<Figure size 432x288 with 2 Axes>"
            ],
            "image/png": "[encoded data removed]"
          },
          "metadata": {
            "needs_background": "light"
          }
        }
      ]
    },
    {
      "cell_type": "markdown",
      "source": [
        "### CV runs and metrics"
      ],
      "metadata": {
        "id": "P5Hxs7RMI-Hs"
      }
    },
    {
      "cell_type": "code",
      "source": [
        "# Perform runs of cross validation and evaluate metrics\n",
        "\n",
        "runs = pd.DataFrame(columns=('opt_thr', 'TP', 'FP', 'FN', 'TN', 'MCC', \n",
        "                               'Accuracy', 'Precision', 'Recall', 'FPR', 'F1'), index=(range(5)))\n",
        "\n",
        "for i in range(5):\n",
        "\n",
        "  thr, TP, FP, FN, TN = cv_run(df, i, bg_aa)\n",
        "  mcc,acc,pres,recall,F1, FPR = perf_metrics(TP, FP, FN, TN)\n",
        "\n",
        "  runs.iloc[i] = thr, TP, FP, FN, TN, mcc, acc, pres, recall, FPR, F1\n",
        "\n",
        "#runs.transpose()\n",
        "runs\n",
        "\n",
        "# Save cv_summary as image\n",
        "dfi.export(runs,\"VH_CV_summary.png\")"
      ],
      "metadata": {
        "id": "S0EXFKaGA2wx"
      },
      "execution_count": null,
      "outputs": []
    },
    {
      "cell_type": "code",
      "source": [
        "# Compute average threshold for benchmarking\n",
        "\n",
        "avg_thr = runs['opt_thr'].mean()\n",
        "avg_thr"
      ],
      "metadata": {
        "id": "iYkYiPCzM_Sw",
        "colab": {
          "base_uri": "https://localhost:8080/"
        },
        "outputId": "d5dd0dba-f74f-43ab-a479-b17b7f1a6b44"
      },
      "execution_count": null,
      "outputs": [
        {
          "output_type": "execute_result",
          "data": {
            "text/plain": [
              "8.205864702875445"
            ]
          },
          "metadata": {},
          "execution_count": 85
        }
      ]
    },
    {
      "cell_type": "code",
      "source": [
        "# CROSS VALIDATION SUMMARY\n",
        "\n",
        "cv_VH_summary = pd.DataFrame(columns=['MCC', 'Q2', 'Precision', 'Recall', 'F1'], index=['Von Heijne'])\n",
        "\n",
        "\n",
        "# Compute standard error\n",
        "mcc_se = runs['MCC'].std()/(5**(.5))\n",
        "Q2_se = runs['Accuracy'].std()/(5**(.5))\n",
        "Pre_se = runs['Precision'].std()/(5**(.5))\n",
        "Rec_se = runs['Recall'].std()/(5**(.5))\n",
        "F1_se = runs['F1'].std()/(5**(.5))\n",
        "\n",
        "mcc = \"{mean:.4f} +/- {se:.4f}\".format(mean=runs['MCC'].mean(), se=mcc_se)\n",
        "Q2 = \"{mean:.4f} +/- {se:.4f}\".format(mean=runs['Accuracy'].mean(), se=Q2_se)\n",
        "Pre = \"{mean:.4f} +/- {se:.4f}\".format(mean=runs['Precision'].mean(), se=Pre_se)\n",
        "Rec = \"{mean:.4f} +/- {se:.4f}\".format(mean=runs['Recall'].mean(), se=Rec_se)\n",
        "F1 = \"{mean:.4f} +/- {se:.4f}\".format(mean=runs['F1'].mean(), se=F1_se)\n",
        "\n",
        "cv_VH_summary.loc['Von Heijne'] = mcc, Q2, Pre, Rec, F1\n"
      ],
      "metadata": {
        "id": "qC9uOMH3aNaa"
      },
      "execution_count": null,
      "outputs": []
    },
    {
      "cell_type": "code",
      "source": [
        "cv_VH_summary"
      ],
      "metadata": {
        "colab": {
          "base_uri": "https://localhost:8080/"
        },
        "id": "HtXDA3ZEe9YW",
        "outputId": "1ff2bd10-6a76-4807-8126-9e4d11edd880"
      },
      "execution_count": null,
      "outputs": [
        {
          "output_type": "execute_result",
          "data": {
            "text/plain": [
              "                          MCC                 Q2          Precision  \\\n",
              "Von Heijne  0.7839 +/- 0.0114  0.9454 +/- 0.0039  0.8432 +/- 0.0315   \n",
              "\n",
              "                       Recall                 F1  \n",
              "Von Heijne  0.7908 +/- 0.0163  0.8135 +/- 0.0086  "
            ],
            "text/html": [
              "\n",
              "  <div id=\"df-b0025b75-c539-4fff-9432-93f9a7f85fc8\">\n",
              "    <div class=\"colab-df-container\">\n",
              "      <div>\n",
              "<style scoped>\n",
              "    .dataframe tbody tr th:only-of-type {\n",
              "        vertical-align: middle;\n",
              "    }\n",
              "\n",
              "    .dataframe tbody tr th {\n",
              "        vertical-align: top;\n",
              "    }\n",
              "\n",
              "    .dataframe thead th {\n",
              "        text-align: right;\n",
              "    }\n",
              "</style>\n",
              "<table border=\"1\" class=\"dataframe\">\n",
              "  <thead>\n",
              "    <tr style=\"text-align: right;\">\n",
              "      <th></th>\n",
              "      <th>MCC</th>\n",
              "      <th>Q2</th>\n",
              "      <th>Precision</th>\n",
              "      <th>Recall</th>\n",
              "      <th>F1</th>\n",
              "    </tr>\n",
              "  </thead>\n",
              "  <tbody>\n",
              "    <tr>\n",
              "      <th>Von Heijne</th>\n",
              "      <td>0.7839 +/- 0.0114</td>\n",
              "      <td>0.9454 +/- 0.0039</td>\n",
              "      <td>0.8432 +/- 0.0315</td>\n",
              "      <td>0.7908 +/- 0.0163</td>\n",
              "      <td>0.8135 +/- 0.0086</td>\n",
              "    </tr>\n",
              "  </tbody>\n",
              "</table>\n",
              "</div>\n",
              "      <button class=\"colab-df-convert\" onclick=\"convertToInteractive('df-b0025b75-c539-4fff-9432-93f9a7f85fc8')\"\n",
              "              title=\"Convert this dataframe to an interactive table.\"\n",
              "              style=\"display:none;\">\n",
              "        \n",
              "  <svg xmlns=\"http://www.w3.org/2000/svg\" height=\"24px\"viewBox=\"0 0 24 24\"\n",
              "       width=\"24px\">\n",
              "    <path d=\"M0 0h24v24H0V0z\" fill=\"none\"/>\n",
              "    <path d=\"M18.56 5.44l.94 2.06.94-2.06 2.06-.94-2.06-.94-.94-2.06-.94 2.06-2.06.94zm-11 1L8.5 8.5l.94-2.06 2.06-.94-2.06-.94L8.5 2.5l-.94 2.06-2.06.94zm10 10l.94 2.06.94-2.06 2.06-.94-2.06-.94-.94-2.06-.94 2.06-2.06.94z\"/><path d=\"M17.41 7.96l-1.37-1.37c-.4-.4-.92-.59-1.43-.59-.52 0-1.04.2-1.43.59L10.3 9.45l-7.72 7.72c-.78.78-.78 2.05 0 2.83L4 21.41c.39.39.9.59 1.41.59.51 0 1.02-.2 1.41-.59l7.78-7.78 2.81-2.81c.8-.78.8-2.07 0-2.86zM5.41 20L4 18.59l7.72-7.72 1.47 1.35L5.41 20z\"/>\n",
              "  </svg>\n",
              "      </button>\n",
              "      \n",
              "  <style>\n",
              "    .colab-df-container {\n",
              "      display:flex;\n",
              "      flex-wrap:wrap;\n",
              "      gap: 12px;\n",
              "    }\n",
              "\n",
              "    .colab-df-convert {\n",
              "      background-color: #E8F0FE;\n",
              "      border: none;\n",
              "      border-radius: 50%;\n",
              "      cursor: pointer;\n",
              "      display: none;\n",
              "      fill: #1967D2;\n",
              "      height: 32px;\n",
              "      padding: 0 0 0 0;\n",
              "      width: 32px;\n",
              "    }\n",
              "\n",
              "    .colab-df-convert:hover {\n",
              "      background-color: #E2EBFA;\n",
              "      box-shadow: 0px 1px 2px rgba(60, 64, 67, 0.3), 0px 1px 3px 1px rgba(60, 64, 67, 0.15);\n",
              "      fill: #174EA6;\n",
              "    }\n",
              "\n",
              "    [theme=dark] .colab-df-convert {\n",
              "      background-color: #3B4455;\n",
              "      fill: #D2E3FC;\n",
              "    }\n",
              "\n",
              "    [theme=dark] .colab-df-convert:hover {\n",
              "      background-color: #434B5C;\n",
              "      box-shadow: 0px 1px 3px 1px rgba(0, 0, 0, 0.15);\n",
              "      filter: drop-shadow(0px 1px 2px rgba(0, 0, 0, 0.3));\n",
              "      fill: #FFFFFF;\n",
              "    }\n",
              "  </style>\n",
              "\n",
              "      <script>\n",
              "        const buttonEl =\n",
              "          document.querySelector('#df-b0025b75-c539-4fff-9432-93f9a7f85fc8 button.colab-df-convert');\n",
              "        buttonEl.style.display =\n",
              "          google.colab.kernel.accessAllowed ? 'block' : 'none';\n",
              "\n",
              "        async function convertToInteractive(key) {\n",
              "          const element = document.querySelector('#df-b0025b75-c539-4fff-9432-93f9a7f85fc8');\n",
              "          const dataTable =\n",
              "            await google.colab.kernel.invokeFunction('convertToInteractive',\n",
              "                                                     [key], {});\n",
              "          if (!dataTable) return;\n",
              "\n",
              "          const docLinkHtml = 'Like what you see? Visit the ' +\n",
              "            '<a target=\"_blank\" href=https://colab.research.google.com/notebooks/data_table.ipynb>data table notebook</a>'\n",
              "            + ' to learn more about interactive tables.';\n",
              "          element.innerHTML = '';\n",
              "          dataTable['output_type'] = 'display_data';\n",
              "          await google.colab.output.renderOutput(dataTable, element);\n",
              "          const docLink = document.createElement('div');\n",
              "          docLink.innerHTML = docLinkHtml;\n",
              "          element.appendChild(docLink);\n",
              "        }\n",
              "      </script>\n",
              "    </div>\n",
              "  </div>\n",
              "  "
            ]
          },
          "metadata": {},
          "execution_count": 87
        }
      ]
    },
    {
      "cell_type": "markdown",
      "source": [
        "## Benchmarking"
      ],
      "metadata": {
        "id": "Ys7SKFrw98J8"
      }
    },
    {
      "cell_type": "code",
      "source": [
        "benchmarking_dataset = str(input('dataset: '))\n",
        "bm_df = pd.read_table(benchmarking_dataset)\n",
        "bm_df"
      ],
      "metadata": {
        "colab": {
          "base_uri": "https://localhost:8080/",
          "height": 572
        },
        "id": "AdMHG2PIamW2",
        "outputId": "f5dafdd9-791f-47d7-8740-cb5750826540"
      },
      "execution_count": null,
      "outputs": [
        {
          "name": "stdout",
          "output_type": "stream",
          "text": [
            "dataset: benchmark_set.tsv\n"
          ]
        },
        {
          "output_type": "execute_result",
          "data": {
            "text/plain": [
              "     UniProtKB accession                                    Taxa  Kingdom  \\\n",
              "0                 Q8TF40                    Homo sapiens (Human)  Metazoa   \n",
              "1                 Q1ENB6  Arabidopsis thaliana (Mouse-ear cress)   Plants   \n",
              "2                 Q9BZS1                    Homo sapiens (Human)  Metazoa   \n",
              "3                 F4K2A1  Arabidopsis thaliana (Mouse-ear cress)   Plants   \n",
              "4                 Q9SZL8  Arabidopsis thaliana (Mouse-ear cress)   Plants   \n",
              "...                  ...                                     ...      ...   \n",
              "7451              O74327                    Homo sapiens (Human)  Metazoa   \n",
              "7452              Q9UM00  Arabidopsis thaliana (Mouse-ear cress)   Plants   \n",
              "7453              Q93Y07                    Homo sapiens (Human)  Metazoa   \n",
              "7454              Q86TL2                    Mus musculus (Mouse)  Metazoa   \n",
              "7455              E2JF22                                     NaN    Other   \n",
              "\n",
              "      Class            Sequence (first 50 N-terminal residues)  \\\n",
              "0     NO_SP  MAPTLFQKLFSKRTGLGAPGRDARDPDCGFSWPLPEFDPSQIRLIV...   \n",
              "1     NO_SP  MDFTSLETTTFEEVVIALGSNVGNRMNNFKEALRLMKDYGISVTRH...   \n",
              "2     NO_SP  MPNPRPGKPSAPSLALGPSPGASPSWRAAPKASDLLGARGPGGTFQ...   \n",
              "3     NO_SP  MFAVSIVPRTTSCRLSSAFLCQLSIPLTLRLHHHYQHHQPHLPSPL...   \n",
              "4     NO_SP  MMDNEVLDFDIGVGVSSGGDVDDDAIDIEHHALDDDDMLDSPIMPC...   \n",
              "...     ...                                                ...   \n",
              "7451  NO_SP  MSGYSPLSSGPADVHIGKAGFFSSVINLANTILGAGILSLPNAFTK...   \n",
              "7452  NO_SP  MSTMFADTLLIVFISVCTALLAEGITWVLVYRTDKYKRLKAEVEKQ...   \n",
              "7453  NO_SP  MELFALLIKVAGLLATVTVGANVVSYSRFRRQNLAKFRSPIDESKE...   \n",
              "7454  NO_SP  MQGPAGNASRGLPGGPPSTVASGAGRCESGALMHSFGIFLQGLLGV...   \n",
              "7455  NO_SP  MEPHVLGAGLYWLLLPCTLLAASLLRFNALSLVYLLFLLLLPWLPG...   \n",
              "\n",
              "                            SP cleavage-site annotation  \n",
              "0     NNNNNNNNNNNNNNNNNNNNNNNNNNNNNNNNNNNNNNNNNNNNNN...  \n",
              "1     NNNNNNNNNNNNNNNNNNNNNNNNNNNNNNNNNNNNNNNNNNNNNN...  \n",
              "2     NNNNNNNNNNNNNNNNNNNNNNNNNNNNNNNNNNNNNNNNNNNNNN...  \n",
              "3     NNNNNNNNNNNNNNNNNNNNNNNNNNNNNNNNNNNNNNNNNNNNNN...  \n",
              "4     NNNNNNNNNNNNNNNNNNNNNNNNNNNNNNNNNNNNNNNNNNNNNN...  \n",
              "...                                                 ...  \n",
              "7451  NNNNNNNNNNNNNNNNNNNNNNNNNNNNNNNNNNNNNNNNNNNNNN...  \n",
              "7452  NNNNNNNNNNNNNNNNNNNNNNNNNNNNNNNNNNNNNNNNNNNNNN...  \n",
              "7453  NNNNNNNNNNNNNNNNNNNNNNNNNNNNNNNNNNNNNNNNNNNNNN...  \n",
              "7454  NNNNNNNNNNNNNNNNNNNNNNNNNNNNNNNNNNNNNNNNNNNNNN...  \n",
              "7455  NNNNNNNNNNNNNNNNNNNNNNNNNNNNNNNNNNNNNNNNNNNNNN...  \n",
              "\n",
              "[7456 rows x 6 columns]"
            ],
            "text/html": [
              "\n",
              "  <div id=\"df-6541b72d-e1fd-4a6c-8093-e3c82e0204cb\">\n",
              "    <div class=\"colab-df-container\">\n",
              "      <div>\n",
              "<style scoped>\n",
              "    .dataframe tbody tr th:only-of-type {\n",
              "        vertical-align: middle;\n",
              "    }\n",
              "\n",
              "    .dataframe tbody tr th {\n",
              "        vertical-align: top;\n",
              "    }\n",
              "\n",
              "    .dataframe thead th {\n",
              "        text-align: right;\n",
              "    }\n",
              "</style>\n",
              "<table border=\"1\" class=\"dataframe\">\n",
              "  <thead>\n",
              "    <tr style=\"text-align: right;\">\n",
              "      <th></th>\n",
              "      <th>UniProtKB accession</th>\n",
              "      <th>Taxa</th>\n",
              "      <th>Kingdom</th>\n",
              "      <th>Class</th>\n",
              "      <th>Sequence (first 50 N-terminal residues)</th>\n",
              "      <th>SP cleavage-site annotation</th>\n",
              "    </tr>\n",
              "  </thead>\n",
              "  <tbody>\n",
              "    <tr>\n",
              "      <th>0</th>\n",
              "      <td>Q8TF40</td>\n",
              "      <td>Homo sapiens (Human)</td>\n",
              "      <td>Metazoa</td>\n",
              "      <td>NO_SP</td>\n",
              "      <td>MAPTLFQKLFSKRTGLGAPGRDARDPDCGFSWPLPEFDPSQIRLIV...</td>\n",
              "      <td>NNNNNNNNNNNNNNNNNNNNNNNNNNNNNNNNNNNNNNNNNNNNNN...</td>\n",
              "    </tr>\n",
              "    <tr>\n",
              "      <th>1</th>\n",
              "      <td>Q1ENB6</td>\n",
              "      <td>Arabidopsis thaliana (Mouse-ear cress)</td>\n",
              "      <td>Plants</td>\n",
              "      <td>NO_SP</td>\n",
              "      <td>MDFTSLETTTFEEVVIALGSNVGNRMNNFKEALRLMKDYGISVTRH...</td>\n",
              "      <td>NNNNNNNNNNNNNNNNNNNNNNNNNNNNNNNNNNNNNNNNNNNNNN...</td>\n",
              "    </tr>\n",
              "    <tr>\n",
              "      <th>2</th>\n",
              "      <td>Q9BZS1</td>\n",
              "      <td>Homo sapiens (Human)</td>\n",
              "      <td>Metazoa</td>\n",
              "      <td>NO_SP</td>\n",
              "      <td>MPNPRPGKPSAPSLALGPSPGASPSWRAAPKASDLLGARGPGGTFQ...</td>\n",
              "      <td>NNNNNNNNNNNNNNNNNNNNNNNNNNNNNNNNNNNNNNNNNNNNNN...</td>\n",
              "    </tr>\n",
              "    <tr>\n",
              "      <th>3</th>\n",
              "      <td>F4K2A1</td>\n",
              "      <td>Arabidopsis thaliana (Mouse-ear cress)</td>\n",
              "      <td>Plants</td>\n",
              "      <td>NO_SP</td>\n",
              "      <td>MFAVSIVPRTTSCRLSSAFLCQLSIPLTLRLHHHYQHHQPHLPSPL...</td>\n",
              "      <td>NNNNNNNNNNNNNNNNNNNNNNNNNNNNNNNNNNNNNNNNNNNNNN...</td>\n",
              "    </tr>\n",
              "    <tr>\n",
              "      <th>4</th>\n",
              "      <td>Q9SZL8</td>\n",
              "      <td>Arabidopsis thaliana (Mouse-ear cress)</td>\n",
              "      <td>Plants</td>\n",
              "      <td>NO_SP</td>\n",
              "      <td>MMDNEVLDFDIGVGVSSGGDVDDDAIDIEHHALDDDDMLDSPIMPC...</td>\n",
              "      <td>NNNNNNNNNNNNNNNNNNNNNNNNNNNNNNNNNNNNNNNNNNNNNN...</td>\n",
              "    </tr>\n",
              "    <tr>\n",
              "      <th>...</th>\n",
              "      <td>...</td>\n",
              "      <td>...</td>\n",
              "      <td>...</td>\n",
              "      <td>...</td>\n",
              "      <td>...</td>\n",
              "      <td>...</td>\n",
              "    </tr>\n",
              "    <tr>\n",
              "      <th>7451</th>\n",
              "      <td>O74327</td>\n",
              "      <td>Homo sapiens (Human)</td>\n",
              "      <td>Metazoa</td>\n",
              "      <td>NO_SP</td>\n",
              "      <td>MSGYSPLSSGPADVHIGKAGFFSSVINLANTILGAGILSLPNAFTK...</td>\n",
              "      <td>NNNNNNNNNNNNNNNNNNNNNNNNNNNNNNNNNNNNNNNNNNNNNN...</td>\n",
              "    </tr>\n",
              "    <tr>\n",
              "      <th>7452</th>\n",
              "      <td>Q9UM00</td>\n",
              "      <td>Arabidopsis thaliana (Mouse-ear cress)</td>\n",
              "      <td>Plants</td>\n",
              "      <td>NO_SP</td>\n",
              "      <td>MSTMFADTLLIVFISVCTALLAEGITWVLVYRTDKYKRLKAEVEKQ...</td>\n",
              "      <td>NNNNNNNNNNNNNNNNNNNNNNNNNNNNNNNNNNNNNNNNNNNNNN...</td>\n",
              "    </tr>\n",
              "    <tr>\n",
              "      <th>7453</th>\n",
              "      <td>Q93Y07</td>\n",
              "      <td>Homo sapiens (Human)</td>\n",
              "      <td>Metazoa</td>\n",
              "      <td>NO_SP</td>\n",
              "      <td>MELFALLIKVAGLLATVTVGANVVSYSRFRRQNLAKFRSPIDESKE...</td>\n",
              "      <td>NNNNNNNNNNNNNNNNNNNNNNNNNNNNNNNNNNNNNNNNNNNNNN...</td>\n",
              "    </tr>\n",
              "    <tr>\n",
              "      <th>7454</th>\n",
              "      <td>Q86TL2</td>\n",
              "      <td>Mus musculus (Mouse)</td>\n",
              "      <td>Metazoa</td>\n",
              "      <td>NO_SP</td>\n",
              "      <td>MQGPAGNASRGLPGGPPSTVASGAGRCESGALMHSFGIFLQGLLGV...</td>\n",
              "      <td>NNNNNNNNNNNNNNNNNNNNNNNNNNNNNNNNNNNNNNNNNNNNNN...</td>\n",
              "    </tr>\n",
              "    <tr>\n",
              "      <th>7455</th>\n",
              "      <td>E2JF22</td>\n",
              "      <td>NaN</td>\n",
              "      <td>Other</td>\n",
              "      <td>NO_SP</td>\n",
              "      <td>MEPHVLGAGLYWLLLPCTLLAASLLRFNALSLVYLLFLLLLPWLPG...</td>\n",
              "      <td>NNNNNNNNNNNNNNNNNNNNNNNNNNNNNNNNNNNNNNNNNNNNNN...</td>\n",
              "    </tr>\n",
              "  </tbody>\n",
              "</table>\n",
              "<p>7456 rows × 6 columns</p>\n",
              "</div>\n",
              "      <button class=\"colab-df-convert\" onclick=\"convertToInteractive('df-6541b72d-e1fd-4a6c-8093-e3c82e0204cb')\"\n",
              "              title=\"Convert this dataframe to an interactive table.\"\n",
              "              style=\"display:none;\">\n",
              "        \n",
              "  <svg xmlns=\"http://www.w3.org/2000/svg\" height=\"24px\"viewBox=\"0 0 24 24\"\n",
              "       width=\"24px\">\n",
              "    <path d=\"M0 0h24v24H0V0z\" fill=\"none\"/>\n",
              "    <path d=\"M18.56 5.44l.94 2.06.94-2.06 2.06-.94-2.06-.94-.94-2.06-.94 2.06-2.06.94zm-11 1L8.5 8.5l.94-2.06 2.06-.94-2.06-.94L8.5 2.5l-.94 2.06-2.06.94zm10 10l.94 2.06.94-2.06 2.06-.94-2.06-.94-.94-2.06-.94 2.06-2.06.94z\"/><path d=\"M17.41 7.96l-1.37-1.37c-.4-.4-.92-.59-1.43-.59-.52 0-1.04.2-1.43.59L10.3 9.45l-7.72 7.72c-.78.78-.78 2.05 0 2.83L4 21.41c.39.39.9.59 1.41.59.51 0 1.02-.2 1.41-.59l7.78-7.78 2.81-2.81c.8-.78.8-2.07 0-2.86zM5.41 20L4 18.59l7.72-7.72 1.47 1.35L5.41 20z\"/>\n",
              "  </svg>\n",
              "      </button>\n",
              "      \n",
              "  <style>\n",
              "    .colab-df-container {\n",
              "      display:flex;\n",
              "      flex-wrap:wrap;\n",
              "      gap: 12px;\n",
              "    }\n",
              "\n",
              "    .colab-df-convert {\n",
              "      background-color: #E8F0FE;\n",
              "      border: none;\n",
              "      border-radius: 50%;\n",
              "      cursor: pointer;\n",
              "      display: none;\n",
              "      fill: #1967D2;\n",
              "      height: 32px;\n",
              "      padding: 0 0 0 0;\n",
              "      width: 32px;\n",
              "    }\n",
              "\n",
              "    .colab-df-convert:hover {\n",
              "      background-color: #E2EBFA;\n",
              "      box-shadow: 0px 1px 2px rgba(60, 64, 67, 0.3), 0px 1px 3px 1px rgba(60, 64, 67, 0.15);\n",
              "      fill: #174EA6;\n",
              "    }\n",
              "\n",
              "    [theme=dark] .colab-df-convert {\n",
              "      background-color: #3B4455;\n",
              "      fill: #D2E3FC;\n",
              "    }\n",
              "\n",
              "    [theme=dark] .colab-df-convert:hover {\n",
              "      background-color: #434B5C;\n",
              "      box-shadow: 0px 1px 3px 1px rgba(0, 0, 0, 0.15);\n",
              "      filter: drop-shadow(0px 1px 2px rgba(0, 0, 0, 0.3));\n",
              "      fill: #FFFFFF;\n",
              "    }\n",
              "  </style>\n",
              "\n",
              "      <script>\n",
              "        const buttonEl =\n",
              "          document.querySelector('#df-6541b72d-e1fd-4a6c-8093-e3c82e0204cb button.colab-df-convert');\n",
              "        buttonEl.style.display =\n",
              "          google.colab.kernel.accessAllowed ? 'block' : 'none';\n",
              "\n",
              "        async function convertToInteractive(key) {\n",
              "          const element = document.querySelector('#df-6541b72d-e1fd-4a6c-8093-e3c82e0204cb');\n",
              "          const dataTable =\n",
              "            await google.colab.kernel.invokeFunction('convertToInteractive',\n",
              "                                                     [key], {});\n",
              "          if (!dataTable) return;\n",
              "\n",
              "          const docLinkHtml = 'Like what you see? Visit the ' +\n",
              "            '<a target=\"_blank\" href=https://colab.research.google.com/notebooks/data_table.ipynb>data table notebook</a>'\n",
              "            + ' to learn more about interactive tables.';\n",
              "          element.innerHTML = '';\n",
              "          dataTable['output_type'] = 'display_data';\n",
              "          await google.colab.output.renderOutput(dataTable, element);\n",
              "          const docLink = document.createElement('div');\n",
              "          docLink.innerHTML = docLinkHtml;\n",
              "          element.appendChild(docLink);\n",
              "        }\n",
              "      </script>\n",
              "    </div>\n",
              "  </div>\n",
              "  "
            ]
          },
          "metadata": {},
          "execution_count": 149
        }
      ]
    },
    {
      "cell_type": "code",
      "source": [
        "# Extraction of (-13; +2) segment around cleavage site\n",
        "sp = []\n",
        "\n",
        "for i in range(len(bm_df['SP cleavage-site annotation'])):\n",
        "  \n",
        "  seq = bm_df['Sequence (first 50 N-terminal residues)'][i]\n",
        "  annot = bm_df['SP cleavage-site annotation'][i]\n",
        "  cl_site = annot.find('N')\n",
        "  start = cl_site - 13\n",
        "  if start < 0:\n",
        "    sp.append(seq[0:15])\n",
        "  else: \n",
        "    sp.append(seq[start:cl_site+2])\n",
        "\n",
        "# Add motifs to dataframe\n",
        "bm_df['Signal Peptide'] = sp\n",
        "\n",
        "# Binarize classes to estimate performance metrics\n",
        "bm_df.loc[bm_df['Class'] == 'SP', 'Real Class'] = 1\n",
        "bm_df.loc[bm_df['Class'] == 'NO_SP', 'Real Class'] = 0\n",
        "\n",
        "\n",
        "bm_df"
      ],
      "metadata": {
        "colab": {
          "base_uri": "https://localhost:8080/",
          "height": 887
        },
        "id": "zi9Ahs-EJBHs",
        "outputId": "1caa255f-1ba9-4b09-b79b-ff72b3dde978"
      },
      "execution_count": null,
      "outputs": [
        {
          "output_type": "execute_result",
          "data": {
            "text/plain": [
              "     UniProtKB accession                                    Taxa  Kingdom  \\\n",
              "0                 Q8TF40                    Homo sapiens (Human)  Metazoa   \n",
              "1                 Q1ENB6  Arabidopsis thaliana (Mouse-ear cress)   Plants   \n",
              "2                 Q9BZS1                    Homo sapiens (Human)  Metazoa   \n",
              "3                 F4K2A1  Arabidopsis thaliana (Mouse-ear cress)   Plants   \n",
              "4                 Q9SZL8  Arabidopsis thaliana (Mouse-ear cress)   Plants   \n",
              "...                  ...                                     ...      ...   \n",
              "7451              O74327                    Homo sapiens (Human)  Metazoa   \n",
              "7452              Q9UM00  Arabidopsis thaliana (Mouse-ear cress)   Plants   \n",
              "7453              Q93Y07                    Homo sapiens (Human)  Metazoa   \n",
              "7454              Q86TL2                    Mus musculus (Mouse)  Metazoa   \n",
              "7455              E2JF22                                     NaN    Other   \n",
              "\n",
              "      Class            Sequence (first 50 N-terminal residues)  \\\n",
              "0     NO_SP  MAPTLFQKLFSKRTGLGAPGRDARDPDCGFSWPLPEFDPSQIRLIV...   \n",
              "1     NO_SP  MDFTSLETTTFEEVVIALGSNVGNRMNNFKEALRLMKDYGISVTRH...   \n",
              "2     NO_SP  MPNPRPGKPSAPSLALGPSPGASPSWRAAPKASDLLGARGPGGTFQ...   \n",
              "3     NO_SP  MFAVSIVPRTTSCRLSSAFLCQLSIPLTLRLHHHYQHHQPHLPSPL...   \n",
              "4     NO_SP  MMDNEVLDFDIGVGVSSGGDVDDDAIDIEHHALDDDDMLDSPIMPC...   \n",
              "...     ...                                                ...   \n",
              "7451  NO_SP  MSGYSPLSSGPADVHIGKAGFFSSVINLANTILGAGILSLPNAFTK...   \n",
              "7452  NO_SP  MSTMFADTLLIVFISVCTALLAEGITWVLVYRTDKYKRLKAEVEKQ...   \n",
              "7453  NO_SP  MELFALLIKVAGLLATVTVGANVVSYSRFRRQNLAKFRSPIDESKE...   \n",
              "7454  NO_SP  MQGPAGNASRGLPGGPPSTVASGAGRCESGALMHSFGIFLQGLLGV...   \n",
              "7455  NO_SP  MEPHVLGAGLYWLLLPCTLLAASLLRFNALSLVYLLFLLLLPWLPG...   \n",
              "\n",
              "                            SP cleavage-site annotation   Signal Peptide  \\\n",
              "0     NNNNNNNNNNNNNNNNNNNNNNNNNNNNNNNNNNNNNNNNNNNNNN...  MAPTLFQKLFSKRTG   \n",
              "1     NNNNNNNNNNNNNNNNNNNNNNNNNNNNNNNNNNNNNNNNNNNNNN...  MDFTSLETTTFEEVV   \n",
              "2     NNNNNNNNNNNNNNNNNNNNNNNNNNNNNNNNNNNNNNNNNNNNNN...  MPNPRPGKPSAPSLA   \n",
              "3     NNNNNNNNNNNNNNNNNNNNNNNNNNNNNNNNNNNNNNNNNNNNNN...  MFAVSIVPRTTSCRL   \n",
              "4     NNNNNNNNNNNNNNNNNNNNNNNNNNNNNNNNNNNNNNNNNNNNNN...  MMDNEVLDFDIGVGV   \n",
              "...                                                 ...              ...   \n",
              "7451  NNNNNNNNNNNNNNNNNNNNNNNNNNNNNNNNNNNNNNNNNNNNNN...  MSGYSPLSSGPADVH   \n",
              "7452  NNNNNNNNNNNNNNNNNNNNNNNNNNNNNNNNNNNNNNNNNNNNNN...  MSTMFADTLLIVFIS   \n",
              "7453  NNNNNNNNNNNNNNNNNNNNNNNNNNNNNNNNNNNNNNNNNNNNNN...  MELFALLIKVAGLLA   \n",
              "7454  NNNNNNNNNNNNNNNNNNNNNNNNNNNNNNNNNNNNNNNNNNNNNN...  MQGPAGNASRGLPGG   \n",
              "7455  NNNNNNNNNNNNNNNNNNNNNNNNNNNNNNNNNNNNNNNNNNNNNN...  MEPHVLGAGLYWLLL   \n",
              "\n",
              "      Real Class  \n",
              "0            0.0  \n",
              "1            0.0  \n",
              "2            0.0  \n",
              "3            0.0  \n",
              "4            0.0  \n",
              "...          ...  \n",
              "7451         0.0  \n",
              "7452         0.0  \n",
              "7453         0.0  \n",
              "7454         0.0  \n",
              "7455         0.0  \n",
              "\n",
              "[7456 rows x 8 columns]"
            ],
            "text/html": [
              "\n",
              "  <div id=\"df-4a645a7d-8694-440d-94c1-3d0769cc0ed7\">\n",
              "    <div class=\"colab-df-container\">\n",
              "      <div>\n",
              "<style scoped>\n",
              "    .dataframe tbody tr th:only-of-type {\n",
              "        vertical-align: middle;\n",
              "    }\n",
              "\n",
              "    .dataframe tbody tr th {\n",
              "        vertical-align: top;\n",
              "    }\n",
              "\n",
              "    .dataframe thead th {\n",
              "        text-align: right;\n",
              "    }\n",
              "</style>\n",
              "<table border=\"1\" class=\"dataframe\">\n",
              "  <thead>\n",
              "    <tr style=\"text-align: right;\">\n",
              "      <th></th>\n",
              "      <th>UniProtKB accession</th>\n",
              "      <th>Taxa</th>\n",
              "      <th>Kingdom</th>\n",
              "      <th>Class</th>\n",
              "      <th>Sequence (first 50 N-terminal residues)</th>\n",
              "      <th>SP cleavage-site annotation</th>\n",
              "      <th>Signal Peptide</th>\n",
              "      <th>Real Class</th>\n",
              "    </tr>\n",
              "  </thead>\n",
              "  <tbody>\n",
              "    <tr>\n",
              "      <th>0</th>\n",
              "      <td>Q8TF40</td>\n",
              "      <td>Homo sapiens (Human)</td>\n",
              "      <td>Metazoa</td>\n",
              "      <td>NO_SP</td>\n",
              "      <td>MAPTLFQKLFSKRTGLGAPGRDARDPDCGFSWPLPEFDPSQIRLIV...</td>\n",
              "      <td>NNNNNNNNNNNNNNNNNNNNNNNNNNNNNNNNNNNNNNNNNNNNNN...</td>\n",
              "      <td>MAPTLFQKLFSKRTG</td>\n",
              "      <td>0.0</td>\n",
              "    </tr>\n",
              "    <tr>\n",
              "      <th>1</th>\n",
              "      <td>Q1ENB6</td>\n",
              "      <td>Arabidopsis thaliana (Mouse-ear cress)</td>\n",
              "      <td>Plants</td>\n",
              "      <td>NO_SP</td>\n",
              "      <td>MDFTSLETTTFEEVVIALGSNVGNRMNNFKEALRLMKDYGISVTRH...</td>\n",
              "      <td>NNNNNNNNNNNNNNNNNNNNNNNNNNNNNNNNNNNNNNNNNNNNNN...</td>\n",
              "      <td>MDFTSLETTTFEEVV</td>\n",
              "      <td>0.0</td>\n",
              "    </tr>\n",
              "    <tr>\n",
              "      <th>2</th>\n",
              "      <td>Q9BZS1</td>\n",
              "      <td>Homo sapiens (Human)</td>\n",
              "      <td>Metazoa</td>\n",
              "      <td>NO_SP</td>\n",
              "      <td>MPNPRPGKPSAPSLALGPSPGASPSWRAAPKASDLLGARGPGGTFQ...</td>\n",
              "      <td>NNNNNNNNNNNNNNNNNNNNNNNNNNNNNNNNNNNNNNNNNNNNNN...</td>\n",
              "      <td>MPNPRPGKPSAPSLA</td>\n",
              "      <td>0.0</td>\n",
              "    </tr>\n",
              "    <tr>\n",
              "      <th>3</th>\n",
              "      <td>F4K2A1</td>\n",
              "      <td>Arabidopsis thaliana (Mouse-ear cress)</td>\n",
              "      <td>Plants</td>\n",
              "      <td>NO_SP</td>\n",
              "      <td>MFAVSIVPRTTSCRLSSAFLCQLSIPLTLRLHHHYQHHQPHLPSPL...</td>\n",
              "      <td>NNNNNNNNNNNNNNNNNNNNNNNNNNNNNNNNNNNNNNNNNNNNNN...</td>\n",
              "      <td>MFAVSIVPRTTSCRL</td>\n",
              "      <td>0.0</td>\n",
              "    </tr>\n",
              "    <tr>\n",
              "      <th>4</th>\n",
              "      <td>Q9SZL8</td>\n",
              "      <td>Arabidopsis thaliana (Mouse-ear cress)</td>\n",
              "      <td>Plants</td>\n",
              "      <td>NO_SP</td>\n",
              "      <td>MMDNEVLDFDIGVGVSSGGDVDDDAIDIEHHALDDDDMLDSPIMPC...</td>\n",
              "      <td>NNNNNNNNNNNNNNNNNNNNNNNNNNNNNNNNNNNNNNNNNNNNNN...</td>\n",
              "      <td>MMDNEVLDFDIGVGV</td>\n",
              "      <td>0.0</td>\n",
              "    </tr>\n",
              "    <tr>\n",
              "      <th>...</th>\n",
              "      <td>...</td>\n",
              "      <td>...</td>\n",
              "      <td>...</td>\n",
              "      <td>...</td>\n",
              "      <td>...</td>\n",
              "      <td>...</td>\n",
              "      <td>...</td>\n",
              "      <td>...</td>\n",
              "    </tr>\n",
              "    <tr>\n",
              "      <th>7451</th>\n",
              "      <td>O74327</td>\n",
              "      <td>Homo sapiens (Human)</td>\n",
              "      <td>Metazoa</td>\n",
              "      <td>NO_SP</td>\n",
              "      <td>MSGYSPLSSGPADVHIGKAGFFSSVINLANTILGAGILSLPNAFTK...</td>\n",
              "      <td>NNNNNNNNNNNNNNNNNNNNNNNNNNNNNNNNNNNNNNNNNNNNNN...</td>\n",
              "      <td>MSGYSPLSSGPADVH</td>\n",
              "      <td>0.0</td>\n",
              "    </tr>\n",
              "    <tr>\n",
              "      <th>7452</th>\n",
              "      <td>Q9UM00</td>\n",
              "      <td>Arabidopsis thaliana (Mouse-ear cress)</td>\n",
              "      <td>Plants</td>\n",
              "      <td>NO_SP</td>\n",
              "      <td>MSTMFADTLLIVFISVCTALLAEGITWVLVYRTDKYKRLKAEVEKQ...</td>\n",
              "      <td>NNNNNNNNNNNNNNNNNNNNNNNNNNNNNNNNNNNNNNNNNNNNNN...</td>\n",
              "      <td>MSTMFADTLLIVFIS</td>\n",
              "      <td>0.0</td>\n",
              "    </tr>\n",
              "    <tr>\n",
              "      <th>7453</th>\n",
              "      <td>Q93Y07</td>\n",
              "      <td>Homo sapiens (Human)</td>\n",
              "      <td>Metazoa</td>\n",
              "      <td>NO_SP</td>\n",
              "      <td>MELFALLIKVAGLLATVTVGANVVSYSRFRRQNLAKFRSPIDESKE...</td>\n",
              "      <td>NNNNNNNNNNNNNNNNNNNNNNNNNNNNNNNNNNNNNNNNNNNNNN...</td>\n",
              "      <td>MELFALLIKVAGLLA</td>\n",
              "      <td>0.0</td>\n",
              "    </tr>\n",
              "    <tr>\n",
              "      <th>7454</th>\n",
              "      <td>Q86TL2</td>\n",
              "      <td>Mus musculus (Mouse)</td>\n",
              "      <td>Metazoa</td>\n",
              "      <td>NO_SP</td>\n",
              "      <td>MQGPAGNASRGLPGGPPSTVASGAGRCESGALMHSFGIFLQGLLGV...</td>\n",
              "      <td>NNNNNNNNNNNNNNNNNNNNNNNNNNNNNNNNNNNNNNNNNNNNNN...</td>\n",
              "      <td>MQGPAGNASRGLPGG</td>\n",
              "      <td>0.0</td>\n",
              "    </tr>\n",
              "    <tr>\n",
              "      <th>7455</th>\n",
              "      <td>E2JF22</td>\n",
              "      <td>NaN</td>\n",
              "      <td>Other</td>\n",
              "      <td>NO_SP</td>\n",
              "      <td>MEPHVLGAGLYWLLLPCTLLAASLLRFNALSLVYLLFLLLLPWLPG...</td>\n",
              "      <td>NNNNNNNNNNNNNNNNNNNNNNNNNNNNNNNNNNNNNNNNNNNNNN...</td>\n",
              "      <td>MEPHVLGAGLYWLLL</td>\n",
              "      <td>0.0</td>\n",
              "    </tr>\n",
              "  </tbody>\n",
              "</table>\n",
              "<p>7456 rows × 8 columns</p>\n",
              "</div>\n",
              "      <button class=\"colab-df-convert\" onclick=\"convertToInteractive('df-4a645a7d-8694-440d-94c1-3d0769cc0ed7')\"\n",
              "              title=\"Convert this dataframe to an interactive table.\"\n",
              "              style=\"display:none;\">\n",
              "        \n",
              "  <svg xmlns=\"http://www.w3.org/2000/svg\" height=\"24px\"viewBox=\"0 0 24 24\"\n",
              "       width=\"24px\">\n",
              "    <path d=\"M0 0h24v24H0V0z\" fill=\"none\"/>\n",
              "    <path d=\"M18.56 5.44l.94 2.06.94-2.06 2.06-.94-2.06-.94-.94-2.06-.94 2.06-2.06.94zm-11 1L8.5 8.5l.94-2.06 2.06-.94-2.06-.94L8.5 2.5l-.94 2.06-2.06.94zm10 10l.94 2.06.94-2.06 2.06-.94-2.06-.94-.94-2.06-.94 2.06-2.06.94z\"/><path d=\"M17.41 7.96l-1.37-1.37c-.4-.4-.92-.59-1.43-.59-.52 0-1.04.2-1.43.59L10.3 9.45l-7.72 7.72c-.78.78-.78 2.05 0 2.83L4 21.41c.39.39.9.59 1.41.59.51 0 1.02-.2 1.41-.59l7.78-7.78 2.81-2.81c.8-.78.8-2.07 0-2.86zM5.41 20L4 18.59l7.72-7.72 1.47 1.35L5.41 20z\"/>\n",
              "  </svg>\n",
              "      </button>\n",
              "      \n",
              "  <style>\n",
              "    .colab-df-container {\n",
              "      display:flex;\n",
              "      flex-wrap:wrap;\n",
              "      gap: 12px;\n",
              "    }\n",
              "\n",
              "    .colab-df-convert {\n",
              "      background-color: #E8F0FE;\n",
              "      border: none;\n",
              "      border-radius: 50%;\n",
              "      cursor: pointer;\n",
              "      display: none;\n",
              "      fill: #1967D2;\n",
              "      height: 32px;\n",
              "      padding: 0 0 0 0;\n",
              "      width: 32px;\n",
              "    }\n",
              "\n",
              "    .colab-df-convert:hover {\n",
              "      background-color: #E2EBFA;\n",
              "      box-shadow: 0px 1px 2px rgba(60, 64, 67, 0.3), 0px 1px 3px 1px rgba(60, 64, 67, 0.15);\n",
              "      fill: #174EA6;\n",
              "    }\n",
              "\n",
              "    [theme=dark] .colab-df-convert {\n",
              "      background-color: #3B4455;\n",
              "      fill: #D2E3FC;\n",
              "    }\n",
              "\n",
              "    [theme=dark] .colab-df-convert:hover {\n",
              "      background-color: #434B5C;\n",
              "      box-shadow: 0px 1px 3px 1px rgba(0, 0, 0, 0.15);\n",
              "      filter: drop-shadow(0px 1px 2px rgba(0, 0, 0, 0.3));\n",
              "      fill: #FFFFFF;\n",
              "    }\n",
              "  </style>\n",
              "\n",
              "      <script>\n",
              "        const buttonEl =\n",
              "          document.querySelector('#df-4a645a7d-8694-440d-94c1-3d0769cc0ed7 button.colab-df-convert');\n",
              "        buttonEl.style.display =\n",
              "          google.colab.kernel.accessAllowed ? 'block' : 'none';\n",
              "\n",
              "        async function convertToInteractive(key) {\n",
              "          const element = document.querySelector('#df-4a645a7d-8694-440d-94c1-3d0769cc0ed7');\n",
              "          const dataTable =\n",
              "            await google.colab.kernel.invokeFunction('convertToInteractive',\n",
              "                                                     [key], {});\n",
              "          if (!dataTable) return;\n",
              "\n",
              "          const docLinkHtml = 'Like what you see? Visit the ' +\n",
              "            '<a target=\"_blank\" href=https://colab.research.google.com/notebooks/data_table.ipynb>data table notebook</a>'\n",
              "            + ' to learn more about interactive tables.';\n",
              "          element.innerHTML = '';\n",
              "          dataTable['output_type'] = 'display_data';\n",
              "          await google.colab.output.renderOutput(dataTable, element);\n",
              "          const docLink = document.createElement('div');\n",
              "          docLink.innerHTML = docLinkHtml;\n",
              "          element.appendChild(docLink);\n",
              "        }\n",
              "      </script>\n",
              "    </div>\n",
              "  </div>\n",
              "  "
            ]
          },
          "metadata": {},
          "execution_count": 150
        }
      ]
    },
    {
      "cell_type": "code",
      "source": [
        "# Produce pswm on positive training set\n",
        "df_sp = df[df.Class == 'SP']\n",
        "motifs = df_sp['Signal Peptide']\n",
        "pswm = compute_pswm(motifs, bg_aa)\n",
        "\n",
        "# Score each sequence\n",
        "bm_seqs = bm_df['Sequence (first 50 N-terminal residues)']\n",
        "y_bm_scores = scoring(pswm, bm_seqs)\n",
        "\n",
        "# Filter according to avg_thr\n",
        "y_bm_pred = [int(t_s >= avg_thr) for t_s in y_bm_scores]\n",
        "bm_df['Predicted Class'] = y_bm_pred\n",
        "y_bm_true = bm_df['Real Class']\n",
        "\n",
        "# Compute performance metrics\n",
        "TN, FP, FN, TP = confusion_matrix(y_bm_true, y_bm_pred).ravel()\n",
        "\n",
        "mcc,acc,pres,recall,F1, FPR = perf_metrics(TP, FP, FN, TN)\n",
        "bm_VH_summary = pd.DataFrame(data=[[TP, FP, FN, TN, mcc,acc,pres,recall,FPR,F1]], \n",
        "                              columns=('TP', 'FP', 'FN', 'TN', \n",
        "                                     'MCC', 'Q2', 'Precision', 'Recall', 'FPR', 'F1'),\n",
        "                               index=['Von Heijne'])\n",
        "\n",
        "# Results\n",
        "bm_VH_summary = bm_VH_summary[['MCC', 'Q2', 'Precision', 'Recall', 'FPR', 'F1']]\n",
        "bm_VH_summary"
      ],
      "metadata": {
        "colab": {
          "base_uri": "https://localhost:8080/",
          "height": 81
        },
        "id": "5PQ8NicpXP0T",
        "outputId": "87f42dc8-77df-45d5-fa4b-d2de3d083970"
      },
      "execution_count": null,
      "outputs": [
        {
          "output_type": "execute_result",
          "data": {
            "text/plain": [
              "                 MCC        Q2  Precision    Recall      FPR        F1\n",
              "Von Heijne  0.581546  0.970091   0.478395  0.741627  0.02332  0.581614"
            ],
            "text/html": [
              "\n",
              "  <div id=\"df-1b712f5b-fec4-419d-a130-2d71d780db1b\">\n",
              "    <div class=\"colab-df-container\">\n",
              "      <div>\n",
              "<style scoped>\n",
              "    .dataframe tbody tr th:only-of-type {\n",
              "        vertical-align: middle;\n",
              "    }\n",
              "\n",
              "    .dataframe tbody tr th {\n",
              "        vertical-align: top;\n",
              "    }\n",
              "\n",
              "    .dataframe thead th {\n",
              "        text-align: right;\n",
              "    }\n",
              "</style>\n",
              "<table border=\"1\" class=\"dataframe\">\n",
              "  <thead>\n",
              "    <tr style=\"text-align: right;\">\n",
              "      <th></th>\n",
              "      <th>MCC</th>\n",
              "      <th>Q2</th>\n",
              "      <th>Precision</th>\n",
              "      <th>Recall</th>\n",
              "      <th>FPR</th>\n",
              "      <th>F1</th>\n",
              "    </tr>\n",
              "  </thead>\n",
              "  <tbody>\n",
              "    <tr>\n",
              "      <th>Von Heijne</th>\n",
              "      <td>0.581546</td>\n",
              "      <td>0.970091</td>\n",
              "      <td>0.478395</td>\n",
              "      <td>0.741627</td>\n",
              "      <td>0.02332</td>\n",
              "      <td>0.581614</td>\n",
              "    </tr>\n",
              "  </tbody>\n",
              "</table>\n",
              "</div>\n",
              "      <button class=\"colab-df-convert\" onclick=\"convertToInteractive('df-1b712f5b-fec4-419d-a130-2d71d780db1b')\"\n",
              "              title=\"Convert this dataframe to an interactive table.\"\n",
              "              style=\"display:none;\">\n",
              "        \n",
              "  <svg xmlns=\"http://www.w3.org/2000/svg\" height=\"24px\"viewBox=\"0 0 24 24\"\n",
              "       width=\"24px\">\n",
              "    <path d=\"M0 0h24v24H0V0z\" fill=\"none\"/>\n",
              "    <path d=\"M18.56 5.44l.94 2.06.94-2.06 2.06-.94-2.06-.94-.94-2.06-.94 2.06-2.06.94zm-11 1L8.5 8.5l.94-2.06 2.06-.94-2.06-.94L8.5 2.5l-.94 2.06-2.06.94zm10 10l.94 2.06.94-2.06 2.06-.94-2.06-.94-.94-2.06-.94 2.06-2.06.94z\"/><path d=\"M17.41 7.96l-1.37-1.37c-.4-.4-.92-.59-1.43-.59-.52 0-1.04.2-1.43.59L10.3 9.45l-7.72 7.72c-.78.78-.78 2.05 0 2.83L4 21.41c.39.39.9.59 1.41.59.51 0 1.02-.2 1.41-.59l7.78-7.78 2.81-2.81c.8-.78.8-2.07 0-2.86zM5.41 20L4 18.59l7.72-7.72 1.47 1.35L5.41 20z\"/>\n",
              "  </svg>\n",
              "      </button>\n",
              "      \n",
              "  <style>\n",
              "    .colab-df-container {\n",
              "      display:flex;\n",
              "      flex-wrap:wrap;\n",
              "      gap: 12px;\n",
              "    }\n",
              "\n",
              "    .colab-df-convert {\n",
              "      background-color: #E8F0FE;\n",
              "      border: none;\n",
              "      border-radius: 50%;\n",
              "      cursor: pointer;\n",
              "      display: none;\n",
              "      fill: #1967D2;\n",
              "      height: 32px;\n",
              "      padding: 0 0 0 0;\n",
              "      width: 32px;\n",
              "    }\n",
              "\n",
              "    .colab-df-convert:hover {\n",
              "      background-color: #E2EBFA;\n",
              "      box-shadow: 0px 1px 2px rgba(60, 64, 67, 0.3), 0px 1px 3px 1px rgba(60, 64, 67, 0.15);\n",
              "      fill: #174EA6;\n",
              "    }\n",
              "\n",
              "    [theme=dark] .colab-df-convert {\n",
              "      background-color: #3B4455;\n",
              "      fill: #D2E3FC;\n",
              "    }\n",
              "\n",
              "    [theme=dark] .colab-df-convert:hover {\n",
              "      background-color: #434B5C;\n",
              "      box-shadow: 0px 1px 3px 1px rgba(0, 0, 0, 0.15);\n",
              "      filter: drop-shadow(0px 1px 2px rgba(0, 0, 0, 0.3));\n",
              "      fill: #FFFFFF;\n",
              "    }\n",
              "  </style>\n",
              "\n",
              "      <script>\n",
              "        const buttonEl =\n",
              "          document.querySelector('#df-1b712f5b-fec4-419d-a130-2d71d780db1b button.colab-df-convert');\n",
              "        buttonEl.style.display =\n",
              "          google.colab.kernel.accessAllowed ? 'block' : 'none';\n",
              "\n",
              "        async function convertToInteractive(key) {\n",
              "          const element = document.querySelector('#df-1b712f5b-fec4-419d-a130-2d71d780db1b');\n",
              "          const dataTable =\n",
              "            await google.colab.kernel.invokeFunction('convertToInteractive',\n",
              "                                                     [key], {});\n",
              "          if (!dataTable) return;\n",
              "\n",
              "          const docLinkHtml = 'Like what you see? Visit the ' +\n",
              "            '<a target=\"_blank\" href=https://colab.research.google.com/notebooks/data_table.ipynb>data table notebook</a>'\n",
              "            + ' to learn more about interactive tables.';\n",
              "          element.innerHTML = '';\n",
              "          dataTable['output_type'] = 'display_data';\n",
              "          await google.colab.output.renderOutput(dataTable, element);\n",
              "          const docLink = document.createElement('div');\n",
              "          docLink.innerHTML = docLinkHtml;\n",
              "          element.appendChild(docLink);\n",
              "        }\n",
              "      </script>\n",
              "    </div>\n",
              "  </div>\n",
              "  "
            ]
          },
          "metadata": {},
          "execution_count": 151
        }
      ]
    },
    {
      "cell_type": "markdown",
      "source": [
        "## False results"
      ],
      "metadata": {
        "id": "1w3scEZ6GX6k"
      }
    },
    {
      "cell_type": "code",
      "source": [
        "bm_df.head()"
      ],
      "metadata": {
        "colab": {
          "base_uri": "https://localhost:8080/",
          "height": 513
        },
        "id": "3yZIuV_nGrK6",
        "outputId": "3998ac37-bbe6-415f-8621-9e8cbbb29e36"
      },
      "execution_count": null,
      "outputs": [
        {
          "output_type": "execute_result",
          "data": {
            "text/plain": [
              "  UniProtKB accession                                    Taxa  Kingdom  Class  \\\n",
              "0              Q8TF40                    Homo sapiens (Human)  Metazoa  NO_SP   \n",
              "1              Q1ENB6  Arabidopsis thaliana (Mouse-ear cress)   Plants  NO_SP   \n",
              "2              Q9BZS1                    Homo sapiens (Human)  Metazoa  NO_SP   \n",
              "3              F4K2A1  Arabidopsis thaliana (Mouse-ear cress)   Plants  NO_SP   \n",
              "4              Q9SZL8  Arabidopsis thaliana (Mouse-ear cress)   Plants  NO_SP   \n",
              "\n",
              "             Sequence (first 50 N-terminal residues)  \\\n",
              "0  MAPTLFQKLFSKRTGLGAPGRDARDPDCGFSWPLPEFDPSQIRLIV...   \n",
              "1  MDFTSLETTTFEEVVIALGSNVGNRMNNFKEALRLMKDYGISVTRH...   \n",
              "2  MPNPRPGKPSAPSLALGPSPGASPSWRAAPKASDLLGARGPGGTFQ...   \n",
              "3  MFAVSIVPRTTSCRLSSAFLCQLSIPLTLRLHHHYQHHQPHLPSPL...   \n",
              "4  MMDNEVLDFDIGVGVSSGGDVDDDAIDIEHHALDDDDMLDSPIMPC...   \n",
              "\n",
              "                         SP cleavage-site annotation   Signal Peptide  \\\n",
              "0  NNNNNNNNNNNNNNNNNNNNNNNNNNNNNNNNNNNNNNNNNNNNNN...  MAPTLFQKLFSKRTG   \n",
              "1  NNNNNNNNNNNNNNNNNNNNNNNNNNNNNNNNNNNNNNNNNNNNNN...  MDFTSLETTTFEEVV   \n",
              "2  NNNNNNNNNNNNNNNNNNNNNNNNNNNNNNNNNNNNNNNNNNNNNN...  MPNPRPGKPSAPSLA   \n",
              "3  NNNNNNNNNNNNNNNNNNNNNNNNNNNNNNNNNNNNNNNNNNNNNN...  MFAVSIVPRTTSCRL   \n",
              "4  NNNNNNNNNNNNNNNNNNNNNNNNNNNNNNNNNNNNNNNNNNNNNN...  MMDNEVLDFDIGVGV   \n",
              "\n",
              "   Real Class  Predicted Class  \n",
              "0         0.0                0  \n",
              "1         0.0                0  \n",
              "2         0.0                0  \n",
              "3         0.0                0  \n",
              "4         0.0                0  "
            ],
            "text/html": [
              "\n",
              "  <div id=\"df-edb728c3-5d83-4e66-9a5b-88fa1aa2086e\">\n",
              "    <div class=\"colab-df-container\">\n",
              "      <div>\n",
              "<style scoped>\n",
              "    .dataframe tbody tr th:only-of-type {\n",
              "        vertical-align: middle;\n",
              "    }\n",
              "\n",
              "    .dataframe tbody tr th {\n",
              "        vertical-align: top;\n",
              "    }\n",
              "\n",
              "    .dataframe thead th {\n",
              "        text-align: right;\n",
              "    }\n",
              "</style>\n",
              "<table border=\"1\" class=\"dataframe\">\n",
              "  <thead>\n",
              "    <tr style=\"text-align: right;\">\n",
              "      <th></th>\n",
              "      <th>UniProtKB accession</th>\n",
              "      <th>Taxa</th>\n",
              "      <th>Kingdom</th>\n",
              "      <th>Class</th>\n",
              "      <th>Sequence (first 50 N-terminal residues)</th>\n",
              "      <th>SP cleavage-site annotation</th>\n",
              "      <th>Signal Peptide</th>\n",
              "      <th>Real Class</th>\n",
              "      <th>Predicted Class</th>\n",
              "    </tr>\n",
              "  </thead>\n",
              "  <tbody>\n",
              "    <tr>\n",
              "      <th>0</th>\n",
              "      <td>Q8TF40</td>\n",
              "      <td>Homo sapiens (Human)</td>\n",
              "      <td>Metazoa</td>\n",
              "      <td>NO_SP</td>\n",
              "      <td>MAPTLFQKLFSKRTGLGAPGRDARDPDCGFSWPLPEFDPSQIRLIV...</td>\n",
              "      <td>NNNNNNNNNNNNNNNNNNNNNNNNNNNNNNNNNNNNNNNNNNNNNN...</td>\n",
              "      <td>MAPTLFQKLFSKRTG</td>\n",
              "      <td>0.0</td>\n",
              "      <td>0</td>\n",
              "    </tr>\n",
              "    <tr>\n",
              "      <th>1</th>\n",
              "      <td>Q1ENB6</td>\n",
              "      <td>Arabidopsis thaliana (Mouse-ear cress)</td>\n",
              "      <td>Plants</td>\n",
              "      <td>NO_SP</td>\n",
              "      <td>MDFTSLETTTFEEVVIALGSNVGNRMNNFKEALRLMKDYGISVTRH...</td>\n",
              "      <td>NNNNNNNNNNNNNNNNNNNNNNNNNNNNNNNNNNNNNNNNNNNNNN...</td>\n",
              "      <td>MDFTSLETTTFEEVV</td>\n",
              "      <td>0.0</td>\n",
              "      <td>0</td>\n",
              "    </tr>\n",
              "    <tr>\n",
              "      <th>2</th>\n",
              "      <td>Q9BZS1</td>\n",
              "      <td>Homo sapiens (Human)</td>\n",
              "      <td>Metazoa</td>\n",
              "      <td>NO_SP</td>\n",
              "      <td>MPNPRPGKPSAPSLALGPSPGASPSWRAAPKASDLLGARGPGGTFQ...</td>\n",
              "      <td>NNNNNNNNNNNNNNNNNNNNNNNNNNNNNNNNNNNNNNNNNNNNNN...</td>\n",
              "      <td>MPNPRPGKPSAPSLA</td>\n",
              "      <td>0.0</td>\n",
              "      <td>0</td>\n",
              "    </tr>\n",
              "    <tr>\n",
              "      <th>3</th>\n",
              "      <td>F4K2A1</td>\n",
              "      <td>Arabidopsis thaliana (Mouse-ear cress)</td>\n",
              "      <td>Plants</td>\n",
              "      <td>NO_SP</td>\n",
              "      <td>MFAVSIVPRTTSCRLSSAFLCQLSIPLTLRLHHHYQHHQPHLPSPL...</td>\n",
              "      <td>NNNNNNNNNNNNNNNNNNNNNNNNNNNNNNNNNNNNNNNNNNNNNN...</td>\n",
              "      <td>MFAVSIVPRTTSCRL</td>\n",
              "      <td>0.0</td>\n",
              "      <td>0</td>\n",
              "    </tr>\n",
              "    <tr>\n",
              "      <th>4</th>\n",
              "      <td>Q9SZL8</td>\n",
              "      <td>Arabidopsis thaliana (Mouse-ear cress)</td>\n",
              "      <td>Plants</td>\n",
              "      <td>NO_SP</td>\n",
              "      <td>MMDNEVLDFDIGVGVSSGGDVDDDAIDIEHHALDDDDMLDSPIMPC...</td>\n",
              "      <td>NNNNNNNNNNNNNNNNNNNNNNNNNNNNNNNNNNNNNNNNNNNNNN...</td>\n",
              "      <td>MMDNEVLDFDIGVGV</td>\n",
              "      <td>0.0</td>\n",
              "      <td>0</td>\n",
              "    </tr>\n",
              "  </tbody>\n",
              "</table>\n",
              "</div>\n",
              "      <button class=\"colab-df-convert\" onclick=\"convertToInteractive('df-edb728c3-5d83-4e66-9a5b-88fa1aa2086e')\"\n",
              "              title=\"Convert this dataframe to an interactive table.\"\n",
              "              style=\"display:none;\">\n",
              "        \n",
              "  <svg xmlns=\"http://www.w3.org/2000/svg\" height=\"24px\"viewBox=\"0 0 24 24\"\n",
              "       width=\"24px\">\n",
              "    <path d=\"M0 0h24v24H0V0z\" fill=\"none\"/>\n",
              "    <path d=\"M18.56 5.44l.94 2.06.94-2.06 2.06-.94-2.06-.94-.94-2.06-.94 2.06-2.06.94zm-11 1L8.5 8.5l.94-2.06 2.06-.94-2.06-.94L8.5 2.5l-.94 2.06-2.06.94zm10 10l.94 2.06.94-2.06 2.06-.94-2.06-.94-.94-2.06-.94 2.06-2.06.94z\"/><path d=\"M17.41 7.96l-1.37-1.37c-.4-.4-.92-.59-1.43-.59-.52 0-1.04.2-1.43.59L10.3 9.45l-7.72 7.72c-.78.78-.78 2.05 0 2.83L4 21.41c.39.39.9.59 1.41.59.51 0 1.02-.2 1.41-.59l7.78-7.78 2.81-2.81c.8-.78.8-2.07 0-2.86zM5.41 20L4 18.59l7.72-7.72 1.47 1.35L5.41 20z\"/>\n",
              "  </svg>\n",
              "      </button>\n",
              "      \n",
              "  <style>\n",
              "    .colab-df-container {\n",
              "      display:flex;\n",
              "      flex-wrap:wrap;\n",
              "      gap: 12px;\n",
              "    }\n",
              "\n",
              "    .colab-df-convert {\n",
              "      background-color: #E8F0FE;\n",
              "      border: none;\n",
              "      border-radius: 50%;\n",
              "      cursor: pointer;\n",
              "      display: none;\n",
              "      fill: #1967D2;\n",
              "      height: 32px;\n",
              "      padding: 0 0 0 0;\n",
              "      width: 32px;\n",
              "    }\n",
              "\n",
              "    .colab-df-convert:hover {\n",
              "      background-color: #E2EBFA;\n",
              "      box-shadow: 0px 1px 2px rgba(60, 64, 67, 0.3), 0px 1px 3px 1px rgba(60, 64, 67, 0.15);\n",
              "      fill: #174EA6;\n",
              "    }\n",
              "\n",
              "    [theme=dark] .colab-df-convert {\n",
              "      background-color: #3B4455;\n",
              "      fill: #D2E3FC;\n",
              "    }\n",
              "\n",
              "    [theme=dark] .colab-df-convert:hover {\n",
              "      background-color: #434B5C;\n",
              "      box-shadow: 0px 1px 3px 1px rgba(0, 0, 0, 0.15);\n",
              "      filter: drop-shadow(0px 1px 2px rgba(0, 0, 0, 0.3));\n",
              "      fill: #FFFFFF;\n",
              "    }\n",
              "  </style>\n",
              "\n",
              "      <script>\n",
              "        const buttonEl =\n",
              "          document.querySelector('#df-edb728c3-5d83-4e66-9a5b-88fa1aa2086e button.colab-df-convert');\n",
              "        buttonEl.style.display =\n",
              "          google.colab.kernel.accessAllowed ? 'block' : 'none';\n",
              "\n",
              "        async function convertToInteractive(key) {\n",
              "          const element = document.querySelector('#df-edb728c3-5d83-4e66-9a5b-88fa1aa2086e');\n",
              "          const dataTable =\n",
              "            await google.colab.kernel.invokeFunction('convertToInteractive',\n",
              "                                                     [key], {});\n",
              "          if (!dataTable) return;\n",
              "\n",
              "          const docLinkHtml = 'Like what you see? Visit the ' +\n",
              "            '<a target=\"_blank\" href=https://colab.research.google.com/notebooks/data_table.ipynb>data table notebook</a>'\n",
              "            + ' to learn more about interactive tables.';\n",
              "          element.innerHTML = '';\n",
              "          dataTable['output_type'] = 'display_data';\n",
              "          await google.colab.output.renderOutput(dataTable, element);\n",
              "          const docLink = document.createElement('div');\n",
              "          docLink.innerHTML = docLinkHtml;\n",
              "          element.appendChild(docLink);\n",
              "        }\n",
              "      </script>\n",
              "    </div>\n",
              "  </div>\n",
              "  "
            ]
          },
          "metadata": {},
          "execution_count": 91
        }
      ]
    },
    {
      "cell_type": "code",
      "source": [
        "# Extract false results\n",
        "\n",
        "results = []\n",
        "\n",
        "for i in range(len(y_pred)):\n",
        "  if bm_df['Real Class'][i] == 1.0 and bm_df['Predicted Class'][i] == 0:\n",
        "    results.append('FN')\n",
        "  elif bm_df['Real Class'][i] == 0.0 and bm_df['Predicted Class'][i] == 1:\n",
        "    results.append('FP')\n",
        "  else:\n",
        "    results.append('True')\n",
        "\n",
        "bm_df['Results'] = results"
      ],
      "metadata": {
        "id": "ZOwBV5ulGX6n"
      },
      "execution_count": null,
      "outputs": []
    },
    {
      "cell_type": "markdown",
      "source": [
        "### False positives"
      ],
      "metadata": {
        "id": "QmdVv085GX6r"
      }
    },
    {
      "cell_type": "code",
      "source": [
        "# Extract accession codes\n",
        "vh_fpos_df = bm_df[bm_df['Results'] == 'FP'][['UniProtKB accession', 'Kingdom', 'Sequence (first 50 N-terminal residues)', 'SP cleavage-site annotation']]\n",
        "vh_fpos = vh_fpos_df['UniProtKB accession'].values"
      ],
      "metadata": {
        "id": "fs1zasgfGX6u"
      },
      "execution_count": null,
      "outputs": []
    },
    {
      "cell_type": "code",
      "source": [
        "len(vh_fpos)"
      ],
      "metadata": {
        "colab": {
          "base_uri": "https://localhost:8080/"
        },
        "outputId": "5da6a3a0-019b-497a-c9fe-c7798e1d8ad2",
        "id": "LuTZRiBIGX6y"
      },
      "execution_count": null,
      "outputs": [
        {
          "output_type": "execute_result",
          "data": {
            "text/plain": [
              "169"
            ]
          },
          "metadata": {},
          "execution_count": 157
        }
      ]
    },
    {
      "cell_type": "markdown",
      "source": [
        "### False negatives"
      ],
      "metadata": {
        "id": "Lu7qmzfsGX61"
      }
    },
    {
      "cell_type": "code",
      "source": [
        "# Extract false negatives\n",
        "vh_fneg_df = bm_df[bm_df['Results'] == 'FN'][['UniProtKB accession', 'Kingdom', 'Sequence (first 50 N-terminal residues)', 'SP cleavage-site annotation']]"
      ],
      "metadata": {
        "id": "9n07EtCFGX64"
      },
      "execution_count": null,
      "outputs": []
    },
    {
      "cell_type": "code",
      "source": [
        "len(vh_fneg_df)"
      ],
      "metadata": {
        "colab": {
          "base_uri": "https://localhost:8080/"
        },
        "outputId": "5bac342f-975d-4dbd-e5d6-4bbe089207f8",
        "id": "Aii2-aiTGX67"
      },
      "execution_count": null,
      "outputs": [
        {
          "output_type": "execute_result",
          "data": {
            "text/plain": [
              "54"
            ]
          },
          "metadata": {},
          "execution_count": 96
        }
      ]
    },
    {
      "cell_type": "markdown",
      "source": [
        "# Methods performance summary and comparison"
      ],
      "metadata": {
        "id": "Afa2I71KTDXB"
      }
    },
    {
      "cell_type": "markdown",
      "source": [
        "## Cross-validation"
      ],
      "metadata": {
        "id": "vdAmTy3QhHuH"
      }
    },
    {
      "cell_type": "code",
      "source": [
        "# Merge summary from Von Heijne and from SVM\n",
        "cv_summary = pd.concat([cv_VH_summary, cv_SVM_summary], axis=0)\n",
        "cv_summary.transpose()"
      ],
      "metadata": {
        "id": "6g3aTMn1gJuk",
        "colab": {
          "base_uri": "https://localhost:8080/",
          "height": 206
        },
        "outputId": "dc94a480-dde9-4260-af93-c6f0749ed74f"
      },
      "execution_count": null,
      "outputs": [
        {
          "output_type": "execute_result",
          "data": {
            "text/plain": [
              "                  Von Heijne                SVM\n",
              "MCC        0.7839 +/- 0.0114  0.8578 +/- 0.0131\n",
              "Q2         0.9454 +/- 0.0039  0.9640 +/- 0.0035\n",
              "Precision  0.8432 +/- 0.0315  0.9065 +/- 0.0267\n",
              "Recall     0.7908 +/- 0.0163  0.8529 +/- 0.0136\n",
              "F1         0.8135 +/- 0.0086  0.8771 +/- 0.0105"
            ],
            "text/html": [
              "\n",
              "  <div id=\"df-65d2cd88-33f5-4b8f-859a-6b11e1ea91c5\">\n",
              "    <div class=\"colab-df-container\">\n",
              "      <div>\n",
              "<style scoped>\n",
              "    .dataframe tbody tr th:only-of-type {\n",
              "        vertical-align: middle;\n",
              "    }\n",
              "\n",
              "    .dataframe tbody tr th {\n",
              "        vertical-align: top;\n",
              "    }\n",
              "\n",
              "    .dataframe thead th {\n",
              "        text-align: right;\n",
              "    }\n",
              "</style>\n",
              "<table border=\"1\" class=\"dataframe\">\n",
              "  <thead>\n",
              "    <tr style=\"text-align: right;\">\n",
              "      <th></th>\n",
              "      <th>Von Heijne</th>\n",
              "      <th>SVM</th>\n",
              "    </tr>\n",
              "  </thead>\n",
              "  <tbody>\n",
              "    <tr>\n",
              "      <th>MCC</th>\n",
              "      <td>0.7839 +/- 0.0114</td>\n",
              "      <td>0.8578 +/- 0.0131</td>\n",
              "    </tr>\n",
              "    <tr>\n",
              "      <th>Q2</th>\n",
              "      <td>0.9454 +/- 0.0039</td>\n",
              "      <td>0.9640 +/- 0.0035</td>\n",
              "    </tr>\n",
              "    <tr>\n",
              "      <th>Precision</th>\n",
              "      <td>0.8432 +/- 0.0315</td>\n",
              "      <td>0.9065 +/- 0.0267</td>\n",
              "    </tr>\n",
              "    <tr>\n",
              "      <th>Recall</th>\n",
              "      <td>0.7908 +/- 0.0163</td>\n",
              "      <td>0.8529 +/- 0.0136</td>\n",
              "    </tr>\n",
              "    <tr>\n",
              "      <th>F1</th>\n",
              "      <td>0.8135 +/- 0.0086</td>\n",
              "      <td>0.8771 +/- 0.0105</td>\n",
              "    </tr>\n",
              "  </tbody>\n",
              "</table>\n",
              "</div>\n",
              "      <button class=\"colab-df-convert\" onclick=\"convertToInteractive('df-65d2cd88-33f5-4b8f-859a-6b11e1ea91c5')\"\n",
              "              title=\"Convert this dataframe to an interactive table.\"\n",
              "              style=\"display:none;\">\n",
              "        \n",
              "  <svg xmlns=\"http://www.w3.org/2000/svg\" height=\"24px\"viewBox=\"0 0 24 24\"\n",
              "       width=\"24px\">\n",
              "    <path d=\"M0 0h24v24H0V0z\" fill=\"none\"/>\n",
              "    <path d=\"M18.56 5.44l.94 2.06.94-2.06 2.06-.94-2.06-.94-.94-2.06-.94 2.06-2.06.94zm-11 1L8.5 8.5l.94-2.06 2.06-.94-2.06-.94L8.5 2.5l-.94 2.06-2.06.94zm10 10l.94 2.06.94-2.06 2.06-.94-2.06-.94-.94-2.06-.94 2.06-2.06.94z\"/><path d=\"M17.41 7.96l-1.37-1.37c-.4-.4-.92-.59-1.43-.59-.52 0-1.04.2-1.43.59L10.3 9.45l-7.72 7.72c-.78.78-.78 2.05 0 2.83L4 21.41c.39.39.9.59 1.41.59.51 0 1.02-.2 1.41-.59l7.78-7.78 2.81-2.81c.8-.78.8-2.07 0-2.86zM5.41 20L4 18.59l7.72-7.72 1.47 1.35L5.41 20z\"/>\n",
              "  </svg>\n",
              "      </button>\n",
              "      \n",
              "  <style>\n",
              "    .colab-df-container {\n",
              "      display:flex;\n",
              "      flex-wrap:wrap;\n",
              "      gap: 12px;\n",
              "    }\n",
              "\n",
              "    .colab-df-convert {\n",
              "      background-color: #E8F0FE;\n",
              "      border: none;\n",
              "      border-radius: 50%;\n",
              "      cursor: pointer;\n",
              "      display: none;\n",
              "      fill: #1967D2;\n",
              "      height: 32px;\n",
              "      padding: 0 0 0 0;\n",
              "      width: 32px;\n",
              "    }\n",
              "\n",
              "    .colab-df-convert:hover {\n",
              "      background-color: #E2EBFA;\n",
              "      box-shadow: 0px 1px 2px rgba(60, 64, 67, 0.3), 0px 1px 3px 1px rgba(60, 64, 67, 0.15);\n",
              "      fill: #174EA6;\n",
              "    }\n",
              "\n",
              "    [theme=dark] .colab-df-convert {\n",
              "      background-color: #3B4455;\n",
              "      fill: #D2E3FC;\n",
              "    }\n",
              "\n",
              "    [theme=dark] .colab-df-convert:hover {\n",
              "      background-color: #434B5C;\n",
              "      box-shadow: 0px 1px 3px 1px rgba(0, 0, 0, 0.15);\n",
              "      filter: drop-shadow(0px 1px 2px rgba(0, 0, 0, 0.3));\n",
              "      fill: #FFFFFF;\n",
              "    }\n",
              "  </style>\n",
              "\n",
              "      <script>\n",
              "        const buttonEl =\n",
              "          document.querySelector('#df-65d2cd88-33f5-4b8f-859a-6b11e1ea91c5 button.colab-df-convert');\n",
              "        buttonEl.style.display =\n",
              "          google.colab.kernel.accessAllowed ? 'block' : 'none';\n",
              "\n",
              "        async function convertToInteractive(key) {\n",
              "          const element = document.querySelector('#df-65d2cd88-33f5-4b8f-859a-6b11e1ea91c5');\n",
              "          const dataTable =\n",
              "            await google.colab.kernel.invokeFunction('convertToInteractive',\n",
              "                                                     [key], {});\n",
              "          if (!dataTable) return;\n",
              "\n",
              "          const docLinkHtml = 'Like what you see? Visit the ' +\n",
              "            '<a target=\"_blank\" href=https://colab.research.google.com/notebooks/data_table.ipynb>data table notebook</a>'\n",
              "            + ' to learn more about interactive tables.';\n",
              "          element.innerHTML = '';\n",
              "          dataTable['output_type'] = 'display_data';\n",
              "          await google.colab.output.renderOutput(dataTable, element);\n",
              "          const docLink = document.createElement('div');\n",
              "          docLink.innerHTML = docLinkHtml;\n",
              "          element.appendChild(docLink);\n",
              "        }\n",
              "      </script>\n",
              "    </div>\n",
              "  </div>\n",
              "  "
            ]
          },
          "metadata": {},
          "execution_count": 165
        }
      ]
    },
    {
      "cell_type": "code",
      "source": [
        "cv_summary_styled = cv_summary\n",
        "\n",
        "cv_summary_styled = cv_summary_styled.style.set_caption('Cross-validation Performance Metrics')\n",
        "cv_summary_styled = cv_summary_styled.style.set_table_styles([dict(selector='th', props=[('text-align', 'left')])])\n",
        "cv_summary_styled = cv_summary_styled.background_gradient() #adding a gradient based on values in cell\n",
        "cv_summary_styled"
      ],
      "metadata": {
        "id": "ZBN3xhLseQat",
        "colab": {
          "base_uri": "https://localhost:8080/",
          "height": 112
        },
        "outputId": "a58553f8-5e49-4d10-8584-f76621a70eaf"
      },
      "execution_count": null,
      "outputs": [
        {
          "output_type": "execute_result",
          "data": {
            "text/plain": [
              "<pandas.io.formats.style.Styler at 0x7f3ff41884c0>"
            ],
            "text/html": [
              "<style type=\"text/css\">\n",
              "#T_b8ad1_ th {\n",
              "  text-align: left;\n",
              "}\n",
              "</style>\n",
              "<table id=\"T_b8ad1_\" class=\"dataframe\">\n",
              "  <thead>\n",
              "    <tr>\n",
              "      <th class=\"blank level0\" >&nbsp;</th>\n",
              "      <th class=\"col_heading level0 col0\" >MCC</th>\n",
              "      <th class=\"col_heading level0 col1\" >Q2</th>\n",
              "      <th class=\"col_heading level0 col2\" >Precision</th>\n",
              "      <th class=\"col_heading level0 col3\" >Recall</th>\n",
              "      <th class=\"col_heading level0 col4\" >F1</th>\n",
              "    </tr>\n",
              "  </thead>\n",
              "  <tbody>\n",
              "    <tr>\n",
              "      <th id=\"T_b8ad1_level0_row0\" class=\"row_heading level0 row0\" >Von Heijne</th>\n",
              "      <td id=\"T_b8ad1_row0_col0\" class=\"data row0 col0\" >0.7839 +/- 0.0114</td>\n",
              "      <td id=\"T_b8ad1_row0_col1\" class=\"data row0 col1\" >0.9454 +/- 0.0039</td>\n",
              "      <td id=\"T_b8ad1_row0_col2\" class=\"data row0 col2\" >0.8432 +/- 0.0315</td>\n",
              "      <td id=\"T_b8ad1_row0_col3\" class=\"data row0 col3\" >0.7908 +/- 0.0163</td>\n",
              "      <td id=\"T_b8ad1_row0_col4\" class=\"data row0 col4\" >0.8135 +/- 0.0086</td>\n",
              "    </tr>\n",
              "    <tr>\n",
              "      <th id=\"T_b8ad1_level0_row1\" class=\"row_heading level0 row1\" >SVM</th>\n",
              "      <td id=\"T_b8ad1_row1_col0\" class=\"data row1 col0\" >0.8578 +/- 0.0131</td>\n",
              "      <td id=\"T_b8ad1_row1_col1\" class=\"data row1 col1\" >0.9640 +/- 0.0035</td>\n",
              "      <td id=\"T_b8ad1_row1_col2\" class=\"data row1 col2\" >0.9065 +/- 0.0267</td>\n",
              "      <td id=\"T_b8ad1_row1_col3\" class=\"data row1 col3\" >0.8529 +/- 0.0136</td>\n",
              "      <td id=\"T_b8ad1_row1_col4\" class=\"data row1 col4\" >0.8771 +/- 0.0105</td>\n",
              "    </tr>\n",
              "  </tbody>\n",
              "</table>\n"
            ]
          },
          "metadata": {},
          "execution_count": 166
        }
      ]
    },
    {
      "cell_type": "code",
      "source": [
        "# Save cv_summary as image\n",
        "dfi.export(cv_summary.transpose(),\"cv_summary.png\")"
      ],
      "metadata": {
        "id": "EAStadVpNazg"
      },
      "execution_count": null,
      "outputs": []
    },
    {
      "cell_type": "markdown",
      "source": [
        "## Benchmarking"
      ],
      "metadata": {
        "id": "w-4ItRzPhJsO"
      }
    },
    {
      "cell_type": "code",
      "source": [
        "# Merge summary from Von Heijne and from SVM\n",
        "bm_summary = pd.concat([bm_VH_summary, bm_SVM_summary], axis=0)\n",
        "bm_summary.transpose()"
      ],
      "metadata": {
        "id": "dzYlqLnEhzTz",
        "colab": {
          "base_uri": "https://localhost:8080/",
          "height": 112
        },
        "outputId": "561f619d-bf6f-4487-c4ce-42aae0afc288"
      },
      "execution_count": null,
      "outputs": [
        {
          "output_type": "execute_result",
          "data": {
            "text/plain": [
              "                 MCC        Q2  Precision    Recall       FPR        F1\n",
              "Von Heijne  0.581546  0.970091   0.478395  0.741627  0.023320  0.581614\n",
              "SVM         0.612169  0.982162   0.811475  0.473684  0.003174  0.598187"
            ],
            "text/html": [
              "\n",
              "  <div id=\"df-ed5464d9-1f56-4ed3-9ac1-d3f62dac0635\">\n",
              "    <div class=\"colab-df-container\">\n",
              "      <div>\n",
              "<style scoped>\n",
              "    .dataframe tbody tr th:only-of-type {\n",
              "        vertical-align: middle;\n",
              "    }\n",
              "\n",
              "    .dataframe tbody tr th {\n",
              "        vertical-align: top;\n",
              "    }\n",
              "\n",
              "    .dataframe thead th {\n",
              "        text-align: right;\n",
              "    }\n",
              "</style>\n",
              "<table border=\"1\" class=\"dataframe\">\n",
              "  <thead>\n",
              "    <tr style=\"text-align: right;\">\n",
              "      <th></th>\n",
              "      <th>MCC</th>\n",
              "      <th>Q2</th>\n",
              "      <th>Precision</th>\n",
              "      <th>Recall</th>\n",
              "      <th>FPR</th>\n",
              "      <th>F1</th>\n",
              "    </tr>\n",
              "  </thead>\n",
              "  <tbody>\n",
              "    <tr>\n",
              "      <th>Von Heijne</th>\n",
              "      <td>0.581546</td>\n",
              "      <td>0.970091</td>\n",
              "      <td>0.478395</td>\n",
              "      <td>0.741627</td>\n",
              "      <td>0.023320</td>\n",
              "      <td>0.581614</td>\n",
              "    </tr>\n",
              "    <tr>\n",
              "      <th>SVM</th>\n",
              "      <td>0.612169</td>\n",
              "      <td>0.982162</td>\n",
              "      <td>0.811475</td>\n",
              "      <td>0.473684</td>\n",
              "      <td>0.003174</td>\n",
              "      <td>0.598187</td>\n",
              "    </tr>\n",
              "  </tbody>\n",
              "</table>\n",
              "</div>\n",
              "      <button class=\"colab-df-convert\" onclick=\"convertToInteractive('df-ed5464d9-1f56-4ed3-9ac1-d3f62dac0635')\"\n",
              "              title=\"Convert this dataframe to an interactive table.\"\n",
              "              style=\"display:none;\">\n",
              "        \n",
              "  <svg xmlns=\"http://www.w3.org/2000/svg\" height=\"24px\"viewBox=\"0 0 24 24\"\n",
              "       width=\"24px\">\n",
              "    <path d=\"M0 0h24v24H0V0z\" fill=\"none\"/>\n",
              "    <path d=\"M18.56 5.44l.94 2.06.94-2.06 2.06-.94-2.06-.94-.94-2.06-.94 2.06-2.06.94zm-11 1L8.5 8.5l.94-2.06 2.06-.94-2.06-.94L8.5 2.5l-.94 2.06-2.06.94zm10 10l.94 2.06.94-2.06 2.06-.94-2.06-.94-.94-2.06-.94 2.06-2.06.94z\"/><path d=\"M17.41 7.96l-1.37-1.37c-.4-.4-.92-.59-1.43-.59-.52 0-1.04.2-1.43.59L10.3 9.45l-7.72 7.72c-.78.78-.78 2.05 0 2.83L4 21.41c.39.39.9.59 1.41.59.51 0 1.02-.2 1.41-.59l7.78-7.78 2.81-2.81c.8-.78.8-2.07 0-2.86zM5.41 20L4 18.59l7.72-7.72 1.47 1.35L5.41 20z\"/>\n",
              "  </svg>\n",
              "      </button>\n",
              "      \n",
              "  <style>\n",
              "    .colab-df-container {\n",
              "      display:flex;\n",
              "      flex-wrap:wrap;\n",
              "      gap: 12px;\n",
              "    }\n",
              "\n",
              "    .colab-df-convert {\n",
              "      background-color: #E8F0FE;\n",
              "      border: none;\n",
              "      border-radius: 50%;\n",
              "      cursor: pointer;\n",
              "      display: none;\n",
              "      fill: #1967D2;\n",
              "      height: 32px;\n",
              "      padding: 0 0 0 0;\n",
              "      width: 32px;\n",
              "    }\n",
              "\n",
              "    .colab-df-convert:hover {\n",
              "      background-color: #E2EBFA;\n",
              "      box-shadow: 0px 1px 2px rgba(60, 64, 67, 0.3), 0px 1px 3px 1px rgba(60, 64, 67, 0.15);\n",
              "      fill: #174EA6;\n",
              "    }\n",
              "\n",
              "    [theme=dark] .colab-df-convert {\n",
              "      background-color: #3B4455;\n",
              "      fill: #D2E3FC;\n",
              "    }\n",
              "\n",
              "    [theme=dark] .colab-df-convert:hover {\n",
              "      background-color: #434B5C;\n",
              "      box-shadow: 0px 1px 3px 1px rgba(0, 0, 0, 0.15);\n",
              "      filter: drop-shadow(0px 1px 2px rgba(0, 0, 0, 0.3));\n",
              "      fill: #FFFFFF;\n",
              "    }\n",
              "  </style>\n",
              "\n",
              "      <script>\n",
              "        const buttonEl =\n",
              "          document.querySelector('#df-ed5464d9-1f56-4ed3-9ac1-d3f62dac0635 button.colab-df-convert');\n",
              "        buttonEl.style.display =\n",
              "          google.colab.kernel.accessAllowed ? 'block' : 'none';\n",
              "\n",
              "        async function convertToInteractive(key) {\n",
              "          const element = document.querySelector('#df-ed5464d9-1f56-4ed3-9ac1-d3f62dac0635');\n",
              "          const dataTable =\n",
              "            await google.colab.kernel.invokeFunction('convertToInteractive',\n",
              "                                                     [key], {});\n",
              "          if (!dataTable) return;\n",
              "\n",
              "          const docLinkHtml = 'Like what you see? Visit the ' +\n",
              "            '<a target=\"_blank\" href=https://colab.research.google.com/notebooks/data_table.ipynb>data table notebook</a>'\n",
              "            + ' to learn more about interactive tables.';\n",
              "          element.innerHTML = '';\n",
              "          dataTable['output_type'] = 'display_data';\n",
              "          await google.colab.output.renderOutput(dataTable, element);\n",
              "          const docLink = document.createElement('div');\n",
              "          docLink.innerHTML = docLinkHtml;\n",
              "          element.appendChild(docLink);\n",
              "        }\n",
              "      </script>\n",
              "    </div>\n",
              "  </div>\n",
              "  "
            ]
          },
          "metadata": {},
          "execution_count": 100
        }
      ]
    },
    {
      "cell_type": "code",
      "source": [
        "bm_summary_styled = bm_summary\n",
        "\n",
        "bm_summary_styled = bm_summary_styled.style.set_caption('Benchmarking Performance Metrics')\n",
        "bm_summary_styled = bm_summary_styled.style.set_table_styles([dict(selector='th', props=[('text-align', 'left')])])\n",
        "\n",
        "bm_summary_styled"
      ],
      "metadata": {
        "id": "o5CeRJilhMXy",
        "colab": {
          "base_uri": "https://localhost:8080/",
          "height": 112
        },
        "outputId": "cdf19f27-927f-4282-9e7d-2911f0c25400"
      },
      "execution_count": null,
      "outputs": [
        {
          "output_type": "execute_result",
          "data": {
            "text/plain": [
              "<pandas.io.formats.style.Styler at 0x7f3ff49abc40>"
            ],
            "text/html": [
              "<style type=\"text/css\">\n",
              "#T_7bfa7_ th {\n",
              "  text-align: left;\n",
              "}\n",
              "</style>\n",
              "<table id=\"T_7bfa7_\" class=\"dataframe\">\n",
              "  <thead>\n",
              "    <tr>\n",
              "      <th class=\"blank level0\" >&nbsp;</th>\n",
              "      <th class=\"col_heading level0 col0\" >MCC</th>\n",
              "      <th class=\"col_heading level0 col1\" >Q2</th>\n",
              "      <th class=\"col_heading level0 col2\" >Precision</th>\n",
              "      <th class=\"col_heading level0 col3\" >Recall</th>\n",
              "      <th class=\"col_heading level0 col4\" >FPR</th>\n",
              "      <th class=\"col_heading level0 col5\" >F1</th>\n",
              "    </tr>\n",
              "  </thead>\n",
              "  <tbody>\n",
              "    <tr>\n",
              "      <th id=\"T_7bfa7_level0_row0\" class=\"row_heading level0 row0\" >Von Heijne</th>\n",
              "      <td id=\"T_7bfa7_row0_col0\" class=\"data row0 col0\" >0.581546</td>\n",
              "      <td id=\"T_7bfa7_row0_col1\" class=\"data row0 col1\" >0.970091</td>\n",
              "      <td id=\"T_7bfa7_row0_col2\" class=\"data row0 col2\" >0.478395</td>\n",
              "      <td id=\"T_7bfa7_row0_col3\" class=\"data row0 col3\" >0.741627</td>\n",
              "      <td id=\"T_7bfa7_row0_col4\" class=\"data row0 col4\" >0.023320</td>\n",
              "      <td id=\"T_7bfa7_row0_col5\" class=\"data row0 col5\" >0.581614</td>\n",
              "    </tr>\n",
              "    <tr>\n",
              "      <th id=\"T_7bfa7_level0_row1\" class=\"row_heading level0 row1\" >SVM</th>\n",
              "      <td id=\"T_7bfa7_row1_col0\" class=\"data row1 col0\" >0.612169</td>\n",
              "      <td id=\"T_7bfa7_row1_col1\" class=\"data row1 col1\" >0.982162</td>\n",
              "      <td id=\"T_7bfa7_row1_col2\" class=\"data row1 col2\" >0.811475</td>\n",
              "      <td id=\"T_7bfa7_row1_col3\" class=\"data row1 col3\" >0.473684</td>\n",
              "      <td id=\"T_7bfa7_row1_col4\" class=\"data row1 col4\" >0.003174</td>\n",
              "      <td id=\"T_7bfa7_row1_col5\" class=\"data row1 col5\" >0.598187</td>\n",
              "    </tr>\n",
              "  </tbody>\n",
              "</table>\n"
            ]
          },
          "metadata": {},
          "execution_count": 121
        }
      ]
    },
    {
      "cell_type": "code",
      "source": [
        "# Save cv_summary as image\n",
        "dfi.export(bm_summary.transpose(),\"bm_summary.png\")"
      ],
      "metadata": {
        "id": "ILnTULb6OiTl"
      },
      "execution_count": null,
      "outputs": []
    },
    {
      "cell_type": "markdown",
      "source": [
        "# False results"
      ],
      "metadata": {
        "id": "hE7yQxnw_dYY"
      }
    },
    {
      "cell_type": "markdown",
      "source": [
        "## False positives"
      ],
      "metadata": {
        "id": "J-iV7eZeDrUv"
      }
    },
    {
      "cell_type": "markdown",
      "source": [
        "**Transmembrane proteins**\n",
        "\n",
        "The reason of false positives may be that SP has a transmembrane helix (high hydrophobicity) in the first 50-res.\n",
        "\n",
        "To check that:\n",
        "From Uniprot, retrieve and parse file of TM proteins having a TM in first 50-res (#TM).\n",
        "Compute FP(TM)/#TM and compare with background FPR.\n",
        "\n",
        "\n"
      ],
      "metadata": {
        "id": "WVLWUVLdgX8L"
      }
    },
    {
      "cell_type": "markdown",
      "source": [
        "**Transit peptides**\n",
        "\n",
        "Another possible reason of false prediction may be that some seqs are *transit peptides*, less strong hydrophobic core (alternated composition), but still predictable as signal peptides. As such we need to check TP for mitochondria, chloroplasts, peroxisomes.\n",
        "\n",
        "To check that: From Uniprot, retrieve and parse file of TP proteins having a TP in first 50-res (#TM). \n",
        "- Compute FP(TPtotal)/#TP \n",
        "- Compute FP(TPmito)/#TP \n",
        "- Compute FP(TPchloro)/#TP \n",
        "- Compute FP(TPperox)/#TP\n",
        "\n",
        "and compare with background FPR."
      ],
      "metadata": {
        "id": "o6EftO1agfBO"
      }
    },
    {
      "cell_type": "code",
      "source": [
        "bm = pd.read_table(\"benchmark_set.tsv\")\n",
        "\n",
        "negatives = bm[bm[\"Class\"] == \"NO_SP\"]\n",
        "negatives = negatives[\"UniProtKB accession\"]\n",
        "\n",
        "negatives = negatives.values"
      ],
      "metadata": {
        "id": "hw67En6JH7HP"
      },
      "execution_count": null,
      "outputs": []
    },
    {
      "cell_type": "code",
      "source": [
        "results = json_parser(negatives)\n",
        "\n",
        "results_FP_VH = json_parser(vh_fpos)\n",
        "\n",
        "results_FP_SVM = json_parser(svm_fpos)\n",
        "\n",
        "print('Negatives: ', results)\n",
        "print('False positives VH: ', results_FP_VH)\n",
        "print('False positives SVM: ', results_FP_SVM)"
      ],
      "metadata": {
        "colab": {
          "base_uri": "https://localhost:8080/"
        },
        "outputId": "8fcbac75-0ba4-448c-9fde-a605ee6b812a",
        "id": "rxJDd8gJ_fTb"
      },
      "execution_count": null,
      "outputs": [
        {
          "output_type": "stream",
          "name": "stdout",
          "text": [
            "Fetched: 500 / 7248\n",
            "Fetched: 1000 / 7248\n",
            "Fetched: 1500 / 7248\n",
            "Fetched: 2000 / 7248\n",
            "Fetched: 2500 / 7248\n",
            "Fetched: 3000 / 7248\n",
            "Fetched: 3500 / 7248\n",
            "Fetched: 4000 / 7248\n",
            "Fetched: 4500 / 7248\n",
            "Fetched: 5000 / 7248\n",
            "Fetched: 5500 / 7248\n",
            "Fetched: 6000 / 7248\n",
            "Fetched: 6500 / 7248\n",
            "Fetched: 7000 / 7248\n",
            "Fetched: 7248 / 7248\n",
            "Retrying in 3s\n",
            "Fetched: 169 / 169\n",
            "Fetched: 23 / 23\n",
            "Negatives:  [148, 1393, 756, 624, 5]\n",
            "False positives VH:  [44, 49, 25, 25, 0]\n",
            "False positives SVM:  [17, 1, 1, 0, 0]\n"
          ]
        }
      ]
    },
    {
      "cell_type": "markdown",
      "source": [
        "#### Rates computation"
      ],
      "metadata": {
        "id": "CW5NvA9si_Dl"
      }
    },
    {
      "cell_type": "code",
      "source": [
        "results = np.array(results)\n",
        "results_FP_VH = np.array(results_FP_VH)\n",
        "results_FP_SVM = np.array(results_FP_SVM)"
      ],
      "metadata": {
        "id": "lXMaIERsjBKu"
      },
      "execution_count": null,
      "outputs": []
    },
    {
      "cell_type": "code",
      "source": [
        "# labels:\n",
        "# vh = VonHejne   ; svm = Support Vector Machine\n",
        "# tm = Transmembrane ;   tp = transit peptides ; tpm = transit mithocondrion ; tpc = transit Chloroplast ; tpp = transit peroxisome\n",
        "\n",
        "tm_vh,tp_vh,tpm_vh,tpc_vh,tpp_vh = results_FP_VH/ results\n",
        "tm_svm,tp_svm,tpm_svm,tpc_svm,tpp_svm = results_FP_SVM/ results"
      ],
      "metadata": {
        "id": "g9Qs6auyjjd_"
      },
      "execution_count": null,
      "outputs": []
    },
    {
      "cell_type": "code",
      "source": [
        "# FP/(FP+TN)\n",
        "TN = len(negatives)\n",
        "FP_VH = len(vh_fpos)\n",
        "FP_SVM = len(svm_fpos)\n",
        "FPR_VH = FP_VH/TN\n",
        "FPR_SVM = FP_SVM/TN"
      ],
      "metadata": {
        "id": "cImoUZwwka3d"
      },
      "execution_count": null,
      "outputs": []
    },
    {
      "cell_type": "code",
      "source": [
        "print(FPR_VH,tm_vh,tp_vh,tpm_vh,tpc_vh,tpp_vh) "
      ],
      "metadata": {
        "colab": {
          "base_uri": "https://localhost:8080/"
        },
        "id": "ijhP836pn7mh",
        "outputId": "c5257a3d-4eec-4a88-ed98-eee40ef9d49a"
      },
      "execution_count": null,
      "outputs": [
        {
          "output_type": "stream",
          "name": "stdout",
          "text": [
            "0.023319994480474678 0.2972972972972973 0.035175879396984924 0.03306878306878307 0.04006410256410257 0.0\n"
          ]
        }
      ]
    },
    {
      "cell_type": "code",
      "source": [
        "print(FPR_SVM,tm_svm,tp_svm,tpm_svm,tpc_svm,tpp_svm)"
      ],
      "metadata": {
        "colab": {
          "base_uri": "https://localhost:8080/"
        },
        "id": "-bEpQEoFn_WG",
        "outputId": "df446fb0-8c02-43dc-db14-3bd05f687103"
      },
      "execution_count": null,
      "outputs": [
        {
          "output_type": "stream",
          "name": "stdout",
          "text": [
            "0.0031737270594728853 0.11486486486486487 0.0007178750897343862 0.0013227513227513227 0.0 0.0\n"
          ]
        }
      ]
    },
    {
      "cell_type": "code",
      "source": [
        "table_rates = pd.DataFrame(columns=[\"FPR\",\"Transmembrane FPR\",\"Transit Peptides FPR\",\"Mithocondrion FPR\",\"Chloroplast FPR\",\"Peroxisome FPR\"],index=[\"Von Heijne\",\"SVM\"])\n",
        "table_rates.loc[\"Von Heijne\"] = [FPR_VH,tm_vh,tp_vh,tpm_vh,tpc_vh,tpp_vh]\n",
        "table_rates.loc[\"SVM\"] = [FPR_SVM,tm_svm,tp_svm,tpm_svm,tpc_svm,tpp_svm]\n",
        "table_rates.transpose()"
      ],
      "metadata": {
        "colab": {
          "base_uri": "https://localhost:8080/",
          "height": 238
        },
        "id": "BF6WmxJurkRs",
        "outputId": "ce82663d-e4cd-444c-a828-984c44548c4a"
      },
      "execution_count": null,
      "outputs": [
        {
          "output_type": "execute_result",
          "data": {
            "text/plain": [
              "                     Von Heijne       SVM\n",
              "FPR                     0.02332  0.003174\n",
              "Transmembrane FPR      0.297297  0.114865\n",
              "Transit Peptides FPR   0.035176  0.000718\n",
              "Mithocondrion FPR      0.033069  0.001323\n",
              "Chloroplast FPR        0.040064       0.0\n",
              "Peroxisome FPR              0.0       0.0"
            ],
            "text/html": [
              "\n",
              "  <div id=\"df-a7a4ddc5-ddfb-442b-b1f4-b55195c5844a\">\n",
              "    <div class=\"colab-df-container\">\n",
              "      <div>\n",
              "<style scoped>\n",
              "    .dataframe tbody tr th:only-of-type {\n",
              "        vertical-align: middle;\n",
              "    }\n",
              "\n",
              "    .dataframe tbody tr th {\n",
              "        vertical-align: top;\n",
              "    }\n",
              "\n",
              "    .dataframe thead th {\n",
              "        text-align: right;\n",
              "    }\n",
              "</style>\n",
              "<table border=\"1\" class=\"dataframe\">\n",
              "  <thead>\n",
              "    <tr style=\"text-align: right;\">\n",
              "      <th></th>\n",
              "      <th>Von Heijne</th>\n",
              "      <th>SVM</th>\n",
              "    </tr>\n",
              "  </thead>\n",
              "  <tbody>\n",
              "    <tr>\n",
              "      <th>FPR</th>\n",
              "      <td>0.02332</td>\n",
              "      <td>0.003174</td>\n",
              "    </tr>\n",
              "    <tr>\n",
              "      <th>Transmembrane FPR</th>\n",
              "      <td>0.297297</td>\n",
              "      <td>0.114865</td>\n",
              "    </tr>\n",
              "    <tr>\n",
              "      <th>Transit Peptides FPR</th>\n",
              "      <td>0.035176</td>\n",
              "      <td>0.000718</td>\n",
              "    </tr>\n",
              "    <tr>\n",
              "      <th>Mithocondrion FPR</th>\n",
              "      <td>0.033069</td>\n",
              "      <td>0.001323</td>\n",
              "    </tr>\n",
              "    <tr>\n",
              "      <th>Chloroplast FPR</th>\n",
              "      <td>0.040064</td>\n",
              "      <td>0.0</td>\n",
              "    </tr>\n",
              "    <tr>\n",
              "      <th>Peroxisome FPR</th>\n",
              "      <td>0.0</td>\n",
              "      <td>0.0</td>\n",
              "    </tr>\n",
              "  </tbody>\n",
              "</table>\n",
              "</div>\n",
              "      <button class=\"colab-df-convert\" onclick=\"convertToInteractive('df-a7a4ddc5-ddfb-442b-b1f4-b55195c5844a')\"\n",
              "              title=\"Convert this dataframe to an interactive table.\"\n",
              "              style=\"display:none;\">\n",
              "        \n",
              "  <svg xmlns=\"http://www.w3.org/2000/svg\" height=\"24px\"viewBox=\"0 0 24 24\"\n",
              "       width=\"24px\">\n",
              "    <path d=\"M0 0h24v24H0V0z\" fill=\"none\"/>\n",
              "    <path d=\"M18.56 5.44l.94 2.06.94-2.06 2.06-.94-2.06-.94-.94-2.06-.94 2.06-2.06.94zm-11 1L8.5 8.5l.94-2.06 2.06-.94-2.06-.94L8.5 2.5l-.94 2.06-2.06.94zm10 10l.94 2.06.94-2.06 2.06-.94-2.06-.94-.94-2.06-.94 2.06-2.06.94z\"/><path d=\"M17.41 7.96l-1.37-1.37c-.4-.4-.92-.59-1.43-.59-.52 0-1.04.2-1.43.59L10.3 9.45l-7.72 7.72c-.78.78-.78 2.05 0 2.83L4 21.41c.39.39.9.59 1.41.59.51 0 1.02-.2 1.41-.59l7.78-7.78 2.81-2.81c.8-.78.8-2.07 0-2.86zM5.41 20L4 18.59l7.72-7.72 1.47 1.35L5.41 20z\"/>\n",
              "  </svg>\n",
              "      </button>\n",
              "      \n",
              "  <style>\n",
              "    .colab-df-container {\n",
              "      display:flex;\n",
              "      flex-wrap:wrap;\n",
              "      gap: 12px;\n",
              "    }\n",
              "\n",
              "    .colab-df-convert {\n",
              "      background-color: #E8F0FE;\n",
              "      border: none;\n",
              "      border-radius: 50%;\n",
              "      cursor: pointer;\n",
              "      display: none;\n",
              "      fill: #1967D2;\n",
              "      height: 32px;\n",
              "      padding: 0 0 0 0;\n",
              "      width: 32px;\n",
              "    }\n",
              "\n",
              "    .colab-df-convert:hover {\n",
              "      background-color: #E2EBFA;\n",
              "      box-shadow: 0px 1px 2px rgba(60, 64, 67, 0.3), 0px 1px 3px 1px rgba(60, 64, 67, 0.15);\n",
              "      fill: #174EA6;\n",
              "    }\n",
              "\n",
              "    [theme=dark] .colab-df-convert {\n",
              "      background-color: #3B4455;\n",
              "      fill: #D2E3FC;\n",
              "    }\n",
              "\n",
              "    [theme=dark] .colab-df-convert:hover {\n",
              "      background-color: #434B5C;\n",
              "      box-shadow: 0px 1px 3px 1px rgba(0, 0, 0, 0.15);\n",
              "      filter: drop-shadow(0px 1px 2px rgba(0, 0, 0, 0.3));\n",
              "      fill: #FFFFFF;\n",
              "    }\n",
              "  </style>\n",
              "\n",
              "      <script>\n",
              "        const buttonEl =\n",
              "          document.querySelector('#df-a7a4ddc5-ddfb-442b-b1f4-b55195c5844a button.colab-df-convert');\n",
              "        buttonEl.style.display =\n",
              "          google.colab.kernel.accessAllowed ? 'block' : 'none';\n",
              "\n",
              "        async function convertToInteractive(key) {\n",
              "          const element = document.querySelector('#df-a7a4ddc5-ddfb-442b-b1f4-b55195c5844a');\n",
              "          const dataTable =\n",
              "            await google.colab.kernel.invokeFunction('convertToInteractive',\n",
              "                                                     [key], {});\n",
              "          if (!dataTable) return;\n",
              "\n",
              "          const docLinkHtml = 'Like what you see? Visit the ' +\n",
              "            '<a target=\"_blank\" href=https://colab.research.google.com/notebooks/data_table.ipynb>data table notebook</a>'\n",
              "            + ' to learn more about interactive tables.';\n",
              "          element.innerHTML = '';\n",
              "          dataTable['output_type'] = 'display_data';\n",
              "          await google.colab.output.renderOutput(dataTable, element);\n",
              "          const docLink = document.createElement('div');\n",
              "          docLink.innerHTML = docLinkHtml;\n",
              "          element.appendChild(docLink);\n",
              "        }\n",
              "      </script>\n",
              "    </div>\n",
              "  </div>\n",
              "  "
            ]
          },
          "metadata": {},
          "execution_count": 206
        }
      ]
    },
    {
      "cell_type": "code",
      "source": [
        "# table_rates = table_rates.style.set_caption(\"False Positive Rates Comparison\")\n",
        "# table_rates = table_rates.set_table_styles([dict(selector = 'th', props=[('text-align', 'left')])])\n",
        "dfi.export(table_rates.transpose(),\"FalsePos_rates.png\")\n",
        "table_rates"
      ],
      "metadata": {
        "colab": {
          "base_uri": "https://localhost:8080/",
          "height": 112
        },
        "id": "W4hH03-6tDqm",
        "outputId": "129bba44-1c0a-4b5c-b028-8a0c555763d7"
      },
      "execution_count": null,
      "outputs": [
        {
          "output_type": "execute_result",
          "data": {
            "text/plain": [
              "                 FPR Transmembrane FPR Transit Peptides FPR Mithocondrion FPR  \\\n",
              "Von Heijne   0.02332          0.297297             0.035176          0.033069   \n",
              "SVM         0.003174          0.114865             0.000718          0.001323   \n",
              "\n",
              "           Chloroplast FPR Peroxisome FPR  \n",
              "Von Heijne        0.040064            0.0  \n",
              "SVM                    0.0            0.0  "
            ],
            "text/html": [
              "\n",
              "  <div id=\"df-a1b09d67-1141-4f0d-932d-28a47531f017\">\n",
              "    <div class=\"colab-df-container\">\n",
              "      <div>\n",
              "<style scoped>\n",
              "    .dataframe tbody tr th:only-of-type {\n",
              "        vertical-align: middle;\n",
              "    }\n",
              "\n",
              "    .dataframe tbody tr th {\n",
              "        vertical-align: top;\n",
              "    }\n",
              "\n",
              "    .dataframe thead th {\n",
              "        text-align: right;\n",
              "    }\n",
              "</style>\n",
              "<table border=\"1\" class=\"dataframe\">\n",
              "  <thead>\n",
              "    <tr style=\"text-align: right;\">\n",
              "      <th></th>\n",
              "      <th>FPR</th>\n",
              "      <th>Transmembrane FPR</th>\n",
              "      <th>Transit Peptides FPR</th>\n",
              "      <th>Mithocondrion FPR</th>\n",
              "      <th>Chloroplast FPR</th>\n",
              "      <th>Peroxisome FPR</th>\n",
              "    </tr>\n",
              "  </thead>\n",
              "  <tbody>\n",
              "    <tr>\n",
              "      <th>Von Heijne</th>\n",
              "      <td>0.02332</td>\n",
              "      <td>0.297297</td>\n",
              "      <td>0.035176</td>\n",
              "      <td>0.033069</td>\n",
              "      <td>0.040064</td>\n",
              "      <td>0.0</td>\n",
              "    </tr>\n",
              "    <tr>\n",
              "      <th>SVM</th>\n",
              "      <td>0.003174</td>\n",
              "      <td>0.114865</td>\n",
              "      <td>0.000718</td>\n",
              "      <td>0.001323</td>\n",
              "      <td>0.0</td>\n",
              "      <td>0.0</td>\n",
              "    </tr>\n",
              "  </tbody>\n",
              "</table>\n",
              "</div>\n",
              "      <button class=\"colab-df-convert\" onclick=\"convertToInteractive('df-a1b09d67-1141-4f0d-932d-28a47531f017')\"\n",
              "              title=\"Convert this dataframe to an interactive table.\"\n",
              "              style=\"display:none;\">\n",
              "        \n",
              "  <svg xmlns=\"http://www.w3.org/2000/svg\" height=\"24px\"viewBox=\"0 0 24 24\"\n",
              "       width=\"24px\">\n",
              "    <path d=\"M0 0h24v24H0V0z\" fill=\"none\"/>\n",
              "    <path d=\"M18.56 5.44l.94 2.06.94-2.06 2.06-.94-2.06-.94-.94-2.06-.94 2.06-2.06.94zm-11 1L8.5 8.5l.94-2.06 2.06-.94-2.06-.94L8.5 2.5l-.94 2.06-2.06.94zm10 10l.94 2.06.94-2.06 2.06-.94-2.06-.94-.94-2.06-.94 2.06-2.06.94z\"/><path d=\"M17.41 7.96l-1.37-1.37c-.4-.4-.92-.59-1.43-.59-.52 0-1.04.2-1.43.59L10.3 9.45l-7.72 7.72c-.78.78-.78 2.05 0 2.83L4 21.41c.39.39.9.59 1.41.59.51 0 1.02-.2 1.41-.59l7.78-7.78 2.81-2.81c.8-.78.8-2.07 0-2.86zM5.41 20L4 18.59l7.72-7.72 1.47 1.35L5.41 20z\"/>\n",
              "  </svg>\n",
              "      </button>\n",
              "      \n",
              "  <style>\n",
              "    .colab-df-container {\n",
              "      display:flex;\n",
              "      flex-wrap:wrap;\n",
              "      gap: 12px;\n",
              "    }\n",
              "\n",
              "    .colab-df-convert {\n",
              "      background-color: #E8F0FE;\n",
              "      border: none;\n",
              "      border-radius: 50%;\n",
              "      cursor: pointer;\n",
              "      display: none;\n",
              "      fill: #1967D2;\n",
              "      height: 32px;\n",
              "      padding: 0 0 0 0;\n",
              "      width: 32px;\n",
              "    }\n",
              "\n",
              "    .colab-df-convert:hover {\n",
              "      background-color: #E2EBFA;\n",
              "      box-shadow: 0px 1px 2px rgba(60, 64, 67, 0.3), 0px 1px 3px 1px rgba(60, 64, 67, 0.15);\n",
              "      fill: #174EA6;\n",
              "    }\n",
              "\n",
              "    [theme=dark] .colab-df-convert {\n",
              "      background-color: #3B4455;\n",
              "      fill: #D2E3FC;\n",
              "    }\n",
              "\n",
              "    [theme=dark] .colab-df-convert:hover {\n",
              "      background-color: #434B5C;\n",
              "      box-shadow: 0px 1px 3px 1px rgba(0, 0, 0, 0.15);\n",
              "      filter: drop-shadow(0px 1px 2px rgba(0, 0, 0, 0.3));\n",
              "      fill: #FFFFFF;\n",
              "    }\n",
              "  </style>\n",
              "\n",
              "      <script>\n",
              "        const buttonEl =\n",
              "          document.querySelector('#df-a1b09d67-1141-4f0d-932d-28a47531f017 button.colab-df-convert');\n",
              "        buttonEl.style.display =\n",
              "          google.colab.kernel.accessAllowed ? 'block' : 'none';\n",
              "\n",
              "        async function convertToInteractive(key) {\n",
              "          const element = document.querySelector('#df-a1b09d67-1141-4f0d-932d-28a47531f017');\n",
              "          const dataTable =\n",
              "            await google.colab.kernel.invokeFunction('convertToInteractive',\n",
              "                                                     [key], {});\n",
              "          if (!dataTable) return;\n",
              "\n",
              "          const docLinkHtml = 'Like what you see? Visit the ' +\n",
              "            '<a target=\"_blank\" href=https://colab.research.google.com/notebooks/data_table.ipynb>data table notebook</a>'\n",
              "            + ' to learn more about interactive tables.';\n",
              "          element.innerHTML = '';\n",
              "          dataTable['output_type'] = 'display_data';\n",
              "          await google.colab.output.renderOutput(dataTable, element);\n",
              "          const docLink = document.createElement('div');\n",
              "          docLink.innerHTML = docLinkHtml;\n",
              "          element.appendChild(docLink);\n",
              "        }\n",
              "      </script>\n",
              "    </div>\n",
              "  </div>\n",
              "  "
            ]
          },
          "metadata": {},
          "execution_count": 207
        }
      ]
    },
    {
      "cell_type": "code",
      "source": [
        "table_rates.to_excel(\"FPR.xlsx\")"
      ],
      "metadata": {
        "id": "5CbWcurStcYT"
      },
      "execution_count": null,
      "outputs": []
    },
    {
      "cell_type": "markdown",
      "source": [
        "## False Negatives"
      ],
      "metadata": {
        "id": "vOc3jH41NJyw"
      }
    },
    {
      "cell_type": "markdown",
      "source": [
        "### SVM"
      ],
      "metadata": {
        "id": "4bqioi2UqLAR"
      }
    },
    {
      "cell_type": "markdown",
      "source": [
        "Check for the algorithms assumptions:\n",
        "\n",
        "- Support Vector Machines -> analyze length distribution wrt expected length, and same for composition"
      ],
      "metadata": {
        "id": "7dXMQwnENLdm"
      }
    },
    {
      "cell_type": "code",
      "source": [
        "# Extract false negatives\n",
        "\n",
        "results = []\n",
        "\n",
        "for i in range(len(y_pred)):\n",
        "  if bm_df['Real Class'][i] == 1.0 and y_pred[i] == 0:\n",
        "    results.append('FN')\n",
        "  elif bm_df['Real Class'][i] == 0.0 and y_pred[i] == 1:\n",
        "    results.append('FP')\n",
        "  else:\n",
        "    results.append('True')\n",
        "\n",
        "bm_df['Results'] = results\n",
        "\n",
        "fneg_df = bm_df[bm_df['Results'] == 'FN'][['UniProtKB accession', 'Kingdom', 'Sequence (first 50 N-terminal residues)', 'SP cleavage-site annotation']]"
      ],
      "metadata": {
        "id": "ceUUOGqlnv7E"
      },
      "execution_count": null,
      "outputs": []
    },
    {
      "cell_type": "markdown",
      "source": [
        "#### False negatives have a different length distribution: length distribution analysis"
      ],
      "metadata": {
        "id": "AQB83ATpy8IT"
      }
    },
    {
      "cell_type": "code",
      "source": [
        "# False negatives length distribution\n",
        "fneg_lengths = []\n",
        "for sp in fneg_df[\"SP cleavage-site annotation\"]:\n",
        "  count = 0\n",
        "  for char in sp:\n",
        "    if char == 'S':\n",
        "      count += 1\n",
        "  fneg_lengths.append(count)\n",
        "\n",
        "# plot\n",
        "ax = sns.histplot(fneg_lengths, binwidth=3)\n",
        "\n",
        "ax.set(xlabel='Length', ylabel='Count', title='False negatives length distribution')\n",
        "img = ax.get_figure()\n",
        "plt.show()\n",
        "img.savefig('FalseNeg_length_histplot.png')"
      ],
      "metadata": {
        "colab": {
          "base_uri": "https://localhost:8080/",
          "height": 302
        },
        "id": "BDki3Wtty7ic",
        "outputId": "2f8c035c-7d60-422b-d317-b46bb2b24cb7"
      },
      "execution_count": null,
      "outputs": [
        {
          "output_type": "display_data",
          "data": {
            "text/plain": [
              "<Figure size 432x288 with 1 Axes>"
            ],
            "image/png": "[encoded data removed]"
          },
          "metadata": {
            "needs_background": "light"
          }
        }
      ]
    },
    {
      "cell_type": "code",
      "source": [
        "# True Positives length distribution\n",
        "\n",
        "bm_sp = bm_df[bm_df['Real Class'] == 1]\n",
        "bm_lengths = []\n",
        "for sp in bm_sp[\"SP cleavage-site annotation\"]:\n",
        "  count = 0\n",
        "  for char in sp:\n",
        "    if char == 'S':\n",
        "      count += 1\n",
        "  bm_lengths.append(count)\n",
        "\n",
        "ax = sns.histplot(bm_lengths, binwidth=3)\n",
        "\n",
        "ax.set(xlabel='Length', ylabel='Count', title='True Positives length distribution')\n",
        "img = ax.get_figure()\n",
        "img.savefig('TruePos_length_histplot.png')"
      ],
      "metadata": {
        "colab": {
          "base_uri": "https://localhost:8080/",
          "height": 302
        },
        "id": "qZ6RRaCW1b83",
        "outputId": "6eaf9d80-a55a-468f-9f32-a06b3fd26dd4"
      },
      "execution_count": null,
      "outputs": [
        {
          "output_type": "display_data",
          "data": {
            "text/plain": [
              "<Figure size 432x288 with 1 Axes>"
            ],
            "image/png": "[encoded data removed]"
          },
          "metadata": {
            "needs_background": "light"
          }
        }
      ]
    },
    {
      "cell_type": "markdown",
      "source": [
        "#### False negatives have a different composition: compositional analysis"
      ],
      "metadata": {
        "id": "pwu2YgNhyMgo"
      }
    },
    {
      "cell_type": "code",
      "source": [
        "# Training SP composition\n",
        "\n",
        "df = pd.read_table('training_set.tsv')\n",
        "df_sp = df[df.Class == 'SP']\n",
        "num_seq = df_sp.shape[0]\n",
        "\n",
        "sp_freq = {}\n",
        "for n_term in df_sp[\"Sequence (first 50 N-terminal residues)\"]:\n",
        "  for aa in n_term:\n",
        "    if aa in sp_freq:\n",
        "      sp_freq[aa] += 100/(num_seq*50)\n",
        "    else: \n",
        "      sp_freq[aa] = 0\n",
        "      \n",
        "print(sp_freq)\n",
        "\n",
        "# Convert dict to df\n",
        "sp_freq_df = pd.DataFrame.from_dict(sp_freq, orient='index')\n",
        "sp_freq_df.columns = ['freq']\n",
        "sp_freq_df.reset_index(level=0, inplace=True)\n",
        "\n",
        "# Sort by polarity\n",
        "sp_freq_df['index'] = pd.Categorical(sp_freq_df['index'], [\"G\",\"A\",\"V\",\"P\",\"L\",\"I\",\"M\",\"F\",\"W\",\"Y\",\"S\",\"T\",\"C\",\"N\",\"Q\",\"H\",\"D\",\"E\",\"K\",\"R\"])\n",
        "sp_freq_df.sort_values(\"index\",inplace=True)\n",
        "sp_freq_df.rename(columns={'index':'id'}, inplace=True)\n",
        "sp_freq_df.tail()"
      ],
      "metadata": {
        "colab": {
          "base_uri": "https://localhost:8080/",
          "height": 244
        },
        "id": "2HAC-oB3NSoj",
        "outputId": "b34754ed-3fab-4351-fb0e-f0520749c18a"
      },
      "execution_count": null,
      "outputs": [
        {
          "output_type": "stream",
          "name": "stdout",
          "text": [
            "{'M': 3.7054263565891534, 'R': 3.8294573643410916, 'F': 4.372093023255821, 'L': 13.930232558139558, 'A': 9.558139534883736, 'T': 5.465116279069776, 'S': 7.612403100775206, 'Q': 3.240310077519385, 'E': 4.000000000000006, 'P': 5.333333333333342, 'V': 7.56589147286823, 'K': 4.007751937984502, 'D': 3.3875968992248118, 'C': 3.8682170542635723, 'G': 7.255813953488384, 'I': 4.178294573643417, 'N': 3.0232558139534933, 'Y': 2.263565891472872, 'W': 1.5658914728682196, 'H': 1.6821705426356617}\n"
          ]
        },
        {
          "output_type": "execute_result",
          "data": {
            "text/plain": [
              "   id      freq\n",
              "19  H  1.682171\n",
              "12  D  3.387597\n",
              "8   E  4.000000\n",
              "11  K  4.007752\n",
              "1   R  3.829457"
            ],
            "text/html": [
              "\n",
              "  <div id=\"df-d085d195-dbfe-41c3-8a63-eaac152611ed\">\n",
              "    <div class=\"colab-df-container\">\n",
              "      <div>\n",
              "<style scoped>\n",
              "    .dataframe tbody tr th:only-of-type {\n",
              "        vertical-align: middle;\n",
              "    }\n",
              "\n",
              "    .dataframe tbody tr th {\n",
              "        vertical-align: top;\n",
              "    }\n",
              "\n",
              "    .dataframe thead th {\n",
              "        text-align: right;\n",
              "    }\n",
              "</style>\n",
              "<table border=\"1\" class=\"dataframe\">\n",
              "  <thead>\n",
              "    <tr style=\"text-align: right;\">\n",
              "      <th></th>\n",
              "      <th>id</th>\n",
              "      <th>freq</th>\n",
              "    </tr>\n",
              "  </thead>\n",
              "  <tbody>\n",
              "    <tr>\n",
              "      <th>19</th>\n",
              "      <td>H</td>\n",
              "      <td>1.682171</td>\n",
              "    </tr>\n",
              "    <tr>\n",
              "      <th>12</th>\n",
              "      <td>D</td>\n",
              "      <td>3.387597</td>\n",
              "    </tr>\n",
              "    <tr>\n",
              "      <th>8</th>\n",
              "      <td>E</td>\n",
              "      <td>4.000000</td>\n",
              "    </tr>\n",
              "    <tr>\n",
              "      <th>11</th>\n",
              "      <td>K</td>\n",
              "      <td>4.007752</td>\n",
              "    </tr>\n",
              "    <tr>\n",
              "      <th>1</th>\n",
              "      <td>R</td>\n",
              "      <td>3.829457</td>\n",
              "    </tr>\n",
              "  </tbody>\n",
              "</table>\n",
              "</div>\n",
              "      <button class=\"colab-df-convert\" onclick=\"convertToInteractive('df-d085d195-dbfe-41c3-8a63-eaac152611ed')\"\n",
              "              title=\"Convert this dataframe to an interactive table.\"\n",
              "              style=\"display:none;\">\n",
              "        \n",
              "  <svg xmlns=\"http://www.w3.org/2000/svg\" height=\"24px\"viewBox=\"0 0 24 24\"\n",
              "       width=\"24px\">\n",
              "    <path d=\"M0 0h24v24H0V0z\" fill=\"none\"/>\n",
              "    <path d=\"M18.56 5.44l.94 2.06.94-2.06 2.06-.94-2.06-.94-.94-2.06-.94 2.06-2.06.94zm-11 1L8.5 8.5l.94-2.06 2.06-.94-2.06-.94L8.5 2.5l-.94 2.06-2.06.94zm10 10l.94 2.06.94-2.06 2.06-.94-2.06-.94-.94-2.06-.94 2.06-2.06.94z\"/><path d=\"M17.41 7.96l-1.37-1.37c-.4-.4-.92-.59-1.43-.59-.52 0-1.04.2-1.43.59L10.3 9.45l-7.72 7.72c-.78.78-.78 2.05 0 2.83L4 21.41c.39.39.9.59 1.41.59.51 0 1.02-.2 1.41-.59l7.78-7.78 2.81-2.81c.8-.78.8-2.07 0-2.86zM5.41 20L4 18.59l7.72-7.72 1.47 1.35L5.41 20z\"/>\n",
              "  </svg>\n",
              "      </button>\n",
              "      \n",
              "  <style>\n",
              "    .colab-df-container {\n",
              "      display:flex;\n",
              "      flex-wrap:wrap;\n",
              "      gap: 12px;\n",
              "    }\n",
              "\n",
              "    .colab-df-convert {\n",
              "      background-color: #E8F0FE;\n",
              "      border: none;\n",
              "      border-radius: 50%;\n",
              "      cursor: pointer;\n",
              "      display: none;\n",
              "      fill: #1967D2;\n",
              "      height: 32px;\n",
              "      padding: 0 0 0 0;\n",
              "      width: 32px;\n",
              "    }\n",
              "\n",
              "    .colab-df-convert:hover {\n",
              "      background-color: #E2EBFA;\n",
              "      box-shadow: 0px 1px 2px rgba(60, 64, 67, 0.3), 0px 1px 3px 1px rgba(60, 64, 67, 0.15);\n",
              "      fill: #174EA6;\n",
              "    }\n",
              "\n",
              "    [theme=dark] .colab-df-convert {\n",
              "      background-color: #3B4455;\n",
              "      fill: #D2E3FC;\n",
              "    }\n",
              "\n",
              "    [theme=dark] .colab-df-convert:hover {\n",
              "      background-color: #434B5C;\n",
              "      box-shadow: 0px 1px 3px 1px rgba(0, 0, 0, 0.15);\n",
              "      filter: drop-shadow(0px 1px 2px rgba(0, 0, 0, 0.3));\n",
              "      fill: #FFFFFF;\n",
              "    }\n",
              "  </style>\n",
              "\n",
              "      <script>\n",
              "        const buttonEl =\n",
              "          document.querySelector('#df-d085d195-dbfe-41c3-8a63-eaac152611ed button.colab-df-convert');\n",
              "        buttonEl.style.display =\n",
              "          google.colab.kernel.accessAllowed ? 'block' : 'none';\n",
              "\n",
              "        async function convertToInteractive(key) {\n",
              "          const element = document.querySelector('#df-d085d195-dbfe-41c3-8a63-eaac152611ed');\n",
              "          const dataTable =\n",
              "            await google.colab.kernel.invokeFunction('convertToInteractive',\n",
              "                                                     [key], {});\n",
              "          if (!dataTable) return;\n",
              "\n",
              "          const docLinkHtml = 'Like what you see? Visit the ' +\n",
              "            '<a target=\"_blank\" href=https://colab.research.google.com/notebooks/data_table.ipynb>data table notebook</a>'\n",
              "            + ' to learn more about interactive tables.';\n",
              "          element.innerHTML = '';\n",
              "          dataTable['output_type'] = 'display_data';\n",
              "          await google.colab.output.renderOutput(dataTable, element);\n",
              "          const docLink = document.createElement('div');\n",
              "          docLink.innerHTML = docLinkHtml;\n",
              "          element.appendChild(docLink);\n",
              "        }\n",
              "      </script>\n",
              "    </div>\n",
              "  </div>\n",
              "  "
            ]
          },
          "metadata": {},
          "execution_count": 16
        }
      ]
    },
    {
      "cell_type": "code",
      "source": [
        "sp_freq_df['freq'].sum()"
      ],
      "metadata": {
        "colab": {
          "base_uri": "https://localhost:8080/"
        },
        "id": "LgwNDX1Wsc7v",
        "outputId": "a6792d36-e248-49ba-898e-ff5aa8c93385"
      },
      "execution_count": null,
      "outputs": [
        {
          "output_type": "execute_result",
          "data": {
            "text/plain": [
              "99.84496124031024"
            ]
          },
          "metadata": {},
          "execution_count": 17
        }
      ]
    },
    {
      "cell_type": "code",
      "source": [
        "# Benchmark SP composition\n",
        "\n",
        "bm_sp = bm_df[bm_df['Real Class'] == 1]\n",
        "\n",
        "sp_freq = {}\n",
        "for n_term in bm_sp[\"Sequence (first 50 N-terminal residues)\"]:\n",
        "  for aa in n_term:\n",
        "    if aa in sp_freq:\n",
        "      sp_freq[aa] += 100/(209*50)\n",
        "    else: \n",
        "      sp_freq[aa] = 0\n",
        "\n",
        "# Convert dict to df\n",
        "bm_sp_freq_df = pd.DataFrame.from_dict(sp_freq, orient='index')\n",
        "bm_sp_freq_df.columns = ['freq']\n",
        "bm_sp_freq_df.reset_index(level=0, inplace=True)\n",
        "\n",
        "# Sort by polarity\n",
        "bm_sp_freq_df['index'] = pd.Categorical(bm_sp_freq_df['index'], [\"G\",\"A\",\"V\",\"P\",\"L\",\"I\",\"M\",\"F\",\"W\",\"Y\",\"S\",\"T\",\"C\",\"N\",\"Q\",\"H\",\"D\",\"E\",\"K\",\"R\"])\n",
        "bm_sp_freq_df.sort_values(\"index\",inplace=True)\n",
        "bm_sp_freq_df.rename(columns={'index':'id'}, inplace=True)\n",
        "bm_sp_freq_df.tail()\n",
        "\n",
        "# Plot\n",
        "sns.barplot(bm_sp_freq_df['id'], y=bm_sp_freq_df['freq'])"
      ],
      "metadata": {
        "colab": {
          "base_uri": "https://localhost:8080/",
          "height": 359
        },
        "id": "BOE0LsTqNK_8",
        "outputId": "b2ee27ad-1644-4a6c-9552-a50b8354426a"
      },
      "execution_count": null,
      "outputs": [
        {
          "output_type": "stream",
          "name": "stderr",
          "text": [
            "/usr/local/lib/python3.8/dist-packages/seaborn/_decorators.py:36: FutureWarning: Pass the following variable as a keyword arg: x. From version 0.12, the only valid positional argument will be `data`, and passing other arguments without an explicit keyword will result in an error or misinterpretation.\n",
            "  warnings.warn(\n"
          ]
        },
        {
          "output_type": "execute_result",
          "data": {
            "text/plain": [
              "<matplotlib.axes._subplots.AxesSubplot at 0x7f222c926ee0>"
            ]
          },
          "metadata": {},
          "execution_count": 18
        },
        {
          "output_type": "display_data",
          "data": {
            "text/plain": [
              "<Figure size 432x288 with 1 Axes>"
            ],
            "image/png": "[encoded data removed]"
          },
          "metadata": {
            "needs_background": "light"
          }
        }
      ]
    },
    {
      "cell_type": "code",
      "source": [
        "bm_sp_freq_df['freq'].sum()"
      ],
      "metadata": {
        "colab": {
          "base_uri": "https://localhost:8080/"
        },
        "id": "NC7AqePatgT0",
        "outputId": "870d5a8b-7597-443d-d819-9340a13f1de8"
      },
      "execution_count": null,
      "outputs": [
        {
          "output_type": "execute_result",
          "data": {
            "text/plain": [
              "99.80861244019184"
            ]
          },
          "metadata": {},
          "execution_count": 19
        }
      ]
    },
    {
      "cell_type": "code",
      "source": [
        "# False negatives SP composition\n",
        "\n",
        "fneg_sp_freq = {}\n",
        "for n_term in fneg_df[\"Sequence (first 50 N-terminal residues)\"]:\n",
        "  for aa in n_term:\n",
        "    if aa in fneg_sp_freq:\n",
        "      fneg_sp_freq[aa] += 100/(110*50)\n",
        "    else: \n",
        "      fneg_sp_freq[aa] = 0\n",
        "      \n",
        "# Convert dict to df\n",
        "fneg_sp_freq_df = pd.DataFrame.from_dict(fneg_sp_freq, orient='index')\n",
        "fneg_sp_freq_df.columns = ['freq']\n",
        "fneg_sp_freq_df.reset_index(level=0, inplace=True)\n",
        "\n",
        "# Sort by polarity\n",
        "fneg_sp_freq_df['index'] = pd.Categorical(fneg_sp_freq_df['index'], [\"G\",\"A\",\"V\",\"P\",\"L\",\"I\",\"M\",\"F\",\"W\",\"Y\",\"S\",\"T\",\"C\",\"N\",\"Q\",\"H\",\"D\",\"E\",\"K\",\"R\"])\n",
        "fneg_sp_freq_df.sort_values(\"index\",inplace=True)\n",
        "fneg_sp_freq_df.rename(columns={'index':'id'}, inplace=True)\n",
        "fneg_sp_freq_df.tail()\n",
        "\n",
        "# Plot\n",
        "sns.barplot(fneg_sp_freq_df['id'], y=fneg_sp_freq_df['freq'])"
      ],
      "metadata": {
        "colab": {
          "base_uri": "https://localhost:8080/",
          "height": 358
        },
        "id": "RqIe7SOfrgYp",
        "outputId": "22bdd038-2a8c-4e78-c662-0d3cc4f08892"
      },
      "execution_count": null,
      "outputs": [
        {
          "output_type": "stream",
          "name": "stderr",
          "text": [
            "/usr/local/lib/python3.8/dist-packages/seaborn/_decorators.py:36: FutureWarning: Pass the following variable as a keyword arg: x. From version 0.12, the only valid positional argument will be `data`, and passing other arguments without an explicit keyword will result in an error or misinterpretation.\n",
            "  warnings.warn(\n"
          ]
        },
        {
          "output_type": "execute_result",
          "data": {
            "text/plain": [
              "<matplotlib.axes._subplots.AxesSubplot at 0x7f222c2d1760>"
            ]
          },
          "metadata": {},
          "execution_count": 22
        },
        {
          "output_type": "display_data",
          "data": {
            "text/plain": [
              "<Figure size 432x288 with 1 Axes>"
            ],
            "image/png": "[encoded data removed]"
          },
          "metadata": {
            "needs_background": "light"
          }
        }
      ]
    },
    {
      "cell_type": "code",
      "source": [
        "fneg_sp_freq_df['freq'].sum()"
      ],
      "metadata": {
        "colab": {
          "base_uri": "https://localhost:8080/"
        },
        "id": "Lh9bHjLctouO",
        "outputId": "9b3651a9-51da-4837-fc97-d4315a890e91"
      },
      "execution_count": null,
      "outputs": [
        {
          "output_type": "execute_result",
          "data": {
            "text/plain": [
              "99.63636363636353"
            ]
          },
          "metadata": {},
          "execution_count": 23
        }
      ]
    },
    {
      "cell_type": "code",
      "source": [
        "# Compare compositions - MATPLOTLIB\n",
        "\n",
        "plt.figure(figsize=(16, 6))\n",
        "width = 0.25\n",
        "sp_freq_df.shape[0]\n",
        "plt.bar(np.arange(sp_freq_df.shape[0])-width, bm_sp_freq_df[\"freq\"], width, label=\"True Positives\")\n",
        "plt.bar(np.arange(sp_freq_df.shape[0]), fneg_sp_freq_df[\"freq\"], width, label=\"False Negatives\")\n",
        "plt.bar(np.arange(sp_freq_df.shape[0])-width+0.5, sp_freq_df[\"freq\"], width, label=\"Training set\")\n",
        "\n",
        "\n",
        "plt.xticks(np.arange(len(bg_aa)), bg_aa[\"id\"])\n",
        "\n",
        "plt.title(\" \")\n",
        "plt.legend(title=\"Data\")\n",
        "plt.xlabel('Residue')\n",
        "plt.ylabel('Frequency')\n",
        "plt.savefig('FalseNeg_comparative_analysis.png')\n",
        "plt.show()"
      ],
      "metadata": {
        "colab": {
          "base_uri": "https://localhost:8080/",
          "height": 411
        },
        "id": "aTISDQChQ4gX",
        "outputId": "20cc16fd-acef-4745-a9ed-3bac6057697e"
      },
      "execution_count": null,
      "outputs": [
        {
          "output_type": "display_data",
          "data": {
            "text/plain": [
              "<Figure size 1152x432 with 1 Axes>"
            ],
            "image/png": "[encoded data removed]"
          },
          "metadata": {
            "needs_background": "light"
          }
        }
      ]
    },
    {
      "cell_type": "markdown",
      "source": [
        "##### Seaborn"
      ],
      "metadata": {
        "id": "Q-NaNheqLEN0"
      }
    },
    {
      "cell_type": "code",
      "source": [
        "# Compare compositions - SEABORN\n",
        "\n",
        "plt.figure(figsize=(16,6))\n",
        "merged = pd.merge(fneg_sp_freq_df, sp_freq_df, on='id')\n",
        "merged.rename(columns={'freq_x':'FN', 'freq_y':'TP'}, inplace=True)\n",
        "merged = merged[['id', 'TP', 'FN']]\n",
        "merged = merged.melt(id_vars=['id'], var_name='dataset', value_name='frequencies')\n",
        "merged.tail()\n",
        "\n",
        "sns.barplot(merged['id'], y=merged['frequencies'], hue=merged['dataset'])\n",
        "plt.show()"
      ],
      "metadata": {
        "colab": {
          "base_uri": "https://localhost:8080/",
          "height": 450
        },
        "id": "Ih-H8bURsNbK",
        "outputId": "d7f8e809-a713-4a3c-c794-9fa7e4239ea5"
      },
      "execution_count": null,
      "outputs": [
        {
          "output_type": "stream",
          "name": "stderr",
          "text": [
            "/usr/local/lib/python3.7/dist-packages/seaborn/_decorators.py:43: FutureWarning: Pass the following variable as a keyword arg: x. From version 0.12, the only valid positional argument will be `data`, and passing other arguments without an explicit keyword will result in an error or misinterpretation.\n",
            "  FutureWarning\n"
          ]
        },
        {
          "output_type": "display_data",
          "data": {
            "text/plain": [
              "<Figure size 1152x432 with 1 Axes>"
            ],
            "image/png": "[encoded data removed]"
          },
          "metadata": {
            "needs_background": "light"
          }
        }
      ]
    },
    {
      "cell_type": "markdown",
      "source": [
        "#### Bias toward a source organism: taxonomy analysis"
      ],
      "metadata": {
        "id": "ftv1KWx6q1BG"
      }
    },
    {
      "cell_type": "markdown",
      "source": [
        "Since the composition of the signal may differ according to source organism, the model may become specific for a given kingdom.\n",
        "To check for that: analyze the False Negatives abundances on the different \n",
        "kingdoms."
      ],
      "metadata": {
        "id": "XxzuQbnXP_Os"
      }
    },
    {
      "cell_type": "code",
      "source": [
        "# Kingdom\n",
        "kingdoms = fneg_df['Kingdom'].value_counts()\n",
        "plot = kingdoms.plot.pie(figsize=(8,8), autopct='%.2f')\n",
        "plt.ylabel('')\n",
        "plt.savefig('kingdom_bias.png')"
      ],
      "metadata": {
        "colab": {
          "base_uri": "https://localhost:8080/",
          "height": 466
        },
        "id": "DrNsY87RQfxZ",
        "outputId": "94a0b2f8-6057-49aa-b7f7-1095014c91a3"
      },
      "execution_count": null,
      "outputs": [
        {
          "output_type": "display_data",
          "data": {
            "text/plain": [
              "<Figure size 576x576 with 1 Axes>"
            ],
            "image/png": "[encoded data removed]"
          },
          "metadata": {}
        }
      ]
    },
    {
      "cell_type": "markdown",
      "source": [
        "### von Heijne"
      ],
      "metadata": {
        "id": "9VYONAu3E8GA"
      }
    },
    {
      "cell_type": "markdown",
      "source": [
        "Check for the algorithms assumptions:\n",
        "- Von Heijne method -> SP is around cleavage site; Collect FN and compute a logo(-13;+2) and compare with TP logo: in principle, the TP logo should be more similar to original set logo, while in FN logo we should see something missing.\n",
        "This allows to highlight a possibly different composition of the the False Negatives set, thus informing us that composition can't be assumed."
      ],
      "metadata": {
        "id": "qZH40Nbj0yqC"
      }
    },
    {
      "cell_type": "markdown",
      "source": [
        "#### Logo comparison"
      ],
      "metadata": {
        "id": "Arvm15rpLn6k"
      }
    },
    {
      "cell_type": "markdown",
      "source": [
        "False negatives:"
      ],
      "metadata": {
        "id": "q6CFYHRxMvD0"
      }
    },
    {
      "cell_type": "markdown",
      "source": [
        "![image.png](https://weblogo.berkeley.edu/cache/fileIeFzPF.png)"
      ],
      "metadata": {
        "id": "VSeDp92HMwe0"
      }
    },
    {
      "cell_type": "markdown",
      "source": [
        "True positives:"
      ],
      "metadata": {
        "id": "C0vLBi1PNCwJ"
      }
    },
    {
      "cell_type": "markdown",
      "source": [
        "![image.png](https://weblogo.berkeley.edu/cache/filemeAOTp.png)"
      ],
      "metadata": {
        "id": "I5NOal7MNEM8"
      }
    },
    {
      "cell_type": "markdown",
      "source": [
        "Training set:"
      ],
      "metadata": {
        "id": "GOgTUZLgNU5e"
      }
    },
    {
      "cell_type": "markdown",
      "source": [
        "![image.png](data:image/png;base64,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)"
      ],
      "metadata": {
        "id": "ikcwn1U6NRFO"
      }
    },
    {
      "cell_type": "markdown",
      "source": [
        "Training set is way more similar to the true positives in respect to the false negatives. This justify the classification error made by the model, since it is caused by a different composition."
      ],
      "metadata": {
        "id": "0dpinsuzNigv"
      }
    }
  ]
}